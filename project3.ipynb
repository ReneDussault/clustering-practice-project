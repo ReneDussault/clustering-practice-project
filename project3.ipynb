{
 "cells": [
  {
   "cell_type": "code",
   "execution_count": 1,
   "metadata": {},
   "outputs": [],
   "source": [
    "import json\n",
    "import pandas as pd\n",
    "import matplotlib.pyplot as plt\n",
    "import seaborn as sns\n",
    "import plotly.express as px\n",
    "\n",
    "import spotipy\n",
    "from spotipy.oauth2 import SpotifyClientCredentials\n",
    "\n",
    "from sklearn.cluster import KMeans\n",
    "from sklearn.decomposition import PCA\n",
    "from sklearn.preprocessing import StandardScaler\n",
    "from yellowbrick.cluster import KElbowVisualizer\n",
    "\n",
    "%matplotlib inline"
   ]
  },
  {
   "cell_type": "code",
   "execution_count": 2,
   "metadata": {},
   "outputs": [],
   "source": [
    "# opening secret keys from the secret.json file\n",
    "with open('secret.json') as f:\n",
    "    data = json.load(f)\n",
    "\n",
    "client_id = data['client_id']\n",
    "secret = data['secret']"
   ]
  },
  {
   "cell_type": "code",
   "execution_count": 3,
   "metadata": {},
   "outputs": [],
   "source": [
    "client_credentials_manager = SpotifyClientCredentials(client_id=client_id, client_secret=secret)\n",
    "sp = spotipy.Spotify(client_credentials_manager=client_credentials_manager)"
   ]
  },
  {
   "cell_type": "code",
   "execution_count": 4,
   "metadata": {},
   "outputs": [],
   "source": [
    "genres = [\"rock\", \"metal\", \"grunge\", \"pop\", \"hip-hop\", \"rap\", \"blues\", \"r&b\", \"reggae\", \"mambo\", \"latin\", \"country\", \"opera\", \"classical\", \"jazz\", \"folk\", \"accoustic\", \"disco\", \"edm\", \"electronic\", \"house\", \"techno\", \"synthwave\"]\n",
    "\n",
    "data = []\n",
    "for genre in genres:\n",
    "    playlists = sp.search(q=genre, type=\"playlist\")\n",
    "    tracks = sp.playlist_tracks(playlists[\"playlists\"][\"items\"][0][\"id\"])[\"items\"]\n",
    "    track_features = []\n",
    "    for track in tracks:\n",
    "        features = sp.audio_features(track[\"track\"][\"id\"])\n",
    "        song_name = track[\"track\"][\"name\"]\n",
    "        artist_name = track[\"track\"][\"artists\"][0][\"name\"]\n",
    "        year = track[\"track\"][\"album\"][\"release_date\"].split(\"-\")[0]\n",
    "        features[0][\"year\"] = year\n",
    "        features[0][\"song_name\"] = song_name\n",
    "        features[0][\"artist_name\"] = artist_name\n",
    "        features[0][\"genre\"] = genre\n",
    "        track_features.append(features[0])\n",
    "    data.extend(track_features)"
   ]
  },
  {
   "cell_type": "code",
   "execution_count": 5,
   "metadata": {},
   "outputs": [],
   "source": [
    "# features into a pandas dataframe\n",
    "df = pd.DataFrame(data)"
   ]
  },
  {
   "cell_type": "code",
   "execution_count": 6,
   "metadata": {},
   "outputs": [],
   "source": [
    "# converting data to dataframe\n",
    "df = df.drop([\"type\",\"uri\",\"track_href\",\"analysis_url\"], axis=1)"
   ]
  },
  {
   "cell_type": "code",
   "execution_count": 7,
   "metadata": {},
   "outputs": [
    {
     "data": {
      "text/html": [
       "<div>\n",
       "<style scoped>\n",
       "    .dataframe tbody tr th:only-of-type {\n",
       "        vertical-align: middle;\n",
       "    }\n",
       "\n",
       "    .dataframe tbody tr th {\n",
       "        vertical-align: top;\n",
       "    }\n",
       "\n",
       "    .dataframe thead th {\n",
       "        text-align: right;\n",
       "    }\n",
       "</style>\n",
       "<table border=\"1\" class=\"dataframe\">\n",
       "  <thead>\n",
       "    <tr style=\"text-align: right;\">\n",
       "      <th></th>\n",
       "      <th>danceability</th>\n",
       "      <th>energy</th>\n",
       "      <th>key</th>\n",
       "      <th>loudness</th>\n",
       "      <th>mode</th>\n",
       "      <th>speechiness</th>\n",
       "      <th>acousticness</th>\n",
       "      <th>instrumentalness</th>\n",
       "      <th>liveness</th>\n",
       "      <th>valence</th>\n",
       "      <th>tempo</th>\n",
       "      <th>id</th>\n",
       "      <th>duration_ms</th>\n",
       "      <th>time_signature</th>\n",
       "      <th>year</th>\n",
       "      <th>song_name</th>\n",
       "      <th>artist_name</th>\n",
       "      <th>genre</th>\n",
       "    </tr>\n",
       "  </thead>\n",
       "  <tbody>\n",
       "    <tr>\n",
       "      <th>0</th>\n",
       "      <td>0.437</td>\n",
       "      <td>0.965</td>\n",
       "      <td>4</td>\n",
       "      <td>-4.448</td>\n",
       "      <td>1</td>\n",
       "      <td>0.1360</td>\n",
       "      <td>0.326000</td>\n",
       "      <td>0.000280</td>\n",
       "      <td>0.1440</td>\n",
       "      <td>0.766</td>\n",
       "      <td>172.428</td>\n",
       "      <td>6HMFtoMvv6n6Q2eOyPFyne</td>\n",
       "      <td>248893</td>\n",
       "      <td>4</td>\n",
       "      <td>1985</td>\n",
       "      <td>Walk Of Life</td>\n",
       "      <td>Dire Straits</td>\n",
       "      <td>rock</td>\n",
       "    </tr>\n",
       "    <tr>\n",
       "      <th>1</th>\n",
       "      <td>0.653</td>\n",
       "      <td>0.730</td>\n",
       "      <td>5</td>\n",
       "      <td>-10.613</td>\n",
       "      <td>1</td>\n",
       "      <td>0.0429</td>\n",
       "      <td>0.011500</td>\n",
       "      <td>0.000010</td>\n",
       "      <td>0.0776</td>\n",
       "      <td>0.894</td>\n",
       "      <td>108.709</td>\n",
       "      <td>4JfuiOWlWCkjP6OKurHjSn</td>\n",
       "      <td>220311</td>\n",
       "      <td>4</td>\n",
       "      <td>1975</td>\n",
       "      <td>Walk This Way</td>\n",
       "      <td>Aerosmith</td>\n",
       "      <td>rock</td>\n",
       "    </tr>\n",
       "    <tr>\n",
       "      <th>2</th>\n",
       "      <td>0.741</td>\n",
       "      <td>0.697</td>\n",
       "      <td>0</td>\n",
       "      <td>-7.028</td>\n",
       "      <td>1</td>\n",
       "      <td>0.0277</td>\n",
       "      <td>0.066400</td>\n",
       "      <td>0.000023</td>\n",
       "      <td>0.1330</td>\n",
       "      <td>0.774</td>\n",
       "      <td>116.109</td>\n",
       "      <td>2LawezPeJhN4AWuSB0GtAU</td>\n",
       "      <td>160133</td>\n",
       "      <td>4</td>\n",
       "      <td>1970</td>\n",
       "      <td>Have You Ever Seen The Rain</td>\n",
       "      <td>Creedence Clearwater Revival</td>\n",
       "      <td>rock</td>\n",
       "    </tr>\n",
       "    <tr>\n",
       "      <th>3</th>\n",
       "      <td>0.574</td>\n",
       "      <td>0.913</td>\n",
       "      <td>6</td>\n",
       "      <td>-4.793</td>\n",
       "      <td>0</td>\n",
       "      <td>0.1330</td>\n",
       "      <td>0.061000</td>\n",
       "      <td>0.001580</td>\n",
       "      <td>0.1560</td>\n",
       "      <td>0.423</td>\n",
       "      <td>115.728</td>\n",
       "      <td>2zYzyRzz6pRmhPzyfMEC8s</td>\n",
       "      <td>208400</td>\n",
       "      <td>4</td>\n",
       "      <td>1979</td>\n",
       "      <td>Highway to Hell</td>\n",
       "      <td>AC/DC</td>\n",
       "      <td>rock</td>\n",
       "    </tr>\n",
       "    <tr>\n",
       "      <th>4</th>\n",
       "      <td>0.429</td>\n",
       "      <td>0.631</td>\n",
       "      <td>4</td>\n",
       "      <td>-11.514</td>\n",
       "      <td>0</td>\n",
       "      <td>0.0769</td>\n",
       "      <td>0.000078</td>\n",
       "      <td>0.004110</td>\n",
       "      <td>0.1750</td>\n",
       "      <td>0.376</td>\n",
       "      <td>162.734</td>\n",
       "      <td>1jzDzZWeSDBg5fhNc3tczV</td>\n",
       "      <td>168440</td>\n",
       "      <td>4</td>\n",
       "      <td>1970</td>\n",
       "      <td>Paranoid</td>\n",
       "      <td>Black Sabbath</td>\n",
       "      <td>rock</td>\n",
       "    </tr>\n",
       "    <tr>\n",
       "      <th>...</th>\n",
       "      <td>...</td>\n",
       "      <td>...</td>\n",
       "      <td>...</td>\n",
       "      <td>...</td>\n",
       "      <td>...</td>\n",
       "      <td>...</td>\n",
       "      <td>...</td>\n",
       "      <td>...</td>\n",
       "      <td>...</td>\n",
       "      <td>...</td>\n",
       "      <td>...</td>\n",
       "      <td>...</td>\n",
       "      <td>...</td>\n",
       "      <td>...</td>\n",
       "      <td>...</td>\n",
       "      <td>...</td>\n",
       "      <td>...</td>\n",
       "      <td>...</td>\n",
       "    </tr>\n",
       "    <tr>\n",
       "      <th>1578</th>\n",
       "      <td>0.782</td>\n",
       "      <td>0.640</td>\n",
       "      <td>5</td>\n",
       "      <td>-13.522</td>\n",
       "      <td>0</td>\n",
       "      <td>0.0906</td>\n",
       "      <td>0.013200</td>\n",
       "      <td>0.889000</td>\n",
       "      <td>0.1060</td>\n",
       "      <td>0.114</td>\n",
       "      <td>104.998</td>\n",
       "      <td>4jKPPZtGeSxUv7JW4s0Vxo</td>\n",
       "      <td>212638</td>\n",
       "      <td>4</td>\n",
       "      <td>2018</td>\n",
       "      <td>Lullaby</td>\n",
       "      <td>LukHash</td>\n",
       "      <td>synthwave</td>\n",
       "    </tr>\n",
       "    <tr>\n",
       "      <th>1579</th>\n",
       "      <td>0.233</td>\n",
       "      <td>0.885</td>\n",
       "      <td>8</td>\n",
       "      <td>-5.922</td>\n",
       "      <td>0</td>\n",
       "      <td>0.0554</td>\n",
       "      <td>0.000009</td>\n",
       "      <td>0.881000</td>\n",
       "      <td>0.3270</td>\n",
       "      <td>0.356</td>\n",
       "      <td>200.085</td>\n",
       "      <td>73SAmV0OiYoeTchoqwIVN3</td>\n",
       "      <td>260100</td>\n",
       "      <td>4</td>\n",
       "      <td>2020</td>\n",
       "      <td>Falling Down</td>\n",
       "      <td>LukHash</td>\n",
       "      <td>synthwave</td>\n",
       "    </tr>\n",
       "    <tr>\n",
       "      <th>1580</th>\n",
       "      <td>0.226</td>\n",
       "      <td>0.708</td>\n",
       "      <td>2</td>\n",
       "      <td>-7.163</td>\n",
       "      <td>0</td>\n",
       "      <td>0.0488</td>\n",
       "      <td>0.001300</td>\n",
       "      <td>0.242000</td>\n",
       "      <td>0.1380</td>\n",
       "      <td>0.164</td>\n",
       "      <td>159.445</td>\n",
       "      <td>2Ds8wv1wKwEjb3Eaf79Pfh</td>\n",
       "      <td>232846</td>\n",
       "      <td>3</td>\n",
       "      <td>2020</td>\n",
       "      <td>You and I</td>\n",
       "      <td>LukHash</td>\n",
       "      <td>synthwave</td>\n",
       "    </tr>\n",
       "    <tr>\n",
       "      <th>1581</th>\n",
       "      <td>0.491</td>\n",
       "      <td>0.954</td>\n",
       "      <td>9</td>\n",
       "      <td>-3.518</td>\n",
       "      <td>0</td>\n",
       "      <td>0.0879</td>\n",
       "      <td>0.010100</td>\n",
       "      <td>0.006600</td>\n",
       "      <td>0.3340</td>\n",
       "      <td>0.383</td>\n",
       "      <td>126.009</td>\n",
       "      <td>7ECOFXTdxfttpX3spcFb9s</td>\n",
       "      <td>208576</td>\n",
       "      <td>4</td>\n",
       "      <td>2015</td>\n",
       "      <td>Another World</td>\n",
       "      <td>LukHash</td>\n",
       "      <td>synthwave</td>\n",
       "    </tr>\n",
       "    <tr>\n",
       "      <th>1582</th>\n",
       "      <td>0.457</td>\n",
       "      <td>0.924</td>\n",
       "      <td>3</td>\n",
       "      <td>-3.775</td>\n",
       "      <td>0</td>\n",
       "      <td>0.0409</td>\n",
       "      <td>0.001810</td>\n",
       "      <td>0.000000</td>\n",
       "      <td>0.1910</td>\n",
       "      <td>0.822</td>\n",
       "      <td>140.001</td>\n",
       "      <td>7vYEhw6SGnIXyed0vCkHbN</td>\n",
       "      <td>212686</td>\n",
       "      <td>4</td>\n",
       "      <td>2015</td>\n",
       "      <td>The Other Side</td>\n",
       "      <td>LukHash</td>\n",
       "      <td>synthwave</td>\n",
       "    </tr>\n",
       "  </tbody>\n",
       "</table>\n",
       "<p>1583 rows × 18 columns</p>\n",
       "</div>"
      ],
      "text/plain": [
       "      danceability  energy  key  loudness  mode  speechiness  acousticness  \\\n",
       "0            0.437   0.965    4    -4.448     1       0.1360      0.326000   \n",
       "1            0.653   0.730    5   -10.613     1       0.0429      0.011500   \n",
       "2            0.741   0.697    0    -7.028     1       0.0277      0.066400   \n",
       "3            0.574   0.913    6    -4.793     0       0.1330      0.061000   \n",
       "4            0.429   0.631    4   -11.514     0       0.0769      0.000078   \n",
       "...            ...     ...  ...       ...   ...          ...           ...   \n",
       "1578         0.782   0.640    5   -13.522     0       0.0906      0.013200   \n",
       "1579         0.233   0.885    8    -5.922     0       0.0554      0.000009   \n",
       "1580         0.226   0.708    2    -7.163     0       0.0488      0.001300   \n",
       "1581         0.491   0.954    9    -3.518     0       0.0879      0.010100   \n",
       "1582         0.457   0.924    3    -3.775     0       0.0409      0.001810   \n",
       "\n",
       "      instrumentalness  liveness  valence    tempo                      id  \\\n",
       "0             0.000280    0.1440    0.766  172.428  6HMFtoMvv6n6Q2eOyPFyne   \n",
       "1             0.000010    0.0776    0.894  108.709  4JfuiOWlWCkjP6OKurHjSn   \n",
       "2             0.000023    0.1330    0.774  116.109  2LawezPeJhN4AWuSB0GtAU   \n",
       "3             0.001580    0.1560    0.423  115.728  2zYzyRzz6pRmhPzyfMEC8s   \n",
       "4             0.004110    0.1750    0.376  162.734  1jzDzZWeSDBg5fhNc3tczV   \n",
       "...                ...       ...      ...      ...                     ...   \n",
       "1578          0.889000    0.1060    0.114  104.998  4jKPPZtGeSxUv7JW4s0Vxo   \n",
       "1579          0.881000    0.3270    0.356  200.085  73SAmV0OiYoeTchoqwIVN3   \n",
       "1580          0.242000    0.1380    0.164  159.445  2Ds8wv1wKwEjb3Eaf79Pfh   \n",
       "1581          0.006600    0.3340    0.383  126.009  7ECOFXTdxfttpX3spcFb9s   \n",
       "1582          0.000000    0.1910    0.822  140.001  7vYEhw6SGnIXyed0vCkHbN   \n",
       "\n",
       "      duration_ms  time_signature  year                    song_name  \\\n",
       "0          248893               4  1985                 Walk Of Life   \n",
       "1          220311               4  1975                Walk This Way   \n",
       "2          160133               4  1970  Have You Ever Seen The Rain   \n",
       "3          208400               4  1979              Highway to Hell   \n",
       "4          168440               4  1970                     Paranoid   \n",
       "...           ...             ...   ...                          ...   \n",
       "1578       212638               4  2018                      Lullaby   \n",
       "1579       260100               4  2020                 Falling Down   \n",
       "1580       232846               3  2020                    You and I   \n",
       "1581       208576               4  2015                Another World   \n",
       "1582       212686               4  2015               The Other Side   \n",
       "\n",
       "                       artist_name      genre  \n",
       "0                     Dire Straits       rock  \n",
       "1                        Aerosmith       rock  \n",
       "2     Creedence Clearwater Revival       rock  \n",
       "3                            AC/DC       rock  \n",
       "4                    Black Sabbath       rock  \n",
       "...                            ...        ...  \n",
       "1578                       LukHash  synthwave  \n",
       "1579                       LukHash  synthwave  \n",
       "1580                       LukHash  synthwave  \n",
       "1581                       LukHash  synthwave  \n",
       "1582                       LukHash  synthwave  \n",
       "\n",
       "[1583 rows x 18 columns]"
      ]
     },
     "execution_count": 7,
     "metadata": {},
     "output_type": "execute_result"
    }
   ],
   "source": [
    "df"
   ]
  },
  {
   "cell_type": "code",
   "execution_count": 8,
   "metadata": {},
   "outputs": [],
   "source": [
    "# features to use for clustering\n",
    "# X = df[[\"danceability\", \"energy\", \"key\", \"loudness\", \"speechiness\", \"acousticness\", \"instrumentalness\", \"liveness\", \"valence\", \"tempo\", \"time_signature\"]]\n",
    "X = df[[\"energy\", \"instrumentalness\", \"speechiness\"]]\n",
    "# X = df[[\"energy\", \"tempo\", \"speechiness\"]]"
   ]
  },
  {
   "cell_type": "code",
   "execution_count": 9,
   "metadata": {},
   "outputs": [],
   "source": [
    "# scaler = StandardScaler()\n",
    "# X_scaled = scaler.fit_transform(X)"
   ]
  },
  {
   "cell_type": "code",
   "execution_count": 10,
   "metadata": {},
   "outputs": [
    {
     "data": {
      "image/png": "[encoded data removed]",
      "text/plain": [
       "<Figure size 800x550 with 2 Axes>"
      ]
     },
     "metadata": {},
     "output_type": "display_data"
    },
    {
     "data": {
      "text/plain": [
       "<AxesSubplot: title={'center': 'Distortion Score Elbow for KMeans Clustering'}, xlabel='k', ylabel='distortion score'>"
      ]
     },
     "execution_count": 10,
     "metadata": {},
     "output_type": "execute_result"
    }
   ],
   "source": [
    "# trying to get a good k with elbow\n",
    "visualizer = KElbowVisualizer(KMeans(n_init=10), k=(1,10))\n",
    "visualizer.fit(X)\n",
    "visualizer.show()"
   ]
  },
  {
   "cell_type": "code",
   "execution_count": 11,
   "metadata": {},
   "outputs": [],
   "source": [
    "# dimensionality reduction using PCA\n",
    "# pca = PCA(n_components=3)\n",
    "# X_pca = pca.fit_transform(X_scaled)"
   ]
  },
  {
   "cell_type": "code",
   "execution_count": 12,
   "metadata": {},
   "outputs": [],
   "source": [
    "# clustering using K-Means\n",
    "kmeans = KMeans(n_clusters=3, n_init=10).fit(X)"
   ]
  },
  {
   "cell_type": "code",
   "execution_count": 13,
   "metadata": {},
   "outputs": [],
   "source": [
    "df['cluster'] = kmeans.labels_"
   ]
  },
  {
   "cell_type": "code",
   "execution_count": 14,
   "metadata": {},
   "outputs": [
    {
     "data": {
      "text/html": [
       "<div>\n",
       "<style scoped>\n",
       "    .dataframe tbody tr th:only-of-type {\n",
       "        vertical-align: middle;\n",
       "    }\n",
       "\n",
       "    .dataframe tbody tr th {\n",
       "        vertical-align: top;\n",
       "    }\n",
       "\n",
       "    .dataframe thead th {\n",
       "        text-align: right;\n",
       "    }\n",
       "</style>\n",
       "<table border=\"1\" class=\"dataframe\">\n",
       "  <thead>\n",
       "    <tr style=\"text-align: right;\">\n",
       "      <th></th>\n",
       "      <th>danceability</th>\n",
       "      <th>energy</th>\n",
       "      <th>key</th>\n",
       "      <th>loudness</th>\n",
       "      <th>mode</th>\n",
       "      <th>speechiness</th>\n",
       "      <th>acousticness</th>\n",
       "      <th>instrumentalness</th>\n",
       "      <th>liveness</th>\n",
       "      <th>valence</th>\n",
       "      <th>tempo</th>\n",
       "      <th>id</th>\n",
       "      <th>duration_ms</th>\n",
       "      <th>time_signature</th>\n",
       "      <th>year</th>\n",
       "      <th>song_name</th>\n",
       "      <th>artist_name</th>\n",
       "      <th>genre</th>\n",
       "      <th>cluster</th>\n",
       "    </tr>\n",
       "  </thead>\n",
       "  <tbody>\n",
       "    <tr>\n",
       "      <th>0</th>\n",
       "      <td>0.437</td>\n",
       "      <td>0.965</td>\n",
       "      <td>4</td>\n",
       "      <td>-4.448</td>\n",
       "      <td>1</td>\n",
       "      <td>0.1360</td>\n",
       "      <td>0.326000</td>\n",
       "      <td>0.000280</td>\n",
       "      <td>0.1440</td>\n",
       "      <td>0.766</td>\n",
       "      <td>172.428</td>\n",
       "      <td>6HMFtoMvv6n6Q2eOyPFyne</td>\n",
       "      <td>248893</td>\n",
       "      <td>4</td>\n",
       "      <td>1985</td>\n",
       "      <td>Walk Of Life</td>\n",
       "      <td>Dire Straits</td>\n",
       "      <td>rock</td>\n",
       "      <td>1</td>\n",
       "    </tr>\n",
       "    <tr>\n",
       "      <th>1</th>\n",
       "      <td>0.653</td>\n",
       "      <td>0.730</td>\n",
       "      <td>5</td>\n",
       "      <td>-10.613</td>\n",
       "      <td>1</td>\n",
       "      <td>0.0429</td>\n",
       "      <td>0.011500</td>\n",
       "      <td>0.000010</td>\n",
       "      <td>0.0776</td>\n",
       "      <td>0.894</td>\n",
       "      <td>108.709</td>\n",
       "      <td>4JfuiOWlWCkjP6OKurHjSn</td>\n",
       "      <td>220311</td>\n",
       "      <td>4</td>\n",
       "      <td>1975</td>\n",
       "      <td>Walk This Way</td>\n",
       "      <td>Aerosmith</td>\n",
       "      <td>rock</td>\n",
       "      <td>1</td>\n",
       "    </tr>\n",
       "    <tr>\n",
       "      <th>2</th>\n",
       "      <td>0.741</td>\n",
       "      <td>0.697</td>\n",
       "      <td>0</td>\n",
       "      <td>-7.028</td>\n",
       "      <td>1</td>\n",
       "      <td>0.0277</td>\n",
       "      <td>0.066400</td>\n",
       "      <td>0.000023</td>\n",
       "      <td>0.1330</td>\n",
       "      <td>0.774</td>\n",
       "      <td>116.109</td>\n",
       "      <td>2LawezPeJhN4AWuSB0GtAU</td>\n",
       "      <td>160133</td>\n",
       "      <td>4</td>\n",
       "      <td>1970</td>\n",
       "      <td>Have You Ever Seen The Rain</td>\n",
       "      <td>Creedence Clearwater Revival</td>\n",
       "      <td>rock</td>\n",
       "      <td>1</td>\n",
       "    </tr>\n",
       "    <tr>\n",
       "      <th>3</th>\n",
       "      <td>0.574</td>\n",
       "      <td>0.913</td>\n",
       "      <td>6</td>\n",
       "      <td>-4.793</td>\n",
       "      <td>0</td>\n",
       "      <td>0.1330</td>\n",
       "      <td>0.061000</td>\n",
       "      <td>0.001580</td>\n",
       "      <td>0.1560</td>\n",
       "      <td>0.423</td>\n",
       "      <td>115.728</td>\n",
       "      <td>2zYzyRzz6pRmhPzyfMEC8s</td>\n",
       "      <td>208400</td>\n",
       "      <td>4</td>\n",
       "      <td>1979</td>\n",
       "      <td>Highway to Hell</td>\n",
       "      <td>AC/DC</td>\n",
       "      <td>rock</td>\n",
       "      <td>1</td>\n",
       "    </tr>\n",
       "    <tr>\n",
       "      <th>4</th>\n",
       "      <td>0.429</td>\n",
       "      <td>0.631</td>\n",
       "      <td>4</td>\n",
       "      <td>-11.514</td>\n",
       "      <td>0</td>\n",
       "      <td>0.0769</td>\n",
       "      <td>0.000078</td>\n",
       "      <td>0.004110</td>\n",
       "      <td>0.1750</td>\n",
       "      <td>0.376</td>\n",
       "      <td>162.734</td>\n",
       "      <td>1jzDzZWeSDBg5fhNc3tczV</td>\n",
       "      <td>168440</td>\n",
       "      <td>4</td>\n",
       "      <td>1970</td>\n",
       "      <td>Paranoid</td>\n",
       "      <td>Black Sabbath</td>\n",
       "      <td>rock</td>\n",
       "      <td>1</td>\n",
       "    </tr>\n",
       "    <tr>\n",
       "      <th>...</th>\n",
       "      <td>...</td>\n",
       "      <td>...</td>\n",
       "      <td>...</td>\n",
       "      <td>...</td>\n",
       "      <td>...</td>\n",
       "      <td>...</td>\n",
       "      <td>...</td>\n",
       "      <td>...</td>\n",
       "      <td>...</td>\n",
       "      <td>...</td>\n",
       "      <td>...</td>\n",
       "      <td>...</td>\n",
       "      <td>...</td>\n",
       "      <td>...</td>\n",
       "      <td>...</td>\n",
       "      <td>...</td>\n",
       "      <td>...</td>\n",
       "      <td>...</td>\n",
       "      <td>...</td>\n",
       "    </tr>\n",
       "    <tr>\n",
       "      <th>1578</th>\n",
       "      <td>0.782</td>\n",
       "      <td>0.640</td>\n",
       "      <td>5</td>\n",
       "      <td>-13.522</td>\n",
       "      <td>0</td>\n",
       "      <td>0.0906</td>\n",
       "      <td>0.013200</td>\n",
       "      <td>0.889000</td>\n",
       "      <td>0.1060</td>\n",
       "      <td>0.114</td>\n",
       "      <td>104.998</td>\n",
       "      <td>4jKPPZtGeSxUv7JW4s0Vxo</td>\n",
       "      <td>212638</td>\n",
       "      <td>4</td>\n",
       "      <td>2018</td>\n",
       "      <td>Lullaby</td>\n",
       "      <td>LukHash</td>\n",
       "      <td>synthwave</td>\n",
       "      <td>0</td>\n",
       "    </tr>\n",
       "    <tr>\n",
       "      <th>1579</th>\n",
       "      <td>0.233</td>\n",
       "      <td>0.885</td>\n",
       "      <td>8</td>\n",
       "      <td>-5.922</td>\n",
       "      <td>0</td>\n",
       "      <td>0.0554</td>\n",
       "      <td>0.000009</td>\n",
       "      <td>0.881000</td>\n",
       "      <td>0.3270</td>\n",
       "      <td>0.356</td>\n",
       "      <td>200.085</td>\n",
       "      <td>73SAmV0OiYoeTchoqwIVN3</td>\n",
       "      <td>260100</td>\n",
       "      <td>4</td>\n",
       "      <td>2020</td>\n",
       "      <td>Falling Down</td>\n",
       "      <td>LukHash</td>\n",
       "      <td>synthwave</td>\n",
       "      <td>0</td>\n",
       "    </tr>\n",
       "    <tr>\n",
       "      <th>1580</th>\n",
       "      <td>0.226</td>\n",
       "      <td>0.708</td>\n",
       "      <td>2</td>\n",
       "      <td>-7.163</td>\n",
       "      <td>0</td>\n",
       "      <td>0.0488</td>\n",
       "      <td>0.001300</td>\n",
       "      <td>0.242000</td>\n",
       "      <td>0.1380</td>\n",
       "      <td>0.164</td>\n",
       "      <td>159.445</td>\n",
       "      <td>2Ds8wv1wKwEjb3Eaf79Pfh</td>\n",
       "      <td>232846</td>\n",
       "      <td>3</td>\n",
       "      <td>2020</td>\n",
       "      <td>You and I</td>\n",
       "      <td>LukHash</td>\n",
       "      <td>synthwave</td>\n",
       "      <td>1</td>\n",
       "    </tr>\n",
       "    <tr>\n",
       "      <th>1581</th>\n",
       "      <td>0.491</td>\n",
       "      <td>0.954</td>\n",
       "      <td>9</td>\n",
       "      <td>-3.518</td>\n",
       "      <td>0</td>\n",
       "      <td>0.0879</td>\n",
       "      <td>0.010100</td>\n",
       "      <td>0.006600</td>\n",
       "      <td>0.3340</td>\n",
       "      <td>0.383</td>\n",
       "      <td>126.009</td>\n",
       "      <td>7ECOFXTdxfttpX3spcFb9s</td>\n",
       "      <td>208576</td>\n",
       "      <td>4</td>\n",
       "      <td>2015</td>\n",
       "      <td>Another World</td>\n",
       "      <td>LukHash</td>\n",
       "      <td>synthwave</td>\n",
       "      <td>1</td>\n",
       "    </tr>\n",
       "    <tr>\n",
       "      <th>1582</th>\n",
       "      <td>0.457</td>\n",
       "      <td>0.924</td>\n",
       "      <td>3</td>\n",
       "      <td>-3.775</td>\n",
       "      <td>0</td>\n",
       "      <td>0.0409</td>\n",
       "      <td>0.001810</td>\n",
       "      <td>0.000000</td>\n",
       "      <td>0.1910</td>\n",
       "      <td>0.822</td>\n",
       "      <td>140.001</td>\n",
       "      <td>7vYEhw6SGnIXyed0vCkHbN</td>\n",
       "      <td>212686</td>\n",
       "      <td>4</td>\n",
       "      <td>2015</td>\n",
       "      <td>The Other Side</td>\n",
       "      <td>LukHash</td>\n",
       "      <td>synthwave</td>\n",
       "      <td>1</td>\n",
       "    </tr>\n",
       "  </tbody>\n",
       "</table>\n",
       "<p>1583 rows × 19 columns</p>\n",
       "</div>"
      ],
      "text/plain": [
       "      danceability  energy  key  loudness  mode  speechiness  acousticness  \\\n",
       "0            0.437   0.965    4    -4.448     1       0.1360      0.326000   \n",
       "1            0.653   0.730    5   -10.613     1       0.0429      0.011500   \n",
       "2            0.741   0.697    0    -7.028     1       0.0277      0.066400   \n",
       "3            0.574   0.913    6    -4.793     0       0.1330      0.061000   \n",
       "4            0.429   0.631    4   -11.514     0       0.0769      0.000078   \n",
       "...            ...     ...  ...       ...   ...          ...           ...   \n",
       "1578         0.782   0.640    5   -13.522     0       0.0906      0.013200   \n",
       "1579         0.233   0.885    8    -5.922     0       0.0554      0.000009   \n",
       "1580         0.226   0.708    2    -7.163     0       0.0488      0.001300   \n",
       "1581         0.491   0.954    9    -3.518     0       0.0879      0.010100   \n",
       "1582         0.457   0.924    3    -3.775     0       0.0409      0.001810   \n",
       "\n",
       "      instrumentalness  liveness  valence    tempo                      id  \\\n",
       "0             0.000280    0.1440    0.766  172.428  6HMFtoMvv6n6Q2eOyPFyne   \n",
       "1             0.000010    0.0776    0.894  108.709  4JfuiOWlWCkjP6OKurHjSn   \n",
       "2             0.000023    0.1330    0.774  116.109  2LawezPeJhN4AWuSB0GtAU   \n",
       "3             0.001580    0.1560    0.423  115.728  2zYzyRzz6pRmhPzyfMEC8s   \n",
       "4             0.004110    0.1750    0.376  162.734  1jzDzZWeSDBg5fhNc3tczV   \n",
       "...                ...       ...      ...      ...                     ...   \n",
       "1578          0.889000    0.1060    0.114  104.998  4jKPPZtGeSxUv7JW4s0Vxo   \n",
       "1579          0.881000    0.3270    0.356  200.085  73SAmV0OiYoeTchoqwIVN3   \n",
       "1580          0.242000    0.1380    0.164  159.445  2Ds8wv1wKwEjb3Eaf79Pfh   \n",
       "1581          0.006600    0.3340    0.383  126.009  7ECOFXTdxfttpX3spcFb9s   \n",
       "1582          0.000000    0.1910    0.822  140.001  7vYEhw6SGnIXyed0vCkHbN   \n",
       "\n",
       "      duration_ms  time_signature  year                    song_name  \\\n",
       "0          248893               4  1985                 Walk Of Life   \n",
       "1          220311               4  1975                Walk This Way   \n",
       "2          160133               4  1970  Have You Ever Seen The Rain   \n",
       "3          208400               4  1979              Highway to Hell   \n",
       "4          168440               4  1970                     Paranoid   \n",
       "...           ...             ...   ...                          ...   \n",
       "1578       212638               4  2018                      Lullaby   \n",
       "1579       260100               4  2020                 Falling Down   \n",
       "1580       232846               3  2020                    You and I   \n",
       "1581       208576               4  2015                Another World   \n",
       "1582       212686               4  2015               The Other Side   \n",
       "\n",
       "                       artist_name      genre  cluster  \n",
       "0                     Dire Straits       rock        1  \n",
       "1                        Aerosmith       rock        1  \n",
       "2     Creedence Clearwater Revival       rock        1  \n",
       "3                            AC/DC       rock        1  \n",
       "4                    Black Sabbath       rock        1  \n",
       "...                            ...        ...      ...  \n",
       "1578                       LukHash  synthwave        0  \n",
       "1579                       LukHash  synthwave        0  \n",
       "1580                       LukHash  synthwave        1  \n",
       "1581                       LukHash  synthwave        1  \n",
       "1582                       LukHash  synthwave        1  \n",
       "\n",
       "[1583 rows x 19 columns]"
      ]
     },
     "execution_count": 14,
     "metadata": {},
     "output_type": "execute_result"
    }
   ],
   "source": [
    "df"
   ]
  },
  {
   "cell_type": "code",
   "execution_count": 15,
   "metadata": {
    "scrolled": true
   },
   "outputs": [
    {
     "data": {
      "application/vnd.plotly.v1+json": {
       "config": {
        "plotlyServerURL": "https://plot.ly"
       },
       "data": [
        {
         "customdata": [
          [
           "Dire Straits",
           "1985"
          ],
          [
           "Aerosmith",
           "1975"
          ],
          [
           "Creedence Clearwater Revival",
           "1970"
          ],
          [
           "AC/DC",
           "1979"
          ],
          [
           "Black Sabbath",
           "1970"
          ],
          [
           "Led Zeppelin",
           "1969"
          ],
          [
           "KISS",
           "1975"
          ],
          [
           "The Rolling Stones",
           "1966"
          ],
          [
           "Deep Purple",
           "1972"
          ],
          [
           "Guns N' Roses",
           "1987"
          ],
          [
           "Steppenwolf",
           "1968"
          ],
          [
           "Metallica",
           "1991"
          ],
          [
           "Aerosmith",
           "1993"
          ],
          [
           "AC/DC",
           "1990"
          ],
          [
           "Foo Fighters",
           "2005"
          ],
          [
           "Led Zeppelin",
           "1970"
          ],
          [
           "KISS",
           "1979"
          ],
          [
           "Bon Jovi",
           "1986"
          ],
          [
           "Nirvana",
           "1991"
          ],
          [
           "AC/DC",
           "1980"
          ],
          [
           "Van Halen",
           "1984"
          ],
          [
           "The Offspring",
           "1998"
          ],
          [
           "Foo Fighters",
           "2002"
          ],
          [
           "Queen",
           "1977"
          ],
          [
           "Led Zeppelin",
           "1971"
          ],
          [
           "The Who",
           "1971"
          ],
          [
           "Nirvana",
           "1993"
          ],
          [
           "Aerosmith",
           "1975"
          ],
          [
           "Mötley Crüe",
           "1987"
          ],
          [
           "AC/DC",
           "1976"
          ],
          [
           "The Doors",
           "1967"
          ],
          [
           "Foo Fighters",
           "1997"
          ],
          [
           "Lynyrd Skynyrd",
           "1973"
          ],
          [
           "Led Zeppelin",
           "1971"
          ],
          [
           "Guns N' Roses",
           "1987"
          ],
          [
           "Linkin Park",
           "2000"
          ],
          [
           "Nirvana",
           "1994"
          ],
          [
           "Cream",
           "1967"
          ],
          [
           "Scorpions",
           "2011"
          ],
          [
           "Guns N' Roses",
           "1987"
          ],
          [
           "Twisted Sister",
           "1984"
          ],
          [
           "Bon Jovi",
           "2000"
          ],
          [
           "Van Halen",
           "1984"
          ],
          [
           "ZZ Top",
           "1983"
          ],
          [
           "Foo Fighters",
           "1997"
          ],
          [
           "Rage Against The Machine",
           "1999"
          ],
          [
           "Creed",
           "2001"
          ],
          [
           "The Who",
           "1978"
          ],
          [
           "Dire Straits",
           "1978"
          ],
          [
           "AC/DC",
           "1980"
          ]
         ],
         "hovertemplate": "<b>%{hovertext}</b><br><br>genre=rock<br>energy=%{x}<br>instrumentalness=%{y}<br>speechiness=%{z}<br>artist_name=%{customdata[0]}<br>year=%{customdata[1]}<br>cluster=%{marker.color}<extra></extra>",
         "hovertext": [
          "Walk Of Life",
          "Walk This Way",
          "Have You Ever Seen The Rain",
          "Highway to Hell",
          "Paranoid",
          "Whole Lotta Love - 1990 Remaster",
          "Rock And Roll All Nite",
          "Paint It, Black",
          "Smoke On The Water - Remastered 2012",
          "Sweet Child O' Mine",
          "Born To Be Wild",
          "Nothing Else Matters",
          "Crazy",
          "Thunderstruck",
          "Best of You",
          "Immigrant Song - Remaster",
          "I Was Made For Lovin' You",
          "Livin' On A Prayer",
          "Smells Like Teen Spirit - Remastered",
          "Back In Black",
          "Jump - 2015 Remaster",
          "The Kids Aren't Alright",
          "All My Life",
          "We Will Rock You - Remastered 2011",
          "Rock and Roll - Remaster",
          "Baba O'Riley",
          "Heart-Shaped Box",
          "Sweet Emotion",
          "Girls, Girls, Girls",
          "T.N.T.",
          "Break on Through (To the Other Side)",
          "My Hero",
          "Free Bird",
          "Black Dog - Remaster",
          "Paradise City",
          "In the End",
          "The Man Who Sold The World",
          "Sunshine Of Your Love",
          "Still Loving You",
          "Welcome To The Jungle",
          "I Wanna Rock",
          "It's My Life",
          "Panama - 2015 Remaster",
          "Gimme All Your Lovin'",
          "Everlong",
          "Guerrilla Radio",
          "My Sacrifice",
          "Who Are You",
          "Sultans Of Swing",
          "Shoot to Thrill"
         ],
         "legendgroup": "rock",
         "marker": {
          "color": [
           1,
           1,
           1,
           1,
           1,
           1,
           1,
           1,
           1,
           1,
           0,
           1,
           1,
           1,
           1,
           1,
           1,
           1,
           1,
           1,
           1,
           1,
           1,
           1,
           1,
           1,
           1,
           1,
           1,
           1,
           1,
           1,
           1,
           1,
           1,
           1,
           1,
           1,
           1,
           0,
           1,
           1,
           1,
           1,
           1,
           1,
           1,
           1,
           1,
           1
          ],
          "coloraxis": "coloraxis",
          "line": {
           "width": 1
          },
          "opacity": 0.7,
          "size": 5,
          "symbol": "circle"
         },
         "mode": "markers",
         "name": "rock",
         "scene": "scene",
         "showlegend": true,
         "type": "scatter3d",
         "x": [
          0.965,
          0.73,
          0.697,
          0.913,
          0.631,
          0.902,
          0.929,
          0.795,
          0.676,
          0.91,
          0.71,
          0.362,
          0.866,
          0.89,
          0.94,
          0.932,
          0.852,
          0.887,
          0.918,
          0.7,
          0.835,
          0.943,
          0.604,
          0.497,
          0.887,
          0.724,
          0.641,
          0.76,
          0.931,
          0.759,
          0.751,
          0.927,
          0.834,
          0.864,
          0.952,
          0.864,
          0.753,
          0.594,
          0.605,
          0.954,
          0.911,
          0.913,
          0.978,
          0.788,
          0.881,
          0.957,
          0.88,
          0.648,
          0.794,
          0.904
         ],
         "y": [
          0.00028,
          0.0000102,
          0.0000228,
          0.00158,
          0.00411,
          0.131,
          0,
          0.00244,
          0.225,
          0.0996,
          0.537,
          0.00000601,
          0,
          0.0117,
          0.0000942,
          0.169,
          0.0000736,
          0.000214,
          0.0000764,
          0.00965,
          0.000377,
          0.0000381,
          0.000579,
          0,
          0.00258,
          0.185,
          0.0329,
          0.0296,
          0.0000669,
          0.000108,
          0,
          0.000177,
          0.0000948,
          0.0314,
          0.0111,
          0,
          0.000142,
          0.0000861,
          0.00144,
          0.403,
          0.0123,
          0.0000135,
          0.0000475,
          0.0237,
          0.000308,
          0.0000706,
          0.00000431,
          0.0042,
          0.0367,
          0.0879
         ],
         "z": [
          0.136,
          0.0429,
          0.0277,
          0.133,
          0.0769,
          0.405,
          0.0998,
          0.0926,
          0.0279,
          0.0448,
          0.0919,
          0.0263,
          0.0384,
          0.0364,
          0.0696,
          0.0554,
          0.038,
          0.0335,
          0.0554,
          0.047,
          0.0317,
          0.0337,
          0.0495,
          0.119,
          0.0375,
          0.0352,
          0.0552,
          0.0378,
          0.0735,
          0.302,
          0.0472,
          0.0567,
          0.0577,
          0.0904,
          0.0843,
          0.0584,
          0.0832,
          0.0347,
          0.0294,
          0.0751,
          0.0738,
          0.0466,
          0.108,
          0.0298,
          0.0367,
          0.188,
          0.0504,
          0.0501,
          0.0307,
          0.0747
         ]
        },
        {
         "customdata": [
          [
           "Rammstein",
           "2019"
          ],
          [
           "Sabaton",
           "2022"
          ],
          [
           "Iron Maiden",
           "1986"
          ],
          [
           "Pantera",
           "1990"
          ],
          [
           "Helloween",
           "1988"
          ],
          [
           "Slayer",
           "1986"
          ],
          [
           "Metallica",
           "1986"
          ],
          [
           "Judas Priest",
           "1980"
          ],
          [
           "Megadeth",
           "1992"
          ],
          [
           "Iron Maiden",
           "1992"
          ],
          [
           "Pantera",
           "1992"
          ],
          [
           "Slayer",
           "1988"
          ],
          [
           "Manowar",
           "1988"
          ],
          [
           "Megadeth",
           "1990"
          ],
          [
           "Arch Enemy",
           "2014"
          ],
          [
           "Motörhead",
           "1979"
          ],
          [
           "Judas Priest",
           "1984"
          ],
          [
           "Metallica",
           "1984"
          ],
          [
           "Machine Head",
           "1994"
          ],
          [
           "Iron Maiden",
           "1992"
          ],
          [
           "Pantera",
           "1994"
          ],
          [
           "Megadeth",
           "1995"
          ],
          [
           "Lamb of God",
           "2004"
          ],
          [
           "Ozzy Osbourne",
           "2020"
          ],
          [
           "Slipknot",
           "2001"
          ],
          [
           "Dio",
           "1983"
          ],
          [
           "Iron Maiden",
           "1984"
          ],
          [
           "Metallica",
           "1984"
          ],
          [
           "Arch Enemy",
           "2005"
          ],
          [
           "Judas Priest",
           "1980"
          ],
          [
           "Saxon",
           "1981"
          ],
          [
           "Testament",
           "1999"
          ],
          [
           "Accept",
           "1983"
          ],
          [
           "Megadeth",
           "1986"
          ],
          [
           "Slayer",
           "2001"
          ],
          [
           "Judas Priest",
           "1982"
          ],
          [
           "Iron Maiden",
           "1988"
          ],
          [
           "Metallica",
           "1986"
          ],
          [
           "Pantera",
           "1990"
          ],
          [
           "Testament",
           "2016"
          ],
          [
           "Motörhead",
           "2004"
          ],
          [
           "Manowar",
           "1988"
          ],
          [
           "Machine Head",
           "2011"
          ],
          [
           "Helloween",
           "1988"
          ],
          [
           "Iron Maiden",
           "1980"
          ],
          [
           "Slayer",
           "1990"
          ],
          [
           "Judas Priest",
           "1980"
          ],
          [
           "Metallica",
           "1984"
          ],
          [
           "Black Sabbath",
           "1980"
          ],
          [
           "Anvil",
           "1982"
          ]
         ],
         "hovertemplate": "<b>%{hovertext}</b><br><br>genre=metal<br>energy=%{x}<br>instrumentalness=%{y}<br>speechiness=%{z}<br>artist_name=%{customdata[0]}<br>year=%{customdata[1]}<br>cluster=%{marker.color}<extra></extra>",
         "hovertext": [
          "Deutschland",
          "Father",
          "Wasted Years - 2015 Remaster",
          "Cowboys from Hell",
          "I Want Out",
          "Raining Blood",
          "Master Of Puppets",
          "Breaking the Law",
          "Symphony Of Destruction",
          "Be Quick or Be Dead - 2015 Remaster",
          "Mouth for War",
          "South Of Heaven",
          "Kings of Metal",
          "Holy Wars...The Punishment Due - 2004 Remix",
          "War Eternal",
          "Overkill",
          "The Sentinel",
          "Creeping Death - Creeping Death EP Version / Remastered",
          "Davidian",
          "Fear of the Dark - 2015 Remaster",
          "I'm Broken",
          "Angry Again",
          "Omerta",
          "Mr. Crowley",
          "People = Shit",
          "Holy Diver",
          "Aces High - 2015 Remaster",
          "For Whom The Bell Tolls - Remastered",
          "Nemesis",
          "Grinder",
          "Princess of the Night - 2009 Remastered Version",
          "Down for Life",
          "Balls to the Wall",
          "Peace Sells - Remastered",
          "Bloodline",
          "Screaming for Vengeance",
          "The Evil That Men Do - 2015 Remaster",
          "Welcome Home (Sanitarium) - Remastered",
          "Primal Concrete Sledge",
          "Brotherhood of the Snake",
          "In the Name of Tragedy",
          "Hail and Kill",
          "Locust",
          "Eagle Fly Free",
          "Phantom of the Opera - 2015 Remaster",
          "Seasons In The Abyss",
          "Metal Gods",
          "Fade To Black - Remastered",
          "Heaven and Hell - 2009 Remaster",
          "March of the Crabs"
         ],
         "legendgroup": "metal",
         "marker": {
          "color": [
           1,
           1,
           1,
           1,
           1,
           1,
           0,
           1,
           1,
           1,
           1,
           1,
           1,
           1,
           1,
           1,
           1,
           1,
           1,
           1,
           0,
           0,
           1,
           1,
           1,
           0,
           1,
           1,
           1,
           1,
           1,
           1,
           1,
           0,
           1,
           1,
           1,
           1,
           1,
           1,
           1,
           1,
           1,
           1,
           1,
           1,
           1,
           1,
           1,
           0
          ],
          "coloraxis": "coloraxis",
          "line": {
           "width": 1
          },
          "opacity": 0.7,
          "size": 5,
          "symbol": "diamond"
         },
         "mode": "markers",
         "name": "metal",
         "scene": "scene",
         "showlegend": true,
         "type": "scatter3d",
         "x": [
          0.895,
          0.904,
          0.959,
          0.908,
          0.859,
          0.995,
          0.836,
          0.961,
          0.891,
          0.965,
          0.954,
          0.991,
          0.881,
          0.985,
          0.98,
          0.866,
          0.863,
          0.978,
          0.937,
          0.866,
          0.878,
          0.719,
          0.982,
          0.748,
          0.996,
          0.783,
          0.936,
          0.858,
          0.954,
          0.881,
          0.797,
          0.955,
          0.739,
          0.932,
          0.971,
          0.976,
          0.977,
          0.766,
          0.847,
          0.989,
          0.994,
          0.857,
          0.956,
          0.937,
          0.952,
          0.97,
          0.854,
          0.924,
          0.445,
          0.988
         ],
         "y": [
          0.349,
          0.00151,
          0.000148,
          0.0345,
          0.000155,
          0.331,
          0.431,
          0.00000935,
          0.0928,
          0.00221,
          0.000614,
          0.085,
          0.0000269,
          0.107,
          0.163,
          0.0185,
          0.00425,
          0.315,
          0.118,
          0.00141,
          0.559,
          0.679,
          0.00112,
          0.000153,
          0.00377,
          0.475,
          0.021,
          0.00349,
          0.291,
          0.0000405,
          0.000002,
          0.111,
          0.000143,
          0.817,
          0.191,
          0.00000346,
          0.0000028,
          0.101,
          0.265,
          0.179,
          0.00000213,
          0.000052,
          0.0203,
          0.0000239,
          0.154,
          0.000795,
          0.00141,
          0.234,
          0.0451,
          0.823
         ],
         "z": [
          0.0442,
          0.0535,
          0.0908,
          0.0765,
          0.0387,
          0.168,
          0.0353,
          0.0857,
          0.0587,
          0.0646,
          0.0722,
          0.316,
          0.0357,
          0.151,
          0.0731,
          0.112,
          0.103,
          0.166,
          0.168,
          0.059,
          0.0553,
          0.0304,
          0.201,
          0.0568,
          0.231,
          0.0869,
          0.0456,
          0.0672,
          0.0975,
          0.0561,
          0.0424,
          0.0444,
          0.0517,
          0.163,
          0.125,
          0.0895,
          0.11,
          0.0329,
          0.0897,
          0.11,
          0.0824,
          0.0581,
          0.149,
          0.0859,
          0.0723,
          0.163,
          0.0296,
          0.113,
          0.0283,
          0.0861
         ]
        },
        {
         "customdata": [
          [
           "Pearl Jam",
           "1991"
          ],
          [
           "Soundgarden",
           "1994"
          ],
          [
           "Nirvana",
           "1991"
          ],
          [
           "Alice In Chains",
           "1992"
          ],
          [
           "Temple Of The Dog",
           "2016"
          ],
          [
           "Stone Temple Pilots",
           "1992"
          ],
          [
           "Pearl Jam",
           "1991"
          ],
          [
           "Nirvana",
           "1993"
          ],
          [
           "Alice In Chains",
           "1990"
          ],
          [
           "Soundgarden",
           "1994"
          ],
          [
           "Stone Temple Pilots",
           "1994"
          ],
          [
           "Candlebox",
           "1993"
          ],
          [
           "Alice In Chains",
           "1994"
          ],
          [
           "Nirvana",
           "1993"
          ],
          [
           "Pearl Jam",
           "1991"
          ],
          [
           "Bush",
           "2014"
          ],
          [
           "Alice In Chains",
           "1992"
          ],
          [
           "Soundgarden",
           "1991"
          ],
          [
           "Pearl Jam",
           "1991"
          ],
          [
           "Nirvana",
           "2002"
          ],
          [
           "Mad Season",
           "1995"
          ],
          [
           "Stone Temple Pilots",
           "1992"
          ],
          [
           "Pearl Jam",
           "1993"
          ],
          [
           "Soundgarden",
           "1994"
          ],
          [
           "Blind Melon",
           "1992"
          ],
          [
           "Alice In Chains",
           "1992"
          ],
          [
           "Chris Cornell",
           "1992"
          ],
          [
           "Nirvana",
           "1991"
          ],
          [
           "Temple Of The Dog",
           "2016"
          ],
          [
           "Soundgarden",
           "1991"
          ],
          [
           "Mad Season",
           "1995"
          ],
          [
           "Foo Fighters",
           "1995"
          ],
          [
           "Stone Temple Pilots",
           "1992"
          ],
          [
           "Toadies",
           "2015"
          ],
          [
           "Hole",
           "1994"
          ],
          [
           "Sponge",
           "1994"
          ],
          [
           "Screaming Trees",
           "1992"
          ],
          [
           "Foo Fighters",
           "1995"
          ],
          [
           "L7",
           "1992"
          ],
          [
           "Veruca Salt",
           "1997"
          ],
          [
           "Jerry Cantrell",
           "1998"
          ],
          [
           "L7",
           "1992"
          ],
          [
           "Green River",
           "1990"
          ],
          [
           "Hole",
           "1994"
          ],
          [
           "Melvins",
           "1994"
          ],
          [
           "Mother Love Bone",
           "1990"
          ],
          [
           "Foo Fighters",
           "1995"
          ],
          [
           "Mudhoney",
           "1988"
          ],
          [
           "Skin Yard",
           "1991"
          ],
          [
           "Love Battery",
           "1992"
          ],
          [
           "Screaming Trees",
           "1992"
          ],
          [
           "Gruntruck",
           "1992"
          ],
          [
           "Dinosaur Jr.",
           "1993"
          ],
          [
           "Green River",
           "1990"
          ],
          [
           "Tad",
           "1993"
          ],
          [
           "Mother Love Bone",
           "1990"
          ],
          [
           "Seaweed",
           "1993"
          ],
          [
           "Mudhoney",
           "1992"
          ],
          [
           "Malfunkshun",
           "1995"
          ],
          [
           "Blood Circus",
           "2020"
          ]
         ],
         "hovertemplate": "<b>%{hovertext}</b><br><br>genre=grunge<br>energy=%{x}<br>instrumentalness=%{y}<br>speechiness=%{z}<br>artist_name=%{customdata[0]}<br>year=%{customdata[1]}<br>cluster=%{marker.color}<extra></extra>",
         "hovertext": [
          "Alive",
          "Black Hole Sun",
          "Smells Like Teen Spirit",
          "Would? (2022 Remaster)",
          "Hunger Strike - 25th Anniversary Mix",
          "Plush - 2017 Remaster",
          "Even Flow",
          "All Apologies",
          "Man in the Box",
          "Fell On Black Days",
          "Interstate Love Song - 2019 Remaster",
          "Far Behind",
          "Nutshell",
          "Heart-Shaped Box",
          "Jeremy",
          "Glycerine",
          "Rooster (2022 Remaster)",
          "Outshined - Remastered",
          "Yellow Ledbetter",
          "About A Girl",
          "River Of Deceit",
          "Creep - 2017 Remaster",
          "Daughter - Remastered",
          "Spoonman",
          "No Rain",
          "Down In A Hole (2022 Remaster)",
          "Seasons",
          "Come As You Are",
          "Say Hello 2 Heaven - 25th Anniversary Mix",
          "Rusty Cage - Remastered",
          "I Don't Know Anything",
          "Alone + Easy Target",
          "Sex Type Thing - 2017 Remaster",
          "Possum Kingdom",
          "Violet",
          "Plowed",
          "Nearly Lost You",
          "I'll Stick Around",
          "Pretend We're Dead",
          "Volcano Girls",
          "Cut You In",
          "Shitlist",
          "This Town",
          "Doll Parts",
          "Revolve",
          "Crown Of Thorns",
          "This Is a Call",
          "Touch Me I'm Sick",
          "Burn a Hole",
          "Between The Eyes",
          "Shadow of the Season",
          "Crazy Love",
          "Start Choppin'",
          "Swallow My Pride",
          "Leafy Incline",
          "This Is Shangrila",
          "Losing Skin",
          "Suck You Dry - 2008 Remaster",
          "Jezebel Woman",
          "Six Foot Under"
         ],
         "legendgroup": "grunge",
         "marker": {
          "color": [
           1,
           1,
           1,
           1,
           1,
           1,
           1,
           1,
           1,
           1,
           1,
           1,
           1,
           1,
           1,
           1,
           1,
           1,
           1,
           1,
           1,
           1,
           1,
           1,
           1,
           1,
           1,
           1,
           1,
           1,
           1,
           1,
           0,
           1,
           1,
           1,
           1,
           0,
           0,
           1,
           1,
           1,
           1,
           1,
           0,
           1,
           1,
           0,
           1,
           1,
           1,
           1,
           1,
           1,
           0,
           1,
           1,
           0,
           1,
           1
          ],
          "coloraxis": "coloraxis",
          "line": {
           "width": 1
          },
          "opacity": 0.7,
          "size": 5,
          "symbol": "square"
         },
         "mode": "markers",
         "name": "grunge",
         "scene": "scene",
         "showlegend": true,
         "type": "scatter3d",
         "x": [
          0.875,
          0.828,
          0.912,
          0.833,
          0.735,
          0.94,
          0.944,
          0.632,
          0.791,
          0.739,
          0.927,
          0.645,
          0.561,
          0.641,
          0.846,
          0.337,
          0.551,
          0.841,
          0.354,
          0.932,
          0.246,
          0.485,
          0.702,
          0.902,
          0.476,
          0.795,
          0.384,
          0.824,
          0.769,
          0.917,
          0.912,
          0.978,
          0.925,
          0.654,
          0.78,
          0.88,
          0.908,
          0.985,
          0.789,
          0.961,
          0.742,
          0.916,
          0.92,
          0.542,
          0.796,
          0.414,
          0.964,
          0.941,
          0.876,
          0.909,
          0.937,
          0.903,
          0.755,
          0.869,
          0.863,
          0.774,
          0.951,
          0.98,
          0.736,
          0.918
         ],
         "y": [
          0.000461,
          0.000161,
          0.000173,
          0.0000236,
          0.0000276,
          0.00000172,
          0.00000454,
          0.000266,
          0,
          0.000328,
          0.00661,
          0.00000138,
          0.253,
          0.0329,
          0,
          0.000946,
          0.000581,
          0.00686,
          0.00000471,
          0.0000016,
          0.000374,
          0.000295,
          0.00431,
          0.196,
          0.0000509,
          0.00013,
          0.105,
          0.00161,
          0.00000914,
          0.00044,
          0,
          0.00000147,
          0.628,
          0.148,
          0.0000371,
          0.0000439,
          0.000162,
          0.626,
          0.642,
          0.00000129,
          0.00115,
          0.184,
          0.00000468,
          0.00000405,
          0.443,
          0.00000115,
          0.0000287,
          0.66,
          0.258,
          0.00318,
          0.00297,
          0.0000619,
          0.000799,
          0,
          0.416,
          0.00134,
          0.00619,
          0.795,
          0.00000246,
          0.00011
         ],
         "z": [
          0.0422,
          0.041,
          0.0564,
          0.0398,
          0.0317,
          0.0423,
          0.0761,
          0.034,
          0.0453,
          0.0271,
          0.0452,
          0.0268,
          0.0296,
          0.0552,
          0.0438,
          0.0326,
          0.0272,
          0.0307,
          0.0339,
          0.0339,
          0.0298,
          0.0304,
          0.0278,
          0.0313,
          0.0316,
          0.0337,
          0.0304,
          0.0388,
          0.0334,
          0.0977,
          0.0393,
          0.107,
          0.041,
          0.0251,
          0.0469,
          0.045,
          0.072,
          0.0822,
          0.0309,
          0.0373,
          0.0342,
          0.0604,
          0.0517,
          0.0324,
          0.0283,
          0.0298,
          0.0638,
          0.0737,
          0.0415,
          0.0289,
          0.0882,
          0.0377,
          0.103,
          0.0934,
          0.0402,
          0.0515,
          0.0609,
          0.0878,
          0.0409,
          0.0441
         ]
        },
        {
         "customdata": [
          [
           "Harry Styles",
           "2022"
          ],
          [
           "Zara Larsson",
           "2017"
          ],
          [
           "Adele",
           "2021"
          ],
          [
           "Shawn Mendes",
           "2017"
          ],
          [
           "Ariana Grande",
           "2016"
          ],
          [
           "Katy Perry",
           "2013"
          ],
          [
           "DNCE",
           "2016"
          ],
          [
           "Maroon 5",
           "2014"
          ],
          [
           "Miley Cyrus",
           "2013"
          ],
          [
           "Shawn Mendes",
           "2017"
          ],
          [
           "Charlie Puth",
           "2018"
          ],
          [
           "Ava Max",
           "2020"
          ],
          [
           "Carly Rae Jepsen",
           "2012"
          ],
          [
           "Jason Derulo",
           "2015"
          ],
          [
           "Maroon 5",
           "2012"
          ],
          [
           "Charlie Puth",
           "2018"
          ],
          [
           "Clean Bandit",
           "2018"
          ],
          [
           "Demi Lovato",
           "2015"
          ],
          [
           "Halsey",
           "2020"
          ],
          [
           "Sia",
           "2016"
          ],
          [
           "Katy Perry",
           "2013"
          ],
          [
           "Calvin Harris",
           "2016"
          ],
          [
           "ZAYN",
           "2017"
          ],
          [
           "Selena Gomez",
           "2017"
          ],
          [
           "Maroon 5",
           "2017"
          ],
          [
           "OneRepublic",
           "2013"
          ],
          [
           "Lady Gaga",
           "2013"
          ],
          [
           "Katy Perry",
           "2017"
          ],
          [
           "Harry Styles",
           "2019"
          ],
          [
           "Taylor Swift",
           "2014"
          ],
          [
           "Camila Cabello",
           "2018"
          ],
          [
           "Maroon 5",
           "2021"
          ],
          [
           "Dua Lipa",
           "2020"
          ],
          [
           "Alesso",
           "2021"
          ],
          [
           "Calvin Harris",
           "2018"
          ],
          [
           "Katy Perry",
           "2010"
          ],
          [
           "Miley Cyrus",
           "2020"
          ],
          [
           "Dua Lipa",
           "2017"
          ],
          [
           "Sia",
           "2016"
          ],
          [
           "Shawn Mendes",
           "2015"
          ],
          [
           "Niall Horan",
           "2017"
          ],
          [
           "Maroon 5",
           "2012"
          ],
          [
           "Demi Lovato",
           "2013"
          ],
          [
           "Charlie Puth",
           "2022"
          ],
          [
           "Selena Gomez",
           "2015"
          ],
          [
           "Katy Perry",
           "2017"
          ],
          [
           "Dua Lipa",
           "2020"
          ],
          [
           "Miley Cyrus",
           "2023"
          ],
          [
           "Ava Max",
           "2023"
          ],
          [
           "P!nk",
           "2012"
          ]
         ],
         "hovertemplate": "<b>%{hovertext}</b><br><br>genre=pop<br>energy=%{x}<br>instrumentalness=%{y}<br>speechiness=%{z}<br>artist_name=%{customdata[0]}<br>year=%{customdata[1]}<br>cluster=%{marker.color}<extra></extra>",
         "hovertext": [
          "As It Was",
          "So Good (feat. Ty Dolla $ign)",
          "Easy On Me",
          "Treat You Better",
          "Into You",
          "Roar",
          "Cake By The Ocean",
          "Maps",
          "Wrecking Ball",
          "Mercy",
          "Attention",
          "Sweet but Psycho",
          "Call Me Maybe",
          "Want to Want Me",
          "Payphone",
          "How Long",
          "Rockabye (feat. Sean Paul & Anne-Marie)",
          "Cool for the Summer",
          "Without Me",
          "Cheap Thrills",
          "Dark Horse",
          "This Is What You Came For",
          "I Don’t Wanna Live Forever (Fifty Shades Darker)",
          "Wolves",
          "Don't Wanna Know",
          "Counting Stars",
          "Applause",
          "Swish Swish",
          "Watermelon Sugar",
          "Blank Space",
          "Never Be the Same",
          "Beautiful Mistakes (feat. Megan Thee Stallion)",
          "Love Again",
          "When I’m Gone (with Katy Perry)",
          "One Kiss (with Dua Lipa)",
          "Teenage Dream",
          "Prisoner (feat. Dua Lipa)",
          "IDGAF",
          "The Greatest (feat. Kendrick Lamar)",
          "I Know What You Did Last Summer",
          "Slow Hands",
          "One More Night",
          "Heart Attack",
          "Light Switch",
          "Hands To Myself",
          "Chained To The Rhythm",
          "Levitating (feat. DaBaby)",
          "Flowers",
          "Dancing’s Done",
          "Try"
         ],
         "legendgroup": "pop",
         "marker": {
          "color": [
           1,
           1,
           1,
           1,
           1,
           1,
           1,
           1,
           1,
           1,
           1,
           1,
           1,
           1,
           1,
           1,
           1,
           1,
           1,
           1,
           1,
           1,
           1,
           1,
           1,
           1,
           1,
           1,
           1,
           1,
           1,
           1,
           1,
           1,
           1,
           1,
           1,
           1,
           1,
           1,
           1,
           1,
           1,
           1,
           1,
           1,
           1,
           1,
           1,
           1
          ],
          "coloraxis": "coloraxis",
          "line": {
           "width": 1
          },
          "opacity": 0.7,
          "size": 5,
          "symbol": "x"
         },
         "mode": "markers",
         "name": "pop",
         "scene": "scene",
         "showlegend": true,
         "type": "scatter3d",
         "x": [
          0.731,
          0.576,
          0.366,
          0.819,
          0.734,
          0.771,
          0.753,
          0.713,
          0.422,
          0.662,
          0.613,
          0.706,
          0.58,
          0.68,
          0.752,
          0.561,
          0.73,
          0.61,
          0.488,
          0.698,
          0.585,
          0.927,
          0.445,
          0.804,
          0.61,
          0.705,
          0.78,
          0.705,
          0.816,
          0.703,
          0.713,
          0.676,
          0.667,
          0.886,
          0.862,
          0.798,
          0.67,
          0.544,
          0.725,
          0.761,
          0.425,
          0.821,
          0.785,
          0.627,
          0.499,
          0.8,
          0.825,
          0.681,
          0.835,
          0.628
         ],
         "y": [
          0.00101,
          0,
          0,
          0,
          0.0000019,
          0.00000728,
          0,
          0,
          0,
          0,
          0.0000233,
          0,
          0.00000228,
          0,
          0,
          0.00000349,
          0,
          0.000105,
          0.00000911,
          0.00143,
          0,
          0.119,
          0.0000196,
          0,
          0,
          0,
          0.00000163,
          0.0000182,
          0,
          0,
          0.000637,
          0,
          0.0000285,
          0,
          0.0000219,
          0.00000234,
          0,
          0,
          0.000479,
          0,
          0,
          0,
          0,
          0.000321,
          0.00000244,
          0,
          0,
          0.00000515,
          0.00000161,
          0
         ],
         "z": [
          0.0557,
          0.146,
          0.0282,
          0.341,
          0.107,
          0.0316,
          0.0517,
          0.0303,
          0.0342,
          0.0827,
          0.0542,
          0.0473,
          0.0408,
          0.0629,
          0.0414,
          0.0778,
          0.0568,
          0.0382,
          0.0705,
          0.105,
          0.0512,
          0.0332,
          0.0533,
          0.0448,
          0.0696,
          0.0382,
          0.053,
          0.0449,
          0.0465,
          0.054,
          0.0747,
          0.027,
          0.0339,
          0.034,
          0.11,
          0.0361,
          0.0452,
          0.0943,
          0.266,
          0.0876,
          0.0464,
          0.0314,
          0.104,
          0.308,
          0.118,
          0.112,
          0.0601,
          0.0668,
          0.0595,
          0.03
         ]
        },
        {
         "customdata": [
          [
           "23",
           "2022"
          ],
          [
           "Yasin",
           "2019"
          ],
          [
           "Hov1",
           "2021"
          ],
          [
           "Dr. Dre",
           "1999"
          ],
          [
           "2Pac",
           "1996"
          ],
          [
           "Eminem",
           "2000"
          ],
          [
           "Ice Cube",
           "1991"
          ],
          [
           "Nas",
           "1994"
          ],
          [
           "Makaveli",
           "1996"
          ],
          [
           "The Game",
           "2005"
          ],
          [
           "Big Pun",
           "1998"
          ],
          [
           "2Pac",
           "1996"
          ],
          [
           "Eminem",
           "2004"
          ],
          [
           "Nas",
           "1996"
          ],
          [
           "Wu-Tang Clan",
           "1993"
          ],
          [
           "The Notorious B.I.G.",
           "1994"
          ],
          [
           "2Pac",
           "1995"
          ],
          [
           "Dr. Dre",
           "1999"
          ],
          [
           "Nas",
           "1996"
          ],
          [
           "Eminem",
           "2002"
          ],
          [
           "The Notorious B.I.G.",
           "1997"
          ],
          [
           "Mobb Deep",
           "1995"
          ],
          [
           "2Pac",
           "1998"
          ],
          [
           "Xzibit",
           "2002"
          ],
          [
           "Wu-Tang Clan",
           "1997"
          ],
          [
           "The Notorious B.I.G.",
           "1994"
          ],
          [
           "Dr. Dre",
           "1992"
          ],
          [
           "Nas",
           "1994"
          ],
          [
           "Eminem",
           "2002"
          ],
          [
           "Kendrick Lamar",
           "2017"
          ],
          [
           "2Pac",
           "1998"
          ],
          [
           "The Notorious B.I.G.",
           "1994"
          ],
          [
           "Wu-Tang Clan",
           "1993"
          ],
          [
           "Eminem",
           "1999"
          ],
          [
           "Ice Cube",
           "2008"
          ],
          [
           "2Pac",
           "1993"
          ],
          [
           "The Notorious B.I.G.",
           "1994"
          ],
          [
           "Bone Thugs-N-Harmony",
           "1994"
          ],
          [
           "Onyx",
           "1993"
          ],
          [
           "50 Cent",
           "2005"
          ],
          [
           "Wu-Tang Clan",
           "1993"
          ],
          [
           "Mobb Deep",
           "1995"
          ],
          [
           "Eminem",
           "2010"
          ],
          [
           "G-Unit",
           "2003"
          ],
          [
           "Migos",
           "2017"
          ],
          [
           "Ice Cube",
           "1993"
          ],
          [
           "Dr. Dre",
           "1999"
          ],
          [
           "2Pac",
           "1996"
          ],
          [
           "Eminem",
           "2000"
          ],
          [
           "T.I.",
           "2010"
          ]
         ],
         "hovertemplate": "<b>%{hovertext}</b><br><br>genre=hip-hop<br>energy=%{x}<br>instrumentalness=%{y}<br>speechiness=%{z}<br>artist_name=%{customdata[0]}<br>year=%{customdata[1]}<br>cluster=%{marker.color}<extra></extra>",
         "hovertext": [
          "M.O.B",
          "XO",
          "Gamora",
          "Still D.R.E.",
          "Ambitionz Az A Ridah",
          "The Real Slim Shady",
          "No Vaseline",
          "N.Y. State of Mind",
          "Hail Mary",
          "How We Do",
          "Twinz (feat. Fat Joe)",
          "All Eyez On Me (ft. Big Syke)",
          "Like Toy Soldiers",
          "If I Ruled the World (Imagine That) (feat. Lauryn Hill)",
          "Wu-Tang Clan Ain't Nuthing ta F' Wit (feat. RZA, Inspectah Deck & Method Man)",
          "Gimme the Loot - 2005 Remaster",
          "Dear Mama",
          "What's The Difference",
          "The Message",
          "Superman",
          "Notorious Thugs - 2014 Remaster",
          "Survival of the Fittest",
          "Changes",
          "My Name (feat. Eminem & Nate Dogg)",
          "Triumph (feat. Ol' Dirty Bastard, Inspectah Deck, Method Man, Cappadonna, U-God, RZA, GZA, Masta Killa, Ghostface Killah & Raekwon)",
          "Juicy - 2005 Remaster",
          "Nuthin' But A \"G\" Thang",
          "The World Is Yours",
          "Business",
          "DNA.",
          "Hit 'Em Up - Single Version",
          "Big Poppa - 2005 Remaster",
          "Protect Ya Neck (feat. RZA, Method Man, Inspectah Deck, Raekwon, U-God, Ol' Dirty Bastard, Ghostface Killah & GZA)",
          "Guilty Conscience",
          "Gangsta Rap Made Me Do It",
          "Keep Ya Head Up",
          "Warning - 2005 Remaster",
          "Foe Tha Love of $",
          "Slam",
          "Just A Lil Bit",
          "Shame On a Nigga (feat. Raekwon, Ol' Dirty Bastard & Method Man)",
          "Shook Ones, Pt. II",
          "No Love",
          "Poppin' Them Thangs",
          "Slippery (feat. Gucci Mane)",
          "You Know How We Do It",
          "Forgot About Dre",
          "All About U (ft. Nate Dogg, Snoop Dogg, Fatal, Yani Hadati)",
          "Bitch Please II",
          "That's All She Wrote"
         ],
         "legendgroup": "hip-hop",
         "marker": {
          "color": [
           1,
           1,
           1,
           1,
           1,
           1,
           1,
           1,
           1,
           1,
           1,
           1,
           1,
           1,
           1,
           1,
           1,
           1,
           1,
           1,
           1,
           1,
           1,
           1,
           1,
           1,
           1,
           1,
           1,
           1,
           1,
           1,
           1,
           1,
           1,
           1,
           1,
           1,
           1,
           1,
           1,
           1,
           1,
           1,
           1,
           1,
           1,
           1,
           1,
           1
          ],
          "coloraxis": "coloraxis",
          "line": {
           "width": 1
          },
          "opacity": 0.7,
          "size": 5,
          "symbol": "cross"
         },
         "mode": "markers",
         "name": "hip-hop",
         "scene": "scene",
         "showlegend": true,
         "type": "scatter3d",
         "x": [
          0.635,
          0.527,
          0.733,
          0.775,
          0.91,
          0.661,
          0.927,
          0.91,
          0.636,
          0.648,
          0.764,
          0.723,
          0.768,
          0.564,
          0.566,
          0.662,
          0.54,
          0.821,
          0.543,
          0.755,
          0.873,
          0.703,
          0.665,
          0.738,
          0.639,
          0.818,
          0.821,
          0.794,
          0.813,
          0.523,
          0.844,
          0.575,
          0.552,
          0.789,
          0.745,
          0.732,
          0.791,
          0.695,
          0.71,
          0.692,
          0.466,
          0.786,
          0.932,
          0.818,
          0.675,
          0.52,
          0.74,
          0.793,
          0.586,
          0.785
         ],
         "y": [
          0.000049,
          0,
          0,
          0.00031,
          0.000891,
          0,
          0,
          0,
          0.0000128,
          0,
          0.0000034,
          0,
          0.00034,
          0.00000943,
          0,
          0,
          0,
          0,
          0.0000328,
          0,
          0.00000512,
          0.00000126,
          0,
          0.0000571,
          0.0000274,
          0,
          0,
          0.00000168,
          0.0000109,
          0,
          0,
          0,
          0.00000701,
          0,
          0.000021,
          0,
          0.0000142,
          0,
          0.00312,
          0.00608,
          0.00000737,
          0.0114,
          0,
          0,
          0,
          0.0537,
          0,
          0,
          0,
          0
         ],
         "z": [
          0.282,
          0.436,
          0.155,
          0.234,
          0.225,
          0.0572,
          0.395,
          0.223,
          0.335,
          0.251,
          0.323,
          0.247,
          0.359,
          0.247,
          0.311,
          0.403,
          0.103,
          0.25,
          0.374,
          0.0564,
          0.144,
          0.268,
          0.073,
          0.219,
          0.358,
          0.253,
          0.29,
          0.14,
          0.199,
          0.357,
          0.236,
          0.273,
          0.385,
          0.364,
          0.097,
          0.425,
          0.476,
          0.0735,
          0.347,
          0.41,
          0.36,
          0.229,
          0.255,
          0.192,
          0.263,
          0.0357,
          0.0774,
          0.134,
          0.133,
          0.306
         ]
        },
        {
         "customdata": [
          [
           "Lil Uzi Vert",
           "2023"
          ],
          [
           "Polo G",
           "2023"
          ],
          [
           "Metro Boomin",
           "2022"
          ],
          [
           "Superstar Pride",
           "2022"
          ],
          [
           "Drake",
           "2022"
          ],
          [
           "Lil Baby",
           "2017"
          ],
          [
           "NLE Choppa",
           "2022"
          ],
          [
           "Lil Uzi Vert",
           "2022"
          ],
          [
           "Metro Boomin",
           "2022"
          ],
          [
           "Souls Of Mischief",
           "1993"
          ],
          [
           "Lil Baby",
           "2022"
          ],
          [
           "Ghostluvme",
           "2023"
          ],
          [
           "Lil Durk",
           "2022"
          ],
          [
           "J. Cole",
           "2014"
          ],
          [
           "Don Toliver",
           "2023"
          ],
          [
           "Central Cee",
           "2023"
          ],
          [
           "Gucci Mane",
           "2023"
          ],
          [
           "Metro Boomin",
           "2022"
          ],
          [
           "NLE Choppa",
           "2023"
          ],
          [
           "Lil Durk",
           "2022"
          ],
          [
           "SoFaygo",
           "2022"
          ],
          [
           "NLE Choppa",
           "2022"
          ],
          [
           "Coi Leray",
           "2022"
          ],
          [
           "Ice Spice",
           "2023"
          ],
          [
           "Drake",
           "2022"
          ],
          [
           "Polo G",
           "2022"
          ],
          [
           "DJ Drama",
           "2023"
          ],
          [
           "Nas",
           "2022"
          ],
          [
           "Moneybagg Yo",
           "2022"
          ],
          [
           "Lambo4oe",
           "2023"
          ],
          [
           "Peezy",
           "2022"
          ],
          [
           "Roddy Ricch",
           "2022"
          ],
          [
           "A Boogie Wit da Hoodie",
           "2022"
          ],
          [
           "Trippie Redd",
           "2023"
          ],
          [
           "GloRilla",
           "2023"
          ],
          [
           "Lil Tecca",
           "2022"
          ],
          [
           "Finesse2tymes",
           "2022"
          ],
          [
           "Young Dolph",
           "2022"
          ],
          [
           "Baby Tate",
           "2016"
          ],
          [
           "Rae Sremmurd",
           "2022"
          ],
          [
           "A Boogie Wit da Hoodie",
           "2023"
          ],
          [
           "Flo Milli",
           "2023"
          ],
          [
           "Lola Brooke",
           "2021"
          ],
          [
           "Young Dolph",
           "2022"
          ],
          [
           "Central Cee",
           "2022"
          ],
          [
           "YG",
           "2023"
          ],
          [
           "DaBaby",
           "2023"
          ],
          [
           "Yeat",
           "2022"
          ],
          [
           "Latto",
           "2022"
          ],
          [
           "NAV",
           "2023"
          ],
          [
           "TiaCorine",
           "2022"
          ]
         ],
         "hovertemplate": "<b>%{hovertext}</b><br><br>genre=rap<br>energy=%{x}<br>instrumentalness=%{y}<br>speechiness=%{z}<br>artist_name=%{customdata[0]}<br>year=%{customdata[1]}<br>cluster=%{marker.color}<extra></extra>",
         "hovertext": [
          "Watch This - ARIZONATEARS Pluggnb Remix",
          "No Time Wasted (feat. Future)",
          "Superhero (Heroes & Villains) [with Future & Chris Brown]",
          "PAINTING PICTURES",
          "Rich Flex",
          "Freestyle",
          "Slut Me Out",
          "Just Wanna Rock",
          "Niagara Falls (Foot or 2) [with Travis Scott & 21 Savage]",
          "93 'Til Infinity",
          "Forever (feat. Fridayy)",
          "Fact (feat. Lil Uzi Vert)",
          "Mad Max",
          "No Role Modelz",
          "Leave The Club (feat. Lil Durk & GloRilla)",
          "Me & You",
          "King Snipe",
          "Too Many Nights (feat. Don Toliver & with Future)",
          "23",
          "Hanging With Wolves",
          "Hell Yeah",
          "Do It Again (feat. 2Rare)",
          "Players",
          "In Ha Mood",
          "Pussy & Millions (feat. Travis Scott)",
          "My All",
          "HO4ME",
          "One Mic, One Gun",
          "Quickie",
          "Self Esteem (featuring NLE Choppa)",
          "2 Million Up",
          "Twin (feat. Lil Durk)",
          "Water (Drowning Pt. 2) [feat. Kodak Black]",
          "KNIGHT CRAWLER (feat. Juice WRLD)",
          "Internet Trolls",
          "Blessing",
          "If You Still Wit Me (feat. Lil Baby)",
          "Love For The Streets",
          "Hey, Mickey!",
          "Torpedo",
          "No 808’s (feat. Vory)",
          "Conceited (feat. Lola Brooke & Maiya The Don)",
          "Don't Play With It (feat. Billy B)",
          "Get Away",
          "LET GO",
          "Let's Ride (feat. YG, Ty Dolla $ign, Lambo4oe) - Trailer Anthem",
          "JOC IN '06",
          "Out thë way",
          "FTCU (feat. GloRilla & Gangsta Boo)",
          "Lately",
          "FreakyT"
         ],
         "legendgroup": "rap",
         "marker": {
          "color": [
           1,
           1,
           1,
           1,
           1,
           1,
           1,
           1,
           1,
           1,
           1,
           1,
           1,
           1,
           1,
           1,
           1,
           1,
           1,
           1,
           1,
           1,
           1,
           1,
           1,
           1,
           1,
           1,
           1,
           1,
           1,
           1,
           1,
           1,
           1,
           1,
           1,
           1,
           1,
           1,
           1,
           1,
           1,
           1,
           1,
           1,
           1,
           1,
           1,
           1,
           1
          ],
          "coloraxis": "coloraxis",
          "line": {
           "width": 1
          },
          "opacity": 0.7,
          "size": 5,
          "symbol": "circle"
         },
         "mode": "markers",
         "name": "rap",
         "scene": "scene",
         "showlegend": true,
         "type": "scatter3d",
         "x": [
          0.897,
          0.495,
          0.606,
          0.515,
          0.52,
          0.517,
          0.606,
          0.545,
          0.658,
          0.672,
          0.251,
          0.684,
          0.64,
          0.521,
          0.701,
          0.667,
          0.526,
          0.671,
          0.487,
          0.636,
          0.708,
          0.64,
          0.516,
          0.74,
          0.63,
          0.613,
          0.541,
          0.916,
          0.506,
          0.699,
          0.423,
          0.609,
          0.603,
          0.769,
          0.882,
          0.636,
          0.766,
          0.733,
          0.507,
          0.63,
          0.503,
          0.761,
          0.726,
          0.642,
          0.449,
          0.554,
          0.524,
          0.628,
          0.633,
          0.501,
          0.542
         ],
         "y": [
          0.103,
          0,
          0.00000236,
          0,
          0.00000186,
          0,
          0,
          0.00474,
          0.0000866,
          0.00000104,
          0,
          0,
          0,
          0,
          0,
          0,
          0,
          0.0000237,
          0.00000218,
          0,
          0,
          0,
          0.00000754,
          0.00000681,
          0,
          0,
          0,
          0,
          0,
          0,
          0,
          0.0000547,
          0,
          0,
          0,
          0,
          0,
          0.000017,
          0,
          0.00136,
          0.00000222,
          0.0000189,
          0,
          0.0000676,
          0,
          0.00418,
          0,
          0.00000879,
          0,
          0.0000171,
          0.000494
         ],
         "z": [
          0.0386,
          0.45,
          0.259,
          0.337,
          0.244,
          0.0706,
          0.419,
          0.0336,
          0.309,
          0.412,
          0.159,
          0.108,
          0.255,
          0.339,
          0.0338,
          0.367,
          0.277,
          0.0464,
          0.204,
          0.0612,
          0.0438,
          0.317,
          0.16,
          0.336,
          0.116,
          0.414,
          0.421,
          0.207,
          0.432,
          0.0564,
          0.275,
          0.186,
          0.284,
          0.24,
          0.414,
          0.177,
          0.345,
          0.216,
          0.0587,
          0.0579,
          0.393,
          0.0979,
          0.109,
          0.0535,
          0.383,
          0.064,
          0.279,
          0.242,
          0.298,
          0.0471,
          0.064
         ]
        },
        {
         "customdata": [
          [
           "Mark Knopfler",
           "2015"
          ],
          [
           "Canned Heat",
           "1989"
          ],
          [
           "Uncle Lucius",
           "2012"
          ],
          [
           "Taj Mahal",
           "1968"
          ],
          [
           "Derek & The Dominos",
           "1970"
          ],
          [
           "T-Bone Walker",
           "2005"
          ],
          [
           "Howlin' Wolf",
           "1958"
          ],
          [
           "Freddie King",
           "1971"
          ],
          [
           "Fenton Robinson",
           "1974"
          ],
          [
           "Sonny Boy Williamson II",
           "1966"
          ],
          [
           "Little Walter",
           "1993"
          ],
          [
           "Stevie Ray Vaughan",
           "1983"
          ],
          [
           "Freddie King",
           "1971"
          ],
          [
           "John Lee Hooker",
           "1966"
          ],
          [
           "T-Bone Walker",
           "2005"
          ],
          [
           "Jimmy Reed",
           "2003"
          ],
          [
           "Sonny Boy Williamson II",
           "1965"
          ],
          [
           "Buddy Guy",
           "1991"
          ],
          [
           "Muddy Waters",
           "1977"
          ],
          [
           "Willie Dixon",
           "1947"
          ],
          [
           "Bryce Janey",
           "2010"
          ],
          [
           "B.B. King",
           "1957"
          ],
          [
           "Jonny Lang",
           "1997"
          ],
          [
           "Freddie King",
           "1972"
          ],
          [
           "Stevie Ray Vaughan",
           "1984"
          ],
          [
           "Eric Bibb",
           "2004"
          ],
          [
           "Howlin' Wolf",
           "1958"
          ],
          [
           "Elmore James",
           "1975"
          ],
          [
           "Jonny Lang",
           "1998"
          ],
          [
           "Muddy Waters",
           "1964"
          ],
          [
           "Albert Collins",
           "1997"
          ],
          [
           "John Mayall & The Bluesbreakers",
           "1966"
          ],
          [
           "Kenny Wayne Shepherd",
           "2011"
          ],
          [
           "Albert King",
           "1967"
          ],
          [
           "Melvin Taylor",
           "2014"
          ],
          [
           "Muddy Waters",
           "1964"
          ],
          [
           "Stevie Ray Vaughan",
           "1983"
          ],
          [
           "B.B. King",
           "1970"
          ],
          [
           "Junior Wells",
           "1957"
          ],
          [
           "Earl Hooker",
           "1990"
          ],
          [
           "Johnny Winter",
           "1969"
          ],
          [
           "Stevie Ray Vaughan",
           "1984"
          ],
          [
           "John Lee Hooker",
           "1971"
          ],
          [
           "Howlin' Wolf",
           "1958"
          ],
          [
           "B.B. King",
           "1969"
          ],
          [
           "Albert Collins",
           "1978"
          ],
          [
           "Eric Clapton",
           "2000"
          ],
          [
           "Buddy Guy",
           "2015"
          ],
          [
           "Joe Bonamassa",
           "2006"
          ],
          [
           "Robert Johnson",
           "1937"
          ]
         ],
         "hovertemplate": "<b>%{hovertext}</b><br><br>genre=blues<br>energy=%{x}<br>instrumentalness=%{y}<br>speechiness=%{z}<br>artist_name=%{customdata[0]}<br>year=%{customdata[1]}<br>cluster=%{marker.color}<extra></extra>",
         "hovertext": [
          "Beryl",
          "Going Up The Country",
          "Keep The Wolves Away",
          "Statesboro Blues",
          "Have You Ever Loved A Woman?",
          "T-Bone Blues",
          "Smokestack Lightnin'",
          "I'm Tore Down",
          "Somebody Loan Me A Dime",
          "Help Me",
          "My Babe",
          "Lenny",
          "Same Old Blues",
          "One Bourbon, One Scotch, One Beer",
          "Mean Old World",
          "Baby What You Want Me To Do",
          "Bring It On Home",
          "Damn Right, I've Got the Blues",
          "I'm Your Hoochie Coochie Man",
          "Little Red Rooster",
          "Funky Guitar Blues",
          "Three O'clock Blues",
          "Lie To Me",
          "Ain't No Sunshine",
          "Little Wing",
          "Don't Ever Let Nobody Drag Your Spirit Down",
          "How Many More Years",
          "It Hurts Me Too",
          "Before You Hit The Ground",
          "My Home Is In The Delta",
          "T-Bone Shuffle",
          "All Your Love - Stereo",
          "Dark Side of Love",
          "Born Under A Bad Sign - Mono Mix",
          "Cadillac Assembly Line",
          "Good Morning Little School Girl",
          "Mary Had a Little Lamb",
          "Hummingbird",
          "She's A Sweet One",
          "Two Bugs and a Roach",
          "Mean Mistreater",
          "The Sky Is Crying - 1984 Version",
          "Whiskey And Wimmen'",
          "Moanin' At Midnight",
          "The Thrill Is Gone",
          "Cold, Cold Feeling",
          "Ten Long Years",
          "Whiskey, Beer & Wine",
          "So Many Roads",
          "Cross Road Blues"
         ],
         "legendgroup": "blues",
         "marker": {
          "color": [
           1,
           1,
           1,
           1,
           1,
           1,
           1,
           1,
           1,
           1,
           1,
           2,
           1,
           1,
           1,
           1,
           1,
           1,
           1,
           1,
           1,
           1,
           1,
           1,
           2,
           1,
           1,
           1,
           1,
           1,
           1,
           1,
           1,
           1,
           1,
           1,
           1,
           1,
           1,
           1,
           1,
           1,
           1,
           1,
           1,
           1,
           1,
           1,
           1,
           1
          ],
          "coloraxis": "coloraxis",
          "line": {
           "width": 1
          },
          "opacity": 0.7,
          "size": 5,
          "symbol": "diamond"
         },
         "mode": "markers",
         "name": "blues",
         "scene": "scene",
         "showlegend": true,
         "type": "scatter3d",
         "x": [
          0.458,
          0.239,
          0.351,
          0.481,
          0.648,
          0.283,
          0.342,
          0.496,
          0.584,
          0.436,
          0.334,
          0.171,
          0.287,
          0.56,
          0.235,
          0.302,
          0.396,
          0.921,
          0.588,
          0.278,
          0.871,
          0.439,
          0.693,
          0.363,
          0.383,
          0.31,
          0.642,
          0.623,
          0.876,
          0.131,
          0.695,
          0.625,
          0.879,
          0.483,
          0.355,
          0.307,
          0.493,
          0.295,
          0.483,
          0.568,
          0.49,
          0.431,
          0.686,
          0.507,
          0.46,
          0.281,
          0.551,
          0.767,
          0.756,
          0.311
         ],
         "y": [
          0.096,
          0.051,
          0.00059,
          0.00004,
          0.053,
          0.0367,
          0.000128,
          0.0000463,
          0.0000246,
          0.0213,
          0,
          0.458,
          0.000449,
          0,
          0.0112,
          0.0107,
          0.00533,
          0.065,
          0.158,
          0.21,
          0.0128,
          0.00143,
          0.000295,
          0.000147,
          0.749,
          0.00126,
          0.0165,
          0.00114,
          0.00278,
          0.0214,
          0.188,
          0.0000508,
          0.00396,
          0.012,
          0.094,
          0.00663,
          0.153,
          0.182,
          0.0265,
          0.00534,
          0.00728,
          0.137,
          0.265,
          0.00607,
          0.442,
          0.0258,
          0.00322,
          0.0423,
          0.148,
          0.000261
         ],
         "z": [
          0.034,
          0.0447,
          0.0318,
          0.0488,
          0.0512,
          0.0527,
          0.043,
          0.0413,
          0.0746,
          0.043,
          0.0508,
          0.0422,
          0.0376,
          0.0565,
          0.0355,
          0.0353,
          0.0388,
          0.0758,
          0.0665,
          0.0312,
          0.029,
          0.0379,
          0.0407,
          0.0512,
          0.0375,
          0.0605,
          0.085,
          0.0392,
          0.0873,
          0.0371,
          0.0377,
          0.0302,
          0.0469,
          0.0298,
          0.0387,
          0.0836,
          0.0302,
          0.0292,
          0.0542,
          0.0751,
          0.0267,
          0.0437,
          0.14,
          0.0463,
          0.0256,
          0.0379,
          0.0261,
          0.0268,
          0.039,
          0.0525
         ]
        },
        {
         "customdata": [
          [
           "Beyoncé",
           "2023"
          ],
          [
           "SZA",
           "2022"
          ],
          [
           "Miguel",
           "2010"
          ],
          [
           "Victoria Monét",
           "2023"
          ],
          [
           "NxWorries",
           "2022"
          ],
          [
           "Coco Jones",
           "2023"
          ],
          [
           "Ella Mai",
           "2023"
          ],
          [
           "Mario",
           "2023"
          ],
          [
           "Jacquees",
           "2022"
          ],
          [
           "Chlöe",
           "2023"
          ],
          [
           "Ari Lennox",
           "2022"
          ],
          [
           "Beyoncé",
           "2022"
          ],
          [
           "Kali Uchis",
           "2023"
          ],
          [
           "Daniel Caesar",
           "2023"
          ],
          [
           "Coco Jones",
           "2022"
          ],
          [
           "Leon Thomas",
           "2022"
          ],
          [
           "SZA",
           "2022"
          ],
          [
           "Ambré",
           "2022"
          ],
          [
           "Lucky Daye",
           "2023"
          ],
          [
           "SiR",
           "2022"
          ],
          [
           "Ari Lennox",
           "2022"
          ],
          [
           "Janelle Monáe",
           "2023"
          ],
          [
           "Wizkid",
           "2022"
          ],
          [
           "Masego",
           "2022"
          ],
          [
           "Eric Bellinger",
           "2023"
          ],
          [
           "FLO",
           "2022"
          ],
          [
           "Brent Faiyaz",
           "2022"
          ],
          [
           "SZA",
           "2022"
          ],
          [
           "Daniel Caesar",
           "2023"
          ],
          [
           "Kelela",
           "2023"
          ],
          [
           "Lucky Daye",
           "2022"
          ],
          [
           "Jeremih",
           "2022"
          ],
          [
           "SAULT",
           "2022"
          ],
          [
           "Mario",
           "2022"
          ],
          [
           "Vedo",
           "2023"
          ],
          [
           "Jessie Reyez",
           "2022"
          ],
          [
           "The Weeknd",
           "2016"
          ],
          [
           "Queen Naija",
           "2023"
          ],
          [
           "Eric Bellinger",
           "2022"
          ],
          [
           "Mariah the Scientist",
           "2022"
          ],
          [
           "SZA",
           "2022"
          ],
          [
           "Sonder",
           "2022"
          ],
          [
           "DESTIN CONRAD",
           "2022"
          ],
          [
           "Diddy",
           "2022"
          ],
          [
           "Chris Brown",
           "2022"
          ],
          [
           "Muni Long",
           "2022"
          ],
          [
           "Alex Vaughn",
           "2022"
          ],
          [
           "Snoh Aalegra",
           "2021"
          ],
          [
           "Rihanna",
           "2022"
          ],
          [
           "Kenyon Dixon",
           "2022"
          ],
          [
           "Giveon",
           "2022"
          ]
         ],
         "hovertemplate": "<b>%{hovertext}</b><br><br>genre=r&b<br>energy=%{x}<br>instrumentalness=%{y}<br>speechiness=%{z}<br>artist_name=%{customdata[0]}<br>year=%{customdata[1]}<br>cluster=%{marker.color}<extra></extra>",
         "hovertext": [
          "CUFF IT - WETTER REMIX",
          "Snooze",
          "Sure Thing",
          "We Might Even Be Falling In Love (Duet) - Spotify Singles",
          "Where I Go (feat. H.E.R.)",
          "Until The End Of Time - Spotify Singles",
          "This Is",
          "Used To Me (feat. Ty Dolla $ign)",
          "Tell Me It's Over (feat. Summer Walker & 6LACK)",
          "Pray It Away",
          "Waste My Time",
          "PLASTIC OFF THE SOFA",
          "I Wish you Roses",
          "Let Me Go",
          "ICU",
          "Breaking Point",
          "Love Language",
          "I'm Baby (ft. Jvck James)",
          "Careful (From The Original Motion Picture \"Magic Mike's Last Dance\")",
          "Nothing Even Matters",
          "Queen Space (with Summer Walker)",
          "Float (feat. Seun Kuti & Egypt 80)",
          "2 Sugar (feat. Ayra Starr)",
          "Say You Want Me",
          "Curious (feat. Fabolous)",
          "Feature Me",
          "ALL MINE",
          "Shirt",
          "Do You Like Me?",
          "Enough for Love",
          "Apply Pressure",
          "Changes",
          "Fight for Love",
          "Like Her Too",
          "FOREVER",
          "FOREVER (with 6LACK)",
          "Die For You",
          "Let's Talk About It",
          "Obsession (feat. Muni Long) - Remix",
          "Spread Thin",
          "Blind",
          "Make Me Stay",
          "DAYDREAM",
          "Gotta Move On (feat. Bryson Tiller)",
          "Call Me Every Day (feat. Wizkid)",
          "The Words",
          "So Be It",
          "DO 4 LOVE",
          "Lift Me Up - From Black Panther: Wakanda Forever - Music From and Inspired By",
          "Getting Late",
          "Make You Mine"
         ],
         "legendgroup": "r&b",
         "marker": {
          "color": [
           1,
           1,
           1,
           1,
           1,
           1,
           1,
           1,
           1,
           1,
           1,
           1,
           1,
           1,
           1,
           1,
           1,
           1,
           1,
           1,
           1,
           1,
           1,
           1,
           1,
           1,
           1,
           1,
           1,
           1,
           1,
           1,
           1,
           1,
           1,
           1,
           1,
           1,
           1,
           1,
           1,
           1,
           1,
           1,
           1,
           1,
           1,
           1,
           1,
           1,
           1
          ],
          "coloraxis": "coloraxis",
          "line": {
           "width": 1
          },
          "opacity": 0.7,
          "size": 5,
          "symbol": "square"
         },
         "mode": "markers",
         "name": "r&b",
         "scene": "scene",
         "showlegend": true,
         "type": "scatter3d",
         "x": [
          0.688,
          0.551,
          0.607,
          0.423,
          0.396,
          0.526,
          0.492,
          0.613,
          0.472,
          0.626,
          0.662,
          0.712,
          0.624,
          0.481,
          0.453,
          0.538,
          0.261,
          0.565,
          0.537,
          0.768,
          0.614,
          0.504,
          0.643,
          0.658,
          0.616,
          0.493,
          0.378,
          0.512,
          0.407,
          0.498,
          0.644,
          0.622,
          0.411,
          0.455,
          0.518,
          0.606,
          0.525,
          0.531,
          0.55,
          0.411,
          0.279,
          0.371,
          0.461,
          0.679,
          0.634,
          0.446,
          0.625,
          0.142,
          0.299,
          0.659,
          0.37
         ],
         "y": [
          0,
          0,
          0.000307,
          0.000413,
          0.000985,
          0,
          0,
          0,
          0,
          0,
          0,
          0.00000453,
          0.000899,
          0.0033,
          0,
          0.000019,
          0,
          0.00000165,
          0.0013,
          0,
          0.000176,
          0,
          0,
          0.00164,
          0,
          0.00000832,
          0.0000916,
          0.00232,
          0.00618,
          0.00213,
          0.00000971,
          0,
          0.382,
          0,
          0.0000223,
          0.0000203,
          0,
          0,
          0,
          0,
          0,
          0.0000427,
          0.00000489,
          0,
          0.00000963,
          0,
          0,
          0.00367,
          0,
          0.00044,
          0
         ],
         "z": [
          0.0564,
          0.132,
          0.1,
          0.0784,
          0.206,
          0.043,
          0.157,
          0.0649,
          0.0967,
          0.0778,
          0.0618,
          0.114,
          0.0508,
          0.0634,
          0.0661,
          0.0643,
          0.0784,
          0.0681,
          0.0311,
          0.269,
          0.0668,
          0.124,
          0.134,
          0.134,
          0.313,
          0.0581,
          0.0315,
          0.102,
          0.0422,
          0.155,
          0.398,
          0.128,
          0.0325,
          0.0444,
          0.0835,
          0.0586,
          0.0627,
          0.0855,
          0.0702,
          0.0333,
          0.0373,
          0.0511,
          0.0776,
          0.0556,
          0.184,
          0.0717,
          0.176,
          0.0319,
          0.0315,
          0.234,
          0.0551
         ]
        },
        {
         "customdata": [
          [
           "Yandel",
           "2022"
          ],
          [
           "KAROL G",
           "2023"
          ],
          [
           "Ñengo Flow",
           "2022"
          ],
          [
           "Wisin & Yandel",
           "2022"
          ],
          [
           "Ozuna",
           "2022"
          ],
          [
           "Rauw Alejandro",
           "2022"
          ],
          [
           "Quevedo",
           "2022"
          ],
          [
           "KAROL G",
           "2022"
          ],
          [
           "Myke Towers",
           "2022"
          ],
          [
           "Feid",
           "2022"
          ],
          [
           "Bad Bunny",
           "2022"
          ],
          [
           "Daddy Yankee",
           "2023"
          ],
          [
           "Blessd",
           "2022"
          ],
          [
           "Yandel",
           "2023"
          ],
          [
           "Rauw Alejandro",
           "2022"
          ],
          [
           "KAROL G",
           "2022"
          ],
          [
           "Andy Rivera",
           "2023"
          ],
          [
           "Anuel AA",
           "2020"
          ],
          [
           "Feid",
           "2022"
          ],
          [
           "Yandel",
           "2023"
          ],
          [
           "Chesca",
           "2023"
          ],
          [
           "Rauw Alejandro",
           "2023"
          ],
          [
           "Anuel AA",
           "2022"
          ],
          [
           "Bad Bunny",
           "2022"
          ],
          [
           "Feid",
           "2022"
          ],
          [
           "Daddy Yankee",
           "2004"
          ],
          [
           "Wisin & Yandel",
           "2022"
          ],
          [
           "Mora",
           "2022"
          ],
          [
           "Quevedo",
           "2023"
          ],
          [
           "Sech",
           "2022"
          ],
          [
           "Plan B",
           "2010"
          ],
          [
           "Nio Garcia",
           "2023"
          ],
          [
           "Rauw Alejandro",
           "2023"
          ],
          [
           "Justin Quiles",
           "2023"
          ],
          [
           "Jowell & Randy",
           "2022"
          ],
          [
           "Nicky Jam",
           "2023"
          ],
          [
           "Pablito Pesadilla",
           "2022"
          ],
          [
           "Ryan Castro",
           "2023"
          ],
          [
           "Maluma",
           "2022"
          ],
          [
           "Jhayco",
           "2022"
          ],
          [
           "Tego Calderón",
           "2003"
          ],
          [
           "Brray",
           "2022"
          ],
          [
           "Mora",
           "2022"
          ],
          [
           "Rauw Alejandro",
           "2021"
          ],
          [
           "Don Omar",
           "2003"
          ],
          [
           "Cris Mj",
           "2022"
          ],
          [
           "Anuel AA",
           "2022"
          ],
          [
           "Maria Becerra",
           "2022"
          ],
          [
           "Ivy Queen",
           "2004"
          ],
          [
           "Chris Jedi",
           "2022"
          ],
          [
           "Villano Antillano",
           "2022"
          ]
         ],
         "hovertemplate": "<b>%{hovertext}</b><br><br>genre=reggae<br>energy=%{x}<br>instrumentalness=%{y}<br>speechiness=%{z}<br>artist_name=%{customdata[0]}<br>year=%{customdata[1]}<br>cluster=%{marker.color}<extra></extra>",
         "hovertext": [
          "Yandel 150",
          "X SI VOLVEMOS",
          "Gato de Noche",
          "Besos Moja2",
          "Hey Mor",
          "LOKERA",
          "PUNTO G",
          "CAIRO",
          "ULALA (OOH LA LA)",
          "CHORRITO PA LAS ANIMAS",
          "Efecto",
          "LA HORA Y EL DÍA",
          "Instagram - Remix",
          "Cuando Te Toca",
          "PUNTO 40",
          "GATÚBELA",
          "No Pinto Pajaritos",
          "Hasta Que Dios Diga",
          "Feliz Cumpleaños Ferxxo",
          "Te Gusta",
          "Easy",
          "PANTIES Y BRASIERES",
          "La Máquina",
          "Me Porto Bonito",
          "Normal",
          "Tu Príncipe",
          "Vapor",
          "AIRBNB",
          "WANDA",
          "Foto En Panty",
          "Es un Secreto",
          "Yeska",
          "DE CAROLINA",
          "Whiskey y Coco",
          "Si Te Pillo",
          "Toy a Mil",
          "BABY OTAKU",
          "Ghetto Star",
          "Nos Comemos Vivos",
          "En La De Ella",
          "Pa' Que Retozen",
          "Corazón Roto",
          "LA INOCENTE",
          "Desesperados",
          "Dile",
          "Una Noche en Medellín",
          "Si Yo Me Muero",
          "LA NENA DE ARGENTINA",
          "Quiero Bailar",
          "La Llevo Al Cielo (Ft. Ñengo Flow)",
          "Kaleidoscópica"
         ],
         "legendgroup": "reggae",
         "marker": {
          "color": [
           1,
           1,
           1,
           1,
           1,
           1,
           1,
           1,
           1,
           1,
           1,
           1,
           1,
           1,
           1,
           1,
           1,
           1,
           1,
           1,
           1,
           1,
           1,
           1,
           1,
           1,
           1,
           1,
           1,
           1,
           1,
           1,
           1,
           1,
           1,
           1,
           1,
           1,
           1,
           1,
           1,
           1,
           1,
           1,
           1,
           1,
           1,
           1,
           1,
           1,
           1
          ],
          "coloraxis": "coloraxis",
          "line": {
           "width": 1
          },
          "opacity": 0.7,
          "size": 5,
          "symbol": "x"
         },
         "mode": "markers",
         "name": "reggae",
         "scene": "scene",
         "showlegend": true,
         "type": "scatter3d",
         "x": [
          0.729,
          0.78,
          0.662,
          0.727,
          0.589,
          0.828,
          0.761,
          0.692,
          0.681,
          0.831,
          0.475,
          0.83,
          0.677,
          0.742,
          0.826,
          0.858,
          0.676,
          0.765,
          0.55,
          0.882,
          0.668,
          0.888,
          0.775,
          0.712,
          0.557,
          0.804,
          0.779,
          0.718,
          0.631,
          0.892,
          0.783,
          0.549,
          0.958,
          0.768,
          0.781,
          0.845,
          0.747,
          0.652,
          0.719,
          0.77,
          0.856,
          0.664,
          0.789,
          0.694,
          0.714,
          0.548,
          0.703,
          0.58,
          0.842,
          0.845,
          0.634
         ],
         "y": [
          0.000272,
          0,
          0.00000124,
          0.00000191,
          0.000237,
          0.00000591,
          0.000238,
          0.000182,
          0.0000138,
          0.0000643,
          0.0000173,
          0,
          0.000316,
          0.0000147,
          0.0361,
          0,
          0,
          0.00000329,
          0,
          0.0000306,
          0.00259,
          0.00139,
          0.00526,
          0.0000268,
          0,
          0.00001,
          0.0000223,
          0,
          0,
          0,
          0.00000249,
          0.00000391,
          0.00000134,
          0.00000649,
          0.00000432,
          0,
          0,
          0,
          0.0000248,
          0,
          0.0000834,
          0.0000399,
          0,
          0.00125,
          0.000132,
          0.000046,
          0,
          0.000201,
          0,
          0.0000114,
          0.000256
         ],
         "z": [
          0.0691,
          0.249,
          0.162,
          0.0571,
          0.289,
          0.0452,
          0.15,
          0.312,
          0.11,
          0.0584,
          0.0516,
          0.0981,
          0.228,
          0.143,
          0.0876,
          0.386,
          0.279,
          0.111,
          0.0722,
          0.0422,
          0.0987,
          0.0706,
          0.077,
          0.0817,
          0.115,
          0.0623,
          0.0694,
          0.0587,
          0.0686,
          0.119,
          0.0432,
          0.174,
          0.116,
          0.145,
          0.0944,
          0.0559,
          0.083,
          0.204,
          0.0576,
          0.0538,
          0.122,
          0.0482,
          0.0583,
          0.0783,
          0.141,
          0.077,
          0.0757,
          0.188,
          0.105,
          0.135,
          0.12
         ]
        },
        {
         "customdata": [
          [
           "Dean Martin",
           "2013"
          ],
          [
           "Pérez Prado",
           "2006"
          ],
          [
           "Tito Puente",
           "1963"
          ],
          [
           "Cachao",
           "2016"
          ],
          [
           "Cheo Feliciano",
           "1992"
          ],
          [
           "Eddie Palmieri",
           "1964"
          ],
          [
           "Machito Orchestra",
           "1958"
          ],
          [
           "Tito Rodriguez & His Orchestra",
           "1965"
          ],
          [
           "Celia Cruz",
           "2008"
          ],
          [
           "Machito Y Sus Afro-Cubanos",
           "2014"
          ],
          [
           "Tito Rodriguez",
           "2009"
          ],
          [
           "Pérez Prado",
           "2006"
          ],
          [
           "Tito Puente",
           "2001"
          ],
          [
           "Mambo",
           "2004"
          ],
          [
           "Machito & His Afro Cubans",
           "1954"
          ],
          [
           "Ray Barretto",
           "1972"
          ],
          [
           "Machito Orchestra",
           "1958"
          ],
          [
           "Perry Como",
           "1999"
          ],
          [
           "Cachao",
           "2015"
          ],
          [
           "Pérez Prado",
           "2016"
          ],
          [
           "Machito & His Orchestra",
           "1956"
          ],
          [
           "Tito Puente",
           "1966"
          ],
          [
           "Eddie Palmieri",
           "1985"
          ],
          [
           "Tito Rodriguez & His Orchestra",
           "1959"
          ],
          [
           "Joe Cuba Sextet",
           "1966"
          ],
          [
           "Tito Puente & His Orchestra",
           "1991"
          ],
          [
           "Pérez Prado",
           "1998"
          ],
          [
           "Machito",
           "2015"
          ],
          [
           "Tito Rodriguez",
           "1965"
          ],
          [
           "Bobby Marin",
           "2012"
          ],
          [
           "Tito Puente",
           "1991"
          ],
          [
           "Machito & His Afro-Cuban Orchestra",
           "2008"
          ],
          [
           "Machito",
           "2000"
          ],
          [
           "La Playa Sextet",
           "1960"
          ],
          [
           "Charlie Palmieri",
           "2015"
          ],
          [
           "Tito Puente & His Orchestra",
           "1991"
          ],
          [
           "Tito Rodriguez",
           "2016"
          ],
          [
           "Pérez Prado",
           "2003"
          ],
          [
           "Machito",
           "2009"
          ],
          [
           "Tito Puente",
           "1983"
          ],
          [
           "Machito & His Afro-Cuban Orchestra",
           "2008"
          ],
          [
           "Tito Puente & His Orchestra",
           "1991"
          ],
          [
           "Bobby Marin",
           "2017"
          ],
          [
           "Charlie Palmieri",
           "2015"
          ],
          [
           "Orlando Marin",
           "2012"
          ],
          [
           "Tito Rodriguez",
           "2016"
          ],
          [
           "Machito",
           "2010"
          ],
          [
           "Machito & His Afro-Cuban Orchestra",
           "2008"
          ],
          [
           "Tito Rodriguez",
           "2016"
          ],
          [
           "Machito",
           "2015"
          ],
          [
           "Orlando Marin",
           "2003"
          ],
          [
           "Tito Puente",
           "2015"
          ],
          [
           "Tito Puente",
           "1991"
          ],
          [
           "Tito Rodriguez",
           "1961"
          ],
          [
           "Tito Puente",
           "1991"
          ]
         ],
         "hovertemplate": "<b>%{hovertext}</b><br><br>genre=mambo<br>energy=%{x}<br>instrumentalness=%{y}<br>speechiness=%{z}<br>artist_name=%{customdata[0]}<br>year=%{customdata[1]}<br>cluster=%{marker.color}<extra></extra>",
         "hovertext": [
          "Mambo Italiano",
          "Mambo No 5",
          "Ran Kan Kan",
          "Cogele el Golpe",
          "El Pito (I'll Never Go Back To Georgia)",
          "Azúcar",
          "Me Lo Dijo Adela (Sweet And Gentle)",
          "La Toalla",
          "Cao Cao Maní Picao",
          "Relax & mambo - Remastered",
          "Mamá Güela - Live",
          "Mambo Jambo",
          "Mambo Gozon",
          "Que Rico El Mambo",
          "Mambo Infierno",
          "La Pelota",
          "Rico Vacilon",
          "Papa Loves Mambo",
          "Mambo",
          "El Manicero",
          "Asia Minor",
          "La Guarachera",
          "Yo No Soy Guapo",
          "Mambo Manila",
          "Bochinchosa",
          "Hong Kong Mambo",
          "Patricia",
          "Si Si No No",
          "Blen, Blen, Blen",
          "Charanga Jam",
          "El Cayuco",
          "Babarabatiri",
          "Wild Jungle - 2000 Remaster",
          "Separarla También",
          "Buchipluma Na' Ma'",
          "Saca Tu Mujer",
          "Maria",
          "Patricia",
          "The Herb Vendor",
          "Oye Cómo Va",
          "Mambo Inn",
          "Mi Chiquita Quiere Bembé",
          "Kimbya",
          "Por Que Me Enganas",
          "Aprende Querer",
          "Que Rico",
          "Kenya",
          "El Jamaiquino",
          "No Cuentes Conmigo",
          "Mambo Is Here to Stay",
          "Mi Jebita",
          "Baile Mi Mambo",
          "Complicación",
          "Yambu - Live",
          "Varsity Drag - Mambo Jazz Instrumental"
         ],
         "legendgroup": "mambo",
         "marker": {
          "color": [
           1,
           2,
           0,
           0,
           1,
           1,
           1,
           1,
           1,
           2,
           1,
           2,
           2,
           0,
           1,
           1,
           1,
           1,
           1,
           0,
           0,
           1,
           0,
           0,
           1,
           0,
           0,
           1,
           1,
           1,
           1,
           0,
           0,
           0,
           1,
           0,
           1,
           0,
           1,
           1,
           0,
           1,
           1,
           1,
           1,
           0,
           0,
           1,
           1,
           0,
           1,
           1,
           1,
           1,
           0
          ],
          "coloraxis": "coloraxis",
          "line": {
           "width": 1
          },
          "opacity": 0.7,
          "size": 5,
          "symbol": "cross"
         },
         "mode": "markers",
         "name": "mambo",
         "scene": "scene",
         "showlegend": true,
         "type": "scatter3d",
         "x": [
          0.409,
          0.416,
          0.941,
          0.817,
          0.91,
          0.781,
          0.645,
          0.781,
          0.765,
          0.401,
          0.634,
          0.492,
          0.43,
          0.65,
          0.504,
          0.471,
          0.782,
          0.528,
          0.5,
          0.706,
          0.723,
          0.927,
          0.531,
          0.802,
          0.441,
          0.599,
          0.715,
          0.511,
          0.635,
          0.788,
          0.626,
          0.673,
          0.788,
          0.721,
          0.794,
          0.803,
          0.483,
          0.546,
          0.496,
          0.339,
          0.744,
          0.724,
          0.957,
          0.648,
          0.889,
          0.757,
          0.662,
          0.713,
          0.565,
          0.626,
          0.752,
          0.512,
          0.715,
          0.61,
          0.656
         ],
         "y": [
          0,
          0.791,
          0.817,
          0.406,
          0.281,
          0.00045,
          0.0366,
          0.0228,
          0.000397,
          0.553,
          0.0167,
          0.813,
          0.883,
          0.821,
          0.097,
          0.00738,
          0.0000188,
          0.0000151,
          0.0218,
          0.923,
          0.857,
          0.000472,
          0.469,
          0.755,
          0.00233,
          0.884,
          0.415,
          0.0000529,
          0.0167,
          0.289,
          0.166,
          0.59,
          0.809,
          0.79,
          0.0891,
          0.87,
          0.00523,
          0.816,
          0.00812,
          0.000845,
          0.566,
          0.0227,
          0.0777,
          0.000413,
          0.0000461,
          0.453,
          0.782,
          0.0000685,
          0.00545,
          0.807,
          0.00162,
          0.0328,
          0.00504,
          0.00000291,
          0.913
         ],
         "z": [
          0.208,
          0.244,
          0.0422,
          0.115,
          0.0704,
          0.0358,
          0.0484,
          0.041,
          0.056,
          0.0459,
          0.0496,
          0.0531,
          0.0816,
          0.0378,
          0.0455,
          0.0743,
          0.0841,
          0.0623,
          0.0619,
          0.0725,
          0.0357,
          0.0557,
          0.0584,
          0.0559,
          0.049,
          0.0483,
          0.0391,
          0.0534,
          0.0649,
          0.0334,
          0.0588,
          0.0584,
          0.0393,
          0.0563,
          0.0406,
          0.0391,
          0.0638,
          0.071,
          0.0422,
          0.051,
          0.0555,
          0.0428,
          0.0631,
          0.044,
          0.1,
          0.053,
          0.0443,
          0.0411,
          0.078,
          0.175,
          0.0571,
          0.0492,
          0.0532,
          0.133,
          0.0426
         ]
        },
        {
         "customdata": [
          [
           "Bizarrap",
           "2022"
          ],
          [
           "Bad Bunny",
           "2022"
          ],
          [
           "KAROL G",
           "2022"
          ],
          [
           "ROSALÍA",
           "2022"
          ],
          [
           "J Balvin",
           "2019"
          ],
          [
           "Farruko",
           "2021"
          ],
          [
           "Don Omar",
           "2003"
          ],
          [
           "Bad Bunny",
           "2021"
          ],
          [
           "Tiësto",
           "2021"
          ],
          [
           "Jhayco",
           "2019"
          ],
          [
           "Daddy Yankee",
           "2004"
          ],
          [
           "Jay Wheeler",
           "2020"
          ],
          [
           "Becky G",
           "2022"
          ],
          [
           "Rauw Alejandro",
           "2021"
          ],
          [
           "Pitbull",
           "2014"
          ],
          [
           "Bad Bunny",
           "2022"
          ],
          [
           "Daddy Yankee",
           "2004"
          ],
          [
           "J Balvin",
           "2019"
          ],
          [
           "Rauw Alejandro",
           "2021"
          ],
          [
           "Don Omar",
           "2010"
          ],
          [
           "Anitta",
           "2021"
          ],
          [
           "Shakira",
           "2017"
          ],
          [
           "Bad Bunny",
           "2020"
          ],
          [
           "Daddy Yankee",
           "2019"
          ],
          [
           "Cardi B",
           "2018"
          ],
          [
           "Anuel AA",
           "2018"
          ],
          [
           "Bacilos",
           "2002"
          ],
          [
           "KAROL G",
           "2019"
          ],
          [
           "Shakira",
           "2005"
          ],
          [
           "Angel Y Khriz",
           "2005"
          ],
          [
           "Danny Ocean",
           "2016"
          ],
          [
           "Bad Bunny",
           "2020"
          ],
          [
           "Maluma",
           "2015"
          ],
          [
           "Marc Anthony",
           "2013"
          ],
          [
           "KAROL G",
           "2021"
          ],
          [
           "Maná",
           "1992"
          ],
          [
           "Ozuna",
           "2020"
          ],
          [
           "Natti Natasha",
           "2017"
          ],
          [
           "Anuel AA",
           "2019"
          ],
          [
           "Dimension Latina",
           "1996"
          ],
          [
           "Calle 13",
           "2005"
          ],
          [
           "Maná",
           "1997"
          ],
          [
           "Maluma",
           "2019"
          ],
          [
           "KAROL G",
           "2020"
          ],
          [
           "ROSALÍA",
           "2019"
          ],
          [
           "Gente De Zona",
           "2016"
          ],
          [
           "J Balvin",
           "2021"
          ],
          [
           "Nicky Jam",
           "2019"
          ],
          [
           "Pedro Capó",
           "2018"
          ],
          [
           "Chino & Nacho",
           "2016"
          ],
          [
           "Sech",
           "2020"
          ],
          [
           "Maluma",
           "2020"
          ],
          [
           "Lunay",
           "2019"
          ],
          [
           "J Balvin",
           "2021"
          ],
          [
           "Juanes",
           "2004"
          ],
          [
           "Nicky Jam",
           "2017"
          ],
          [
           "Maluma",
           "2018"
          ],
          [
           "Sofía Reyes",
           "2018"
          ],
          [
           "CNCO",
           "2016"
          ],
          [
           "Los Legendarios",
           "2021"
          ],
          [
           "Black Eyed Peas",
           "2019"
          ],
          [
           "Selena Gomez",
           "2021"
          ],
          [
           "Sech",
           "2021"
          ],
          [
           "DJ Snake",
           "2019"
          ],
          [
           "Ricky Martin",
           "2016"
          ],
          [
           "Justin Quiles",
           "2021"
          ],
          [
           "Juanes",
           "2002"
          ],
          [
           "Shakira",
           "2020"
          ],
          [
           "Wisin",
           "2017"
          ],
          [
           "IAmChino",
           "2016"
          ],
          [
           "Sech",
           "2019"
          ],
          [
           "Zion & Lennox",
           "2018"
          ],
          [
           "Nicky Jam",
           "2017"
          ],
          [
           "Nio Garcia",
           "2020"
          ],
          [
           "Marc Anthony",
           "2004"
          ],
          [
           "Daddy Yankee",
           "2020"
          ],
          [
           "Ozuna",
           "2019"
          ],
          [
           "Lele Pons",
           "2020"
          ],
          [
           "Black Eyed Peas",
           "2022"
          ],
          [
           "J Balvin",
           "2016"
          ],
          [
           "Daddy Yankee",
           "2018"
          ],
          [
           "Rauw Alejandro",
           "2020"
          ],
          [
           "Wolfine",
           "2017"
          ],
          [
           "Luis Fonsi",
           "2019"
          ],
          [
           "Enrique Iglesias",
           "2017"
          ],
          [
           "Sebastian Yatra",
           "2018"
          ],
          [
           "Camilo",
           "2020"
          ],
          [
           "Pitbull",
           "2009"
          ],
          [
           "Celia Cruz",
           "2016"
          ],
          [
           "Juan Luis Guerra 4.40",
           "1990"
          ],
          [
           "Carlos Vives",
           "1994"
          ],
          [
           "Enrique Iglesias",
           "2014"
          ],
          [
           "Ricky Martin",
           "2015"
          ],
          [
           "Sérgio Mendes",
           "1992"
          ],
          [
           "Becky G",
           "2018"
          ],
          [
           "Nina Sky",
           "2004"
          ],
          [
           "Tainy",
           "2021"
          ],
          [
           "Justin Quiles",
           "2019"
          ],
          [
           "Pitbull",
           "2015"
          ],
          [
           "DLG",
           "1996"
          ]
         ],
         "hovertemplate": "<b>%{hovertext}</b><br><br>genre=latin<br>energy=%{x}<br>instrumentalness=%{y}<br>speechiness=%{z}<br>artist_name=%{customdata[0]}<br>year=%{customdata[1]}<br>cluster=%{marker.color}<extra></extra>",
         "hovertext": [
          "Quevedo: Bzrp Music Sessions, Vol. 52",
          "Tití Me Preguntó",
          "PROVENZA",
          "DESPECHÁ",
          "LA CANCIÓN",
          "Pepas",
          "Dile",
          "Yonaguni",
          "Don't Be Shy",
          "No Me Conoce - Remix",
          "Gasolina",
          "La Curiosidad",
          "MAMIII",
          "Todo De Ti",
          "Time of Our Lives",
          "Después de la Playa",
          "Lo Que Pasó, Pasó",
          "QUE PRETENDES",
          "Desesperados",
          "Danza Kuduro",
          "Envolver",
          "Chantaje (feat. Maluma)",
          "DÁKITI",
          "Con Calma",
          "I Like It",
          "Ella Quiere Beber - Remix",
          "Caraluna",
          "Tusa",
          "La Tortura (feat. Alejandro Sanz)",
          "Ven Bailalo - Reggaeton Mix",
          "Me Rehúso",
          "LA NOCHE DE ANOCHE",
          "Borro Cassette",
          "Vivir Mi Vida",
          "EL MAKINON",
          "Oye Mi Amor",
          "Una Locura",
          "Criminal",
          "China",
          "Llorarás",
          "Atrévete-Te-Te",
          "Clavado En Un Bar",
          "11 PM",
          "BICHOTA",
          "Con Altura",
          "La Gozadera (feat. Marc Anthony)",
          "Qué Más Pues?",
          "X",
          "Calma - Remix",
          "Andas En Mi Cabeza",
          "Relación - Remix",
          "Hawái",
          "Soltera - Remix",
          "In Da Getto",
          "La Camisa Negra",
          "El Perdón (with Enrique Iglesias)",
          "Felices los 4",
          "1, 2, 3 (feat. Jason Derulo & De La Ghetto)",
          "Reggaetón Lento (Bailemos)",
          "Fiel",
          "RITMO (Bad Boys For Life)",
          "Baila Conmigo (with Rauw Alejandro)",
          "911 (Remix)",
          "Taki Taki (feat. Selena Gomez, Ozuna & Cardi B)",
          "Vente Pa' Ca (feat. Maluma)",
          "Loco",
          "A Dios Le Pido",
          "Me Gusta",
          "Escápate Conmigo (feat. Ozuna)",
          "Ay Mi Dios",
          "Otro Trago - Remix",
          "La player (Bandolera)",
          "Hasta el Amanecer",
          "La Jeepeta - Remix",
          "Tu Amor Me Hace Bien - Salsa Version",
          "De Vuelta Pa' La Vuelta",
          "Baila Baila Baila",
          "Se Te Nota (with Guaynaa)",
          "BAILAR CONTIGO",
          "Ginza",
          "Dura",
          "Tattoo - Remix with Camilo",
          "Bella",
          "Despacito - Remix",
          "SUBEME LA RADIO (feat. Descemer Bueno & Zion & Lennox)",
          "Ya No Tiene Novio",
          "Vida de Rico",
          "I Know You Want Me (Calle Ocho)",
          "La Vida Es Un Carnaval",
          "La Bilirrubina",
          "La Gota Fria",
          "Bailando - Spanish Version",
          "La Mordidita (feat. Yotuel)",
          "Magalenha",
          "Sin Pijama",
          "Move Ya Body",
          "Agua (with J Balvin)",
          "DJ No Pare (feat. Zion, Dalex, Lenny Tavárez) - Remix",
          "El Taxi",
          "La Quiero A Morir"
         ],
         "legendgroup": "latin",
         "marker": {
          "color": [
           1,
           1,
           1,
           1,
           1,
           1,
           1,
           1,
           1,
           1,
           1,
           1,
           1,
           1,
           1,
           1,
           1,
           1,
           1,
           1,
           1,
           1,
           1,
           1,
           1,
           1,
           1,
           1,
           1,
           1,
           1,
           1,
           1,
           1,
           1,
           1,
           1,
           1,
           1,
           1,
           1,
           1,
           1,
           1,
           1,
           1,
           1,
           1,
           1,
           1,
           1,
           1,
           1,
           1,
           1,
           1,
           1,
           1,
           1,
           1,
           1,
           1,
           1,
           1,
           1,
           1,
           1,
           1,
           1,
           1,
           1,
           1,
           1,
           1,
           1,
           1,
           1,
           1,
           1,
           1,
           1,
           1,
           1,
           1,
           1,
           1,
           1,
           1,
           1,
           1,
           1,
           1,
           1,
           1,
           1,
           1,
           1,
           1,
           1,
           1
          ],
          "coloraxis": "coloraxis",
          "line": {
           "width": 1
          },
          "opacity": 0.7,
          "size": 5,
          "symbol": "circle"
         },
         "mode": "markers",
         "name": "latin",
         "scene": "scene",
         "showlegend": true,
         "type": "scatter3d",
         "x": [
          0.782,
          0.715,
          0.516,
          0.623,
          0.646,
          0.766,
          0.714,
          0.648,
          0.787,
          0.787,
          0.797,
          0.677,
          0.7,
          0.718,
          0.802,
          0.903,
          0.741,
          0.791,
          0.694,
          0.915,
          0.736,
          0.773,
          0.573,
          0.86,
          0.726,
          0.665,
          0.773,
          0.715,
          0.783,
          0.919,
          0.804,
          0.618,
          0.701,
          0.877,
          0.706,
          0.903,
          0.761,
          0.813,
          0.808,
          0.884,
          0.878,
          0.854,
          0.712,
          0.666,
          0.689,
          0.989,
          0.819,
          0.749,
          0.773,
          0.954,
          0.771,
          0.728,
          0.783,
          0.72,
          0.731,
          0.69,
          0.756,
          0.895,
          0.838,
          0.701,
          0.716,
          0.544,
          0.71,
          0.801,
          0.92,
          0.899,
          0.841,
          0.696,
          0.859,
          0.829,
          0.79,
          0.838,
          0.608,
          0.715,
          0.658,
          0.94,
          0.626,
          0.686,
          0.772,
          0.809,
          0.84,
          0.637,
          0.493,
          0.798,
          0.822,
          0.832,
          0.457,
          0.733,
          0.701,
          0.911,
          0.809,
          0.777,
          0.903,
          0.634,
          0.745,
          0.712,
          0.651,
          0.709,
          0.691,
          0.889
         ],
         "y": [
          0.033,
          0.000291,
          0.00823,
          0.0000163,
          0.0000185,
          0.0000698,
          0.000132,
          0,
          0,
          0,
          0.00000269,
          0.000917,
          0,
          0.000163,
          0,
          0,
          0,
          0,
          0.00125,
          0,
          0.00254,
          0.0000305,
          0.0000522,
          0.00000194,
          0,
          0,
          0,
          0.000134,
          0.000308,
          0.00653,
          0,
          0,
          0,
          0,
          0,
          0.00585,
          0.00035,
          0.0000933,
          0.000289,
          0.000364,
          0,
          0.00000249,
          0,
          0.000493,
          0.00325,
          0,
          0.000354,
          0.00106,
          0,
          0,
          0.00000151,
          0.0000229,
          0,
          0.0000142,
          0,
          0,
          0,
          0,
          0,
          0,
          0.00084,
          0.00315,
          0,
          0.00000482,
          0.0000169,
          0.00000114,
          0,
          0.00184,
          0.0000627,
          0,
          0.00000114,
          0,
          0,
          0.00000483,
          0.0000458,
          0,
          0,
          0,
          0.387,
          0.0013,
          0,
          0,
          0.000147,
          0,
          0,
          0,
          0,
          0.0000431,
          0.00116,
          0,
          0,
          0.00000368,
          0,
          0,
          0.0000293,
          0.000331,
          0,
          0.00000518,
          0,
          0.00311
         ],
         "z": [
          0.044,
          0.253,
          0.0541,
          0.0992,
          0.317,
          0.0343,
          0.141,
          0.118,
          0.0583,
          0.0746,
          0.0614,
          0.136,
          0.0803,
          0.0506,
          0.0583,
          0.307,
          0.0412,
          0.253,
          0.0783,
          0.28,
          0.0833,
          0.0776,
          0.0544,
          0.0593,
          0.129,
          0.124,
          0.0675,
          0.298,
          0.0427,
          0.0366,
          0.0677,
          0.286,
          0.106,
          0.0342,
          0.125,
          0.039,
          0.0427,
          0.0561,
          0.0882,
          0.0527,
          0.101,
          0.0369,
          0.277,
          0.152,
          0.124,
          0.0483,
          0.106,
          0.056,
          0.0524,
          0.13,
          0.0959,
          0.389,
          0.0432,
          0.0459,
          0.0308,
          0.0511,
          0.132,
          0.0589,
          0.0502,
          0.06,
          0.0657,
          0.0715,
          0.0398,
          0.228,
          0.226,
          0.0494,
          0.0557,
          0.0681,
          0.0795,
          0.0682,
          0.197,
          0.0633,
          0.0385,
          0.207,
          0.0359,
          0.0553,
          0.152,
          0.0664,
          0.0574,
          0.0876,
          0.051,
          0.156,
          0.0735,
          0.178,
          0.0537,
          0.154,
          0.0543,
          0.145,
          0.0701,
          0.0739,
          0.0511,
          0.108,
          0.0658,
          0.0747,
          0.0464,
          0.0432,
          0.266,
          0.0879,
          0.192,
          0.0471
         ]
        },
        {
         "customdata": [
          [
           "Dolly Parton",
           "2009"
          ],
          [
           "Chayce Beckham",
           "2021"
          ],
          [
           "The Highwaymen",
           "1985"
          ],
          [
           "Zac Brown Band",
           "2008"
          ],
          [
           "Blake Shelton",
           "2019"
          ],
          [
           "Jason Aldean",
           "2010"
          ],
          [
           "David Nail",
           "2014"
          ],
          [
           "George Strait",
           "1997"
          ],
          [
           "Lee Brice",
           "2014"
          ],
          [
           "Florida Georgia Line",
           "2019"
          ],
          [
           "Luke Combs",
           "2018"
          ],
          [
           "Craig Morgan",
           "2005"
          ],
          [
           "Billy Currington",
           "2005"
          ],
          [
           "Deana Carter",
           "1996"
          ],
          [
           "Thomas Rhett",
           "2015"
          ],
          [
           "Josh Turner",
           "2006"
          ],
          [
           "George Strait",
           "1999"
          ],
          [
           "Lee Brice",
           "2020"
          ],
          [
           "Jon Pardi",
           "2016"
          ],
          [
           "Eli Young Band",
           "2011"
          ],
          [
           "Luke Combs",
           "2018"
          ],
          [
           "George Strait",
           "1982"
          ],
          [
           "Lee Brice",
           "2012"
          ],
          [
           "Luke Bryan",
           "2013"
          ],
          [
           "Maddie & Tae",
           "2020"
          ],
          [
           "Tim McGraw",
           "2015"
          ],
          [
           "Luke Combs",
           "2017"
          ],
          [
           "Morgan Wallen",
           "2018"
          ],
          [
           "Gary Allan",
           "2013"
          ],
          [
           "Jason Aldean",
           "2016"
          ],
          [
           "George Strait",
           "2008"
          ],
          [
           "Luke Combs",
           "2017"
          ],
          [
           "Thomas Rhett",
           "2017"
          ],
          [
           "Darius Rucker",
           "2013"
          ],
          [
           "Eric Church",
           "2011"
          ],
          [
           "Brooks & Dunn",
           "2009"
          ],
          [
           "George Strait",
           "2006"
          ],
          [
           "Morgan Wallen",
           "2021"
          ],
          [
           "Lee Brice",
           "2014"
          ],
          [
           "Jon Pardi",
           "2016"
          ],
          [
           "Dierks Bentley",
           "2021"
          ],
          [
           "George Strait",
           "1995"
          ],
          [
           "Florida Georgia Line",
           "2013"
          ],
          [
           "Dustin Lynch",
           "2022"
          ],
          [
           "Brad Paisley",
           "2003"
          ],
          [
           "Sam Hunt",
           "2020"
          ],
          [
           "Dan + Shay",
           "2018"
          ],
          [
           "Mel McDaniel",
           "1980"
          ],
          [
           "Jordan Davis",
           "2021"
          ],
          [
           "Hank Williams, Jr.",
           "1979"
          ]
         ],
         "hovertemplate": "<b>%{hovertext}</b><br><br>genre=country<br>energy=%{x}<br>instrumentalness=%{y}<br>speechiness=%{z}<br>artist_name=%{customdata[0]}<br>year=%{customdata[1]}<br>cluster=%{marker.color}<extra></extra>",
         "hovertext": [
          "Islands in the Stream",
          "23",
          "Highwayman",
          "Chicken Fried",
          "God's Country",
          "Dirt Road Anthem",
          "Whatever She's Got",
          "Carrying Your Love With Me",
          "I Don't Dance",
          "Simple",
          "She Got the Best of Me",
          "That's What I Love About Sunday",
          "Good Directions",
          "Strawberry Wine",
          "Die A Happy Man",
          "Your Man",
          "Write This Down",
          "One Of Them Girls",
          "Dirt On My Boots",
          "Crazy Girl",
          "Beautiful Crazy",
          "Amarillo By Morning",
          "Hard To Love",
          "That's My Kind Of Night",
          "Die From A Broken Heart",
          "Humble And Kind",
          "When It Rains It Pours",
          "Chasin' You",
          "Every Storm (Runs Out Of Rain)",
          "Any Ol' Barstool",
          "Troubadour",
          "One Number Away",
          "Unforgettable",
          "Wagon Wheel",
          "Drink In My Hand",
          "Boot Scootin' Boogie",
          "Give It Away",
          "Wasted On You",
          "Drinking Class",
          "Head Over Boots",
          "Beers On Me",
          "Check Yes Or No",
          "This Is How We Roll",
          "Thinking 'Bout You (feat. MacKenzie Porter)",
          "Mud on the Tires",
          "Body Like A Back Road",
          "Tequila",
          "Louisiana Saturday Night",
          "Buy Dirt",
          "Family Tradition"
         ],
         "legendgroup": "country",
         "marker": {
          "color": [
           1,
           1,
           1,
           1,
           1,
           1,
           1,
           1,
           1,
           1,
           1,
           1,
           1,
           1,
           1,
           1,
           1,
           1,
           1,
           1,
           1,
           1,
           1,
           1,
           1,
           1,
           1,
           1,
           1,
           1,
           1,
           1,
           1,
           1,
           1,
           1,
           1,
           1,
           1,
           1,
           1,
           1,
           1,
           1,
           1,
           1,
           1,
           1,
           1,
           1
          ],
          "coloraxis": "coloraxis",
          "line": {
           "width": 1
          },
          "opacity": 0.7,
          "size": 5,
          "symbol": "diamond"
         },
         "mode": "markers",
         "name": "country",
         "scene": "scene",
         "showlegend": true,
         "type": "scatter3d",
         "x": [
          0.473,
          0.583,
          0.351,
          0.713,
          0.754,
          0.741,
          0.723,
          0.479,
          0.559,
          0.882,
          0.907,
          0.56,
          0.72,
          0.449,
          0.389,
          0.637,
          0.688,
          0.79,
          0.796,
          0.651,
          0.402,
          0.361,
          0.722,
          0.751,
          0.522,
          0.48,
          0.801,
          0.591,
          0.693,
          0.722,
          0.621,
          0.781,
          0.75,
          0.66,
          0.913,
          0.817,
          0.646,
          0.657,
          0.53,
          0.688,
          0.846,
          0.524,
          0.931,
          0.711,
          0.744,
          0.458,
          0.581,
          0.622,
          0.559,
          0.523
         ],
         "y": [
          0,
          0,
          0.0176,
          0,
          0.00000492,
          0.00000187,
          0,
          0,
          0.00000669,
          0,
          0,
          0,
          0,
          0,
          0.00000139,
          0.000222,
          0.00000944,
          0,
          0,
          0.00526,
          0,
          0.0000339,
          0.00808,
          0,
          0,
          0.00000228,
          0.00000603,
          0,
          0.00000955,
          0,
          0.000577,
          0,
          0.000132,
          0,
          0,
          0,
          0.0000837,
          0.00107,
          0,
          0,
          0,
          0.00000321,
          0,
          0,
          0.0000673,
          0,
          0,
          0,
          0,
          0
         ],
         "z": [
          0.0354,
          0.0318,
          0.0463,
          0.0418,
          0.0399,
          0.0357,
          0.0411,
          0.0271,
          0.0321,
          0.0973,
          0.0406,
          0.0325,
          0.0319,
          0.0264,
          0.0349,
          0.0241,
          0.0264,
          0.0461,
          0.0285,
          0.031,
          0.0262,
          0.0346,
          0.0332,
          0.0481,
          0.0358,
          0.0282,
          0.0303,
          0.0277,
          0.0327,
          0.0284,
          0.0261,
          0.0311,
          0.0314,
          0.0296,
          0.0318,
          0.0435,
          0.027,
          0.0318,
          0.0301,
          0.0262,
          0.0396,
          0.0352,
          0.0367,
          0.0569,
          0.0424,
          0.0316,
          0.0281,
          0.0857,
          0.05,
          0.0608
         ]
        },
        {
         "customdata": [
          [
           "Bruno Furlan",
           "2023"
          ],
          [
           "Mau P",
           "2023"
          ],
          [
           "Harry Romero",
           "2023"
          ],
          [
           "Max Styler",
           "2023"
          ],
          [
           "Schak",
           "2023"
          ],
          [
           "LOVRA",
           "2023"
          ],
          [
           "HUGEL",
           "2023"
          ],
          [
           "Sosa UK",
           "2023"
          ],
          [
           "ESSEL",
           "2023"
          ],
          [
           "Raffa Fl",
           "2023"
          ],
          [
           "Tom Enzy",
           "2023"
          ],
          [
           "Biscits",
           "2023"
          ],
          [
           "Gorillaz",
           "2022"
          ],
          [
           "Eddy M",
           "2023"
          ],
          [
           "Gorgon City",
           "2023"
          ],
          [
           "FISHER",
           "2022"
          ],
          [
           "Chris Lake",
           "2022"
          ],
          [
           "Azzecca",
           "2022"
          ],
          [
           "Joshwa",
           "2023"
          ],
          [
           "Beltran",
           "2022"
          ],
          [
           "James Hype",
           "2023"
          ],
          [
           "Riva Starr",
           "2022"
          ],
          [
           "BLR",
           "2022"
          ],
          [
           "ESSEL",
           "2023"
          ],
          [
           "Kevin McKay",
           "2022"
          ],
          [
           "TECH IT DEEP",
           "2023"
          ],
          [
           "Gorgon City",
           "2022"
          ],
          [
           "Gabe",
           "2022"
          ],
          [
           "Kyle Watson",
           "2022"
          ],
          [
           "Julio Navas",
           "2022"
          ],
          [
           "ODESZA",
           "2023"
          ],
          [
           "Hannah Laing",
           "2022"
          ],
          [
           "The Martinez Brothers",
           "2022"
          ],
          [
           "PAWSA",
           "2022"
          ],
          [
           "Cedric Gervais",
           "2022"
          ],
          [
           "Sonny Fodera",
           "2023"
          ],
          [
           "Cloonee",
           "2023"
          ],
          [
           "San Pacho",
           "2022"
          ],
          [
           "Paskman",
           "2022"
          ],
          [
           "Catz 'n Dogz",
           "2023"
          ],
          [
           "Joshwa",
           "2022"
          ],
          [
           "Matroda",
           "2023"
          ],
          [
           "Öwnboss",
           "2023"
          ],
          [
           "Walker & Royce",
           "2023"
          ],
          [
           "Wax Motif",
           "2023"
          ],
          [
           "PAWSA",
           "2023"
          ],
          [
           "Matroda",
           "2022"
          ],
          [
           "Sunday Scaries",
           "2023"
          ],
          [
           "Guz",
           "2023"
          ],
          [
           "Leftwing : Kody",
           "2023"
          ],
          [
           "Piero Pirupa",
           "2023"
          ],
          [
           "CID",
           "2022"
          ],
          [
           "Tim Hox",
           "2022"
          ],
          [
           "Bruno Furlan",
           "2022"
          ],
          [
           "Space Rangers",
           "2023"
          ],
          [
           "Mosimann",
           "2022"
          ],
          [
           "Zilka",
           "2023"
          ],
          [
           "Mark Knight",
           "2023"
          ],
          [
           "Matt Sassari",
           "2022"
          ],
          [
           "Saffron Stone",
           "2022"
          ],
          [
           "Deeper Purpose",
           "2023"
          ],
          [
           "Pink Panda",
           "2023"
          ],
          [
           "Wade",
           "2022"
          ],
          [
           "Wenzday",
           "2023"
          ],
          [
           "Emily Nash",
           "2022"
          ],
          [
           "York",
           "2022"
          ],
          [
           "Ship Wrek",
           "2022"
          ],
          [
           "Mr. Pig",
           "2022"
          ],
          [
           "Wax Motif",
           "2022"
          ],
          [
           "Dave Winnel",
           "2023"
          ],
          [
           "Westend",
           "2023"
          ],
          [
           "KILL SCRIPT",
           "2022"
          ],
          [
           "Matt Sassari",
           "2022"
          ],
          [
           "Endor",
           "2023"
          ],
          [
           "Keys N Krates",
           "2023"
          ],
          [
           "Yolanda Be Cool",
           "2023"
          ],
          [
           "Chapter & Verse",
           "2023"
          ],
          [
           "Bonjour Papa",
           "2023"
          ],
          [
           "Damien N-Drix",
           "2023"
          ],
          [
           "Dot N Life",
           "2023"
          ],
          [
           "MistaJam",
           "2023"
          ],
          [
           "Felix Leiter",
           "2023"
          ],
          [
           "Endor",
           "2022"
          ],
          [
           "Jerome Robins",
           "2023"
          ],
          [
           "TCTS",
           "2022"
          ],
          [
           "Ferreck Dawn",
           "2022"
          ],
          [
           "Ghost of Tellus",
           "2023"
          ],
          [
           "Lancie Green",
           "2023"
          ],
          [
           "Carola",
           "2023"
          ],
          [
           "Golf Clap",
           "2022"
          ],
          [
           "Wahlstedt",
           "2022"
          ],
          [
           "Alannys Weber",
           "2023"
          ],
          [
           "Devault",
           "2023"
          ],
          [
           "Funkin Matt",
           "2022"
          ],
          [
           "Dead Space",
           "2023"
          ],
          [
           "Karma Child",
           "2023"
          ],
          [
           "Next",
           "2023"
          ],
          [
           "Dale Howard",
           "2023"
          ],
          [
           "OFFAIAH",
           "2023"
          ],
          [
           "Sacha Robotti",
           "2023"
          ]
         ],
         "hovertemplate": "<b>%{hovertext}</b><br><br>genre=opera<br>energy=%{x}<br>instrumentalness=%{y}<br>speechiness=%{z}<br>artist_name=%{customdata[0]}<br>year=%{customdata[1]}<br>cluster=%{marker.color}<extra></extra>",
         "hovertext": [
          "Bongoloco",
          "Gimme That Bounce",
          "Inside My Mind",
          "Wanna Dance",
          "Moving All Around (Jumpin') (feat. Kim English) - John Summit Remix",
          "Rhymorator",
          "Pa Lante",
          "Bugbeat",
          "Hit 'Em Up Style (Oops!)",
          "Ritmo - HUGEL Edit",
          "Loca People",
          "House All The Time",
          "New Gold (feat. Tame Impala and Bootie Brown) - Dom Dolla Remix",
          "Look At The Sky",
          "Rumblah",
          "Yeah The Girls",
          "In The Yuma (feat. Aatig)",
          "Other Side",
          "Magalenha",
          "Smack Yo'",
          "Helicopter",
          "This Is The Sound",
          "Lipstick (feat. Robbie Rise)",
          "Lennon",
          "Work",
          "Maria Maria",
          "Sidewindah (feat. Flirta D)",
          "Naquele Pique",
          "The Reason",
          "Raw - Tony Romera Remix",
          "The Last Goodbye (feat. Bettye LaVette) - Hayden James Remix",
          "Don't Wanna Go",
          "KILO",
          "Hendrix Flow",
          "MOLLY",
          "Looking 4 U",
          "Badman Sound",
          "Voy",
          "Roller Coaster",
          "Cloud 9",
          "Papi",
          "Can’t Fight The Feeling",
          "Papapo",
          "Same Way Down (feat. Mindchatter)",
          "Traga ft. STO Cultr",
          "ON THE MOVE",
          "Body Move",
          "Chill Like That (Odd Mob Remix)",
          "Pouring Rain",
          "Music Is The Medication",
          "Playin’ Around",
          "Hold Me Close",
          "Daci",
          "NY to LA",
          "TIL I DIE",
          "Dancing On My Own - Matt Sassari Remix",
          "Ole",
          "Make You Happy",
          "Step To",
          "Nightmares",
          "Shake It",
          "Blow My Mind",
          "The Melody",
          "Let's Talk",
          "Step Into It (Golden Ticket)",
          "On The Beach - Eli Brown Remix",
          "Metaphysical (feat. Bipolar Sunshine)",
          "Potente",
          "No Standing",
          "Bamboleo",
          "Running",
          "AFTERPARTY",
          "Say What",
          "Sultan",
          "What Girls Do",
          "Tiger Stripes",
          "Losing Control",
          "Office Job",
          "Pump It",
          "Trick Me",
          "Defibrillator",
          "Gotta Let You Go",
          "Zigazigahhhh",
          "You're Not Alone - Sinner & James Radio Edit",
          "Fuego (VIP)",
          "Free Candy (feat. DAIJAH)",
          "Ooga Chaka",
          "Flute",
          "Move For Me (feat. Libutti)",
          "Freaky",
          "The Funky Beat",
          "The Chillin",
          "Emphasis",
          "Higher",
          "Other Side",
          "Carry On",
          "Too Close (feat. Mac Russo)",
          "How We Get Down",
          "Something In Your Eyes",
          "See The Light"
         ],
         "legendgroup": "opera",
         "marker": {
          "color": [
           0,
           0,
           0,
           1,
           1,
           0,
           1,
           0,
           1,
           0,
           1,
           0,
           1,
           0,
           0,
           0,
           0,
           0,
           0,
           1,
           0,
           1,
           1,
           0,
           1,
           1,
           1,
           1,
           0,
           0,
           0,
           0,
           0,
           1,
           0,
           0,
           1,
           0,
           1,
           1,
           0,
           1,
           0,
           0,
           1,
           1,
           1,
           0,
           1,
           1,
           1,
           0,
           0,
           1,
           1,
           0,
           0,
           1,
           0,
           0,
           0,
           1,
           0,
           0,
           0,
           0,
           1,
           1,
           1,
           1,
           1,
           0,
           1,
           2,
           1,
           1,
           0,
           1,
           0,
           0,
           0,
           1,
           1,
           1,
           1,
           1,
           0,
           0,
           0,
           0,
           0,
           0,
           0,
           1,
           1,
           0,
           1,
           1,
           0,
           1
          ],
          "coloraxis": "coloraxis",
          "line": {
           "width": 1
          },
          "opacity": 0.7,
          "size": 5,
          "symbol": "square"
         },
         "mode": "markers",
         "name": "opera",
         "scene": "scene",
         "showlegend": true,
         "type": "scatter3d",
         "x": [
          0.665,
          0.96,
          0.929,
          0.946,
          0.701,
          0.994,
          0.978,
          0.927,
          0.888,
          0.838,
          0.923,
          0.877,
          0.897,
          0.913,
          0.812,
          0.968,
          0.891,
          0.846,
          0.857,
          0.745,
          0.884,
          0.967,
          0.92,
          0.943,
          0.948,
          0.657,
          0.936,
          0.881,
          0.744,
          0.967,
          0.937,
          0.702,
          0.727,
          0.583,
          0.826,
          0.628,
          0.724,
          0.888,
          0.951,
          0.899,
          0.898,
          0.882,
          0.991,
          0.8,
          0.907,
          0.458,
          0.914,
          0.763,
          0.893,
          0.961,
          0.809,
          0.744,
          0.935,
          0.781,
          0.931,
          0.783,
          0.85,
          0.969,
          0.88,
          0.734,
          0.991,
          0.636,
          0.946,
          0.806,
          0.897,
          0.968,
          0.93,
          0.931,
          0.748,
          0.955,
          0.904,
          0.952,
          0.819,
          0.494,
          0.907,
          0.927,
          0.945,
          0.818,
          0.958,
          0.912,
          0.954,
          0.925,
          0.808,
          0.881,
          0.949,
          0.816,
          0.817,
          0.965,
          0.854,
          0.866,
          0.928,
          0.888,
          0.873,
          0.817,
          0.879,
          0.951,
          0.947,
          0.9,
          0.71,
          0.639
         ],
         "y": [
          0.757,
          0.877,
          0.512,
          0.211,
          0.0052,
          0.421,
          0.0343,
          0.761,
          0.00696,
          0.696,
          0.187,
          0.411,
          0.262,
          0.942,
          0.747,
          0.773,
          0.803,
          0.769,
          0.515,
          0.357,
          0.793,
          0.226,
          0.283,
          0.572,
          0.0341,
          0.00497,
          0.285,
          0.107,
          0.89,
          0.877,
          0.632,
          0.942,
          0.671,
          0.00213,
          0.477,
          0.761,
          0.00336,
          0.47,
          0.00409,
          0.0406,
          0.755,
          0.0000239,
          0.792,
          0.407,
          0.0481,
          0.182,
          0.00128,
          0.724,
          0.133,
          0.000489,
          0.0669,
          0.88,
          0.743,
          0.0348,
          0.303,
          0.786,
          0.879,
          0.00408,
          0.958,
          0.589,
          0.795,
          0.17,
          0.384,
          0.836,
          0.847,
          0.828,
          0.0995,
          0.126,
          0.0632,
          0.000295,
          0.147,
          0.857,
          0.00551,
          0.926,
          0.275,
          0.278,
          0.482,
          0.175,
          0.927,
          0.643,
          0.559,
          0.324,
          0.262,
          0.134,
          0.00353,
          0.335,
          0.622,
          0.714,
          0.852,
          0.901,
          0.662,
          0.823,
          0.414,
          0.222,
          0.0827,
          0.765,
          0.0538,
          0.0976,
          0.662,
          0.377
         ],
         "z": [
          0.106,
          0.264,
          0.0614,
          0.0431,
          0.0598,
          0.109,
          0.174,
          0.105,
          0.146,
          0.0805,
          0.181,
          0.106,
          0.0629,
          0.0426,
          0.0835,
          0.0424,
          0.0652,
          0.0478,
          0.0706,
          0.135,
          0.226,
          0.124,
          0.141,
          0.108,
          0.1,
          0.0912,
          0.0618,
          0.0497,
          0.079,
          0.087,
          0.15,
          0.0531,
          0.0602,
          0.245,
          0.0706,
          0.0545,
          0.0675,
          0.122,
          0.0552,
          0.0464,
          0.054,
          0.223,
          0.08,
          0.033,
          0.0599,
          0.118,
          0.135,
          0.0413,
          0.0356,
          0.0871,
          0.0558,
          0.0521,
          0.0559,
          0.056,
          0.0579,
          0.0409,
          0.0601,
          0.267,
          0.0945,
          0.0322,
          0.0442,
          0.0452,
          0.05,
          0.0456,
          0.052,
          0.0469,
          0.0497,
          0.0461,
          0.0687,
          0.0719,
          0.0426,
          0.0584,
          0.113,
          0.0585,
          0.122,
          0.0473,
          0.0645,
          0.0796,
          0.0792,
          0.0616,
          0.0639,
          0.147,
          0.0807,
          0.0674,
          0.0547,
          0.1,
          0.174,
          0.165,
          0.0646,
          0.0497,
          0.11,
          0.062,
          0.0428,
          0.102,
          0.0756,
          0.0947,
          0.108,
          0.0507,
          0.0449,
          0.0981
         ]
        },
        {
         "customdata": [
          [
           "Johann Sebastian Bach",
           "1983"
          ],
          [
           "Johann Sebastian Bach",
           "2019"
          ],
          [
           "Ludwig van Beethoven",
           "2015"
          ],
          [
           "Johann Sebastian Bach",
           "2020"
          ],
          [
           "Johann Pachelbel",
           "1986"
          ],
          [
           "George Frideric Handel",
           "2002"
          ],
          [
           "Erik Satie",
           "2013"
          ],
          [
           "Camille Saint-Saëns",
           "2015"
          ],
          [
           "Claude Debussy",
           "2018"
          ],
          [
           "Jules Massenet",
           "2005"
          ],
          [
           "Johann Strauss II",
           "1982"
          ],
          [
           "Camille Saint-Saëns",
           "2021"
          ],
          [
           "Gustav Mahler",
           "1998"
          ],
          [
           "Joaquín Rodrigo",
           "2020"
          ],
          [
           "Ludwig van Beethoven",
           "2007"
          ],
          [
           "Nikolai Rimsky-Korsakov",
           "1999"
          ],
          [
           "Ralph Vaughan Williams",
           "2013"
          ],
          [
           "Sergei Rachmaninoff",
           "2012"
          ],
          [
           "Edward Elgar",
           "1988"
          ],
          [
           "Edvard Grieg",
           "2016"
          ],
          [
           "Franz Liszt",
           "2011"
          ],
          [
           "Franz Liszt",
           "2011"
          ],
          [
           "Jean Sibelius",
           "2003"
          ],
          [
           "Sergei Prokofiev",
           "2022"
          ],
          [
           "Max Richter",
           "2014"
          ],
          [
           "Sergei Prokofiev",
           "1973"
          ],
          [
           "Sergei Rachmaninoff",
           "2015"
          ],
          [
           "Edvard Grieg",
           "2015"
          ],
          [
           "Morten Lauridsen",
           "2006"
          ],
          [
           "Samuel Barber",
           "2010"
          ],
          [
           "Aram Khachaturian",
           "1993"
          ],
          [
           "Alexander Borodin",
           "2005"
          ],
          [
           "Gabriel Fauré",
           "2020"
          ],
          [
           "Maurice Ravel",
           "2016"
          ],
          [
           "César Franck",
           "2012"
          ],
          [
           "Pyotr Ilyich Tchaikovsky",
           "2012"
          ],
          [
           "Arvo Pärt",
           "1999"
          ],
          [
           "Wolfgang Amadeus Mozart",
           "2020"
          ],
          [
           "Franz Schubert",
           "1997"
          ],
          [
           "Frédéric Chopin",
           "2000"
          ],
          [
           "Paul Dukas",
           "1999"
          ],
          [
           "Johannes Brahms",
           "2017"
          ],
          [
           "Samuel Coleridge-Taylor",
           "2022"
          ],
          [
           "Wolfgang Amadeus Mozart",
           "2001"
          ],
          [
           "Gioachino Rossini",
           "2003"
          ],
          [
           "Edvard Grieg",
           "1989"
          ],
          [
           "Giacomo Puccini",
           "1973"
          ],
          [
           "Niccolò Paganini",
           "2000"
          ],
          [
           "Gabriel Fauré",
           "2015"
          ],
          [
           "Johann Sebastian Bach",
           "2021"
          ],
          [
           "Samuel Coleridge-Taylor",
           "1993"
          ],
          [
           "Igor Stravinsky",
           "2015"
          ],
          [
           "Claude Debussy",
           "2012"
          ],
          [
           "Joseph Boulogne Chevalier de Saint-Georges",
           "2004"
          ],
          [
           "Dmitri Shostakovich",
           "2019"
          ],
          [
           "Antonio Vivaldi",
           "2008"
          ],
          [
           "Benjamin Britten",
           "2007"
          ],
          [
           "Francis Poulenc",
           "2018"
          ],
          [
           "Gabriel Fauré",
           "1988"
          ],
          [
           "Pyotr Ilyich Tchaikovsky",
           "2008"
          ],
          [
           "Ludwig van Beethoven",
           "2019"
          ],
          [
           "Max Richter",
           "2018"
          ],
          [
           "George Gershwin",
           "2012"
          ],
          [
           "Johann Sebastian Bach",
           "1987"
          ],
          [
           "Johannes Brahms",
           "1999"
          ],
          [
           "Dmitri Shostakovich",
           "1985"
          ],
          [
           "Ludwig van Beethoven",
           "1995"
          ],
          [
           "Johann Sebastian Bach",
           "2002"
          ],
          [
           "Antonín Dvořák",
           "2021"
          ],
          [
           "Alison Balsom",
           "2017"
          ],
          [
           "Florence Beatrice Price",
           "2021"
          ],
          [
           "Franz Liszt",
           "2011"
          ],
          [
           "Antonín Dvořák",
           "2000"
          ],
          [
           "Jess Gillam",
           "2019"
          ],
          [
           "André Previn",
           "1995"
          ],
          [
           "Jean Sibelius",
           "1975"
          ],
          [
           "Pyotr Ilyich Tchaikovsky",
           "2016"
          ],
          [
           "Wolfgang Amadeus Mozart",
           "1991"
          ],
          [
           "Johann Nepomuk Hummel",
           "2007"
          ],
          [
           "Robert Schumann",
           "2021"
          ],
          [
           "Antonín Dvořák",
           "1991"
          ],
          [
           "Frederick Delius",
           "2012"
          ],
          [
           "Ludwig van Beethoven",
           "2015"
          ],
          [
           "Frédéric Chopin",
           "1990"
          ],
          [
           "Felix Mendelssohn",
           "2011"
          ],
          [
           "Wolfgang Amadeus Mozart",
           "1998"
          ],
          [
           "Ottorino Respighi",
           "2007"
          ],
          [
           "Pyotr Ilyich Tchaikovsky",
           "1998"
          ],
          [
           "Max Bruch",
           "2013"
          ],
          [
           "Christoph Willibald Gluck",
           "1995"
          ],
          [
           "Yann Tiersen",
           "2001"
          ],
          [
           "Aaron Copland",
           "1960"
          ],
          [
           "Austin Wintory",
           "2012"
          ],
          [
           "Ludwig van Beethoven",
           "2021"
          ],
          [
           "Johannes Brahms",
           "2013"
          ],
          [
           "Franz Schubert",
           "2022"
          ],
          [
           "Georges Bizet",
           "2003"
          ],
          [
           "Franz Schubert",
           "1983"
          ],
          [
           "Pyotr Ilyich Tchaikovsky",
           "1996"
          ],
          [
           "Jan Garbarek",
           "1994"
          ]
         ],
         "hovertemplate": "<b>%{hovertext}</b><br><br>genre=classical<br>energy=%{x}<br>instrumentalness=%{y}<br>speechiness=%{z}<br>artist_name=%{customdata[0]}<br>year=%{customdata[1]}<br>cluster=%{marker.color}<extra></extra>",
         "hovertext": [
          "Cello Suite No. 1 in G Major, BWV 1007: I. Prélude",
          "The Well-Tempered Clavier, Book 1, BWV 846-869 / Prelude & Fugue in C Major, BWV 846: I. Prelude",
          "Bagatelle No. 25 in A Minor, WoO 59 \"Für Elise\"",
          "Suite No. 3 in D Major, BWV 1068: II. Air",
          "Pachelbel: Canon and Gigue for Three Violins and Continuo in D Major: Canon",
          "Handel / Orch. Hale: Keyboard Suite No. 4 in D Minor, HWV 437: III. Sarabande",
          "Gnossienne No. 1",
          "The Carnival of the Animals, R. 125: XIII. The Swan (Arr. for Cello and Piano)",
          "Suite bergamasque, L. 75: III. Clair de lune",
          "Meditation: Méditation from Thaïs",
          "An der schönen blauen Donau, Op. 314",
          "Danse Macabre, Op. 40, R.171",
          "Mahler: Symphony No. 5 in C-Sharp Minor: IV. Adagietto. Sehr langsam",
          "Rodrigo: Concierto de Aranjuez: II. Adagio",
          "Sonata No. 14 \"Moonlight\" in C-Sharp Minor\", Op. 27 No. 2: I. Adagio sostenuto",
          "Scheherazade: The Tale of the Kalendar Prince",
          "The Lark Ascending",
          "Piano Concerto No. 2 in C Minor, Op. 18: 2. Adagio sostenuto",
          "Elgar: Cello Concerto in E Minor, Op. 85: I. Adagio - Moderato",
          "Piano Concerto in A Minor, Op. 16: I. Allegro molto moderato",
          "Ständchen in D Minor (After Schubert), S. 560",
          "Liebestraum No. 3 in A-Flat Major, S. 541 / 3",
          "Andante festivo for Strings and Timpani, JS 34b",
          "Piano Concerto No. 3 in C, Op. 26: 1. Andante - Allegro",
          "Spring 1 - 2012",
          "Prokofiev: Romeo and Juliet, Op. 64, Act 1, Scene 2: Dance of the Knights",
          "Rhapsody on a Theme of Paganini, Op. 43: Variation No. 18 Andante cantabile",
          "Piano Concerto in A Minor, Op. 16: I. Allegro molto moderato",
          "O Magnum Mysterium: O magnum mysterium",
          "Barber: Adagio for Strings",
          "Khachaturian: Spartacus Suite No. 2: I. Adagio of Spartacus and Phrygia",
          "Prince Igor (Knyaz Igor): Act II: Polovtsian Dances - Ulyetay na kril'yahk vyetra (Fly away on the wings of the wind) (version for chorus)",
          "Elégie in C Minor, Op. 24 (Arr. Parkin)",
          "Ravel: Pavane pour une infante défunte, M. 19",
          "Violin Sonata in A major, FWV 8: IV. Allegretto poco mosso",
          "Piano Concerto No. 1 in B-Flat Minor, Op. 23: I. Allegro non troppo e molto maestoso – Allegro con spirito",
          "Spiegel im Spiegel - Version for Violin and Piano",
          "Symphony No. 40 in G Minor, K. 550: I. Molto allegro",
          "Symphony No. 8 In B Minor, D.759 - \"Unfinished\": 1. Allegro moderato",
          "Chopin: Nocturne No. 20 in C-Sharp Minor, Op. Posth.",
          "The Sorcerer's Apprentice",
          "Sechs Klavierstücke, Op. 118: II. Intermezzo in A Major",
          "Petite Suite de Concert, Op. 77: III. Un sonnet d'amour",
          "Serenade in B-Flat Major, K. 361 \"Gran Partita\": III. Adagio",
          "Il barbiere di Siviglia: Overture (Sinfonia)",
          "Peer Gynt, Op. 23: Act II, 7, In the Hall of the Mountain King",
          "Turandot, SC 91 / Act III: \"Nessun dorma!\"",
          "Paganini: 24 Caprices, Op. 1: No. 24 in A Minor",
          "Dolly, Op. 56: 1. Berceuse",
          "Goldberg Variations, BWV 988: Variatio 7 a 1 ovvero 2 Clav. Al tempo di Giga",
          "Symphonic Variations on an African Air, Op. 63",
          "The Rite of Spring: Part One: Adoration of the Earth: Introduction",
          "Rêverie, L. 68: Rêverie",
          "Violin Concerto No. 10 in G Major: Largo",
          "The Gadfly Suite, Op. 97a: VIII. Romance",
          "The Four Seasons - Violin Concerto in F Minor, Op. 8 No. 4, RV 297 \"Winter\": I. Allegro non molto",
          "Young Person's Guide To The Orchestra",
          "Piano Concerto in C-Sharp Minor, FP 146: I. Allegretto commodo - Live",
          "Pelléas et Mélisande, Op. 80: 4. Sicilienne",
          "Serenade for Strings in C major, Op. 48: II. Walzer: Moderato, tempo di valse",
          "Piano Concerto No. 5 in E-Flat Major, Op. 73 \"Emperor\": II. Adagio un poco mosso - Live at Konzerthaus Berlin / 2018",
          "On the Nature of Daylight",
          "Rhapsody In Blue",
          "St. Matthew Passion, BWV 244 / Part Two: \"Erbarme dich\"",
          "Hungarian Dance No. 5 in G Minor, WoO 1, No. 5",
          "Cello Concerto No. 1, Op. 107: 1. Allegretto",
          "Symphony No. 5 in C Minor, Op. 67: I. Allegro con brio",
          "Goldberg Variations, BWV 988: Aria da capo - 1981 Version",
          "Cello Concerto In B Minor, Op. 104, B. 191: I. Allegro",
          "Piazzolla: Libertango",
          "Symphony No. 3 in C Minor: II. Andante ma non troppo",
          "Mephisto Waltz No. 1, S. 514",
          "Symphony No. 9 in E Minor, Op. 95 \"From the New World\": II. Largo - Live",
          "Merry Christmas Mr. Lawrence (Arr. Metcalfe)",
          "Tsar Saltan, Op. 57: Flight of the Bumblebee",
          "Symphony No. 5 in E-Flat Major, Op. 82: 3. Allegro molto",
          "String Sextet in D Minor, Op. 70, \"Souvenir de Florence\": I. Allegro con spirito",
          "Sonata for 2 Pianos in D Major, K. 448/375a: I. Allegro con spirito",
          "Hummel: Trumpet Concerto In E Flat - Iii Rondo",
          "Widmung, Op. 25 No. 1",
          "Serenade for Strings in E Major, Op. 22, B. 52: II. Tempo di valse",
          "Delius: 2 Pieces for Small Orchestra: No. 1, On Hearing the First Cuckoo in Spring",
          "Symphony No. 6 in F Major, Op. 68 \"Pastoral\": I. Awakening of Cheerful Feelings Upon Arrival in the Country: Allegro ma non troppo",
          "Nocturne No. 2 in E-Flat Major, Op. 9 No. 2",
          "Violin Concerto in E Minor, Op. 64, MWV O 14: 1. Allegro molto appassionato",
          "Mozart: Clarinet Concerto in A Major, K. 622: II. Adagio",
          "Respighi: Pini di Roma, P. 141: III. I pini del Gianicolo",
          "The Nutcracker, Op. 71, TH.14 / Act 2: No. 12b Coffee (Arabian Dance)",
          "Violin Concerto No. 1 in G minor, Op. 26: 1. Vorspiel (Allegro moderato)",
          "Orfeo Ed Euridice: Dance of the Blessed Spirits (Act II)",
          "Comptine d'un autre été, l'après-midi",
          "Appalachian Spring: VII. Doppio movimento",
          "Nascence",
          "Speaking Unto Nations (Beethoven Symphony no 7 - II )",
          "Symphony No. 3 in F Major, Op. 90: I. Allegro con brio - Un poco sostenuto - Tempo I",
          "Ave Maria, D. 839",
          "Carmen, Act I: No.5 Habanera : L'amour est un oiseau rebelle (Carmen/Cigarières/Jeunes gens/Dragons)",
          "4 Impromptus, Op. 90, D.899: No. 4 in A Flat Major: Allegretto",
          "Tchaikovsky: 1812 Overture in E-Flat Major, Op. 49",
          "Parce Mihi Domine"
         ],
         "legendgroup": "classical",
         "marker": {
          "color": [
           2,
           2,
           2,
           2,
           2,
           2,
           2,
           2,
           2,
           2,
           2,
           2,
           2,
           2,
           2,
           2,
           2,
           2,
           1,
           2,
           2,
           2,
           2,
           2,
           2,
           2,
           2,
           2,
           2,
           2,
           2,
           2,
           2,
           2,
           1,
           2,
           1,
           2,
           2,
           2,
           1,
           2,
           2,
           2,
           2,
           2,
           1,
           2,
           2,
           2,
           2,
           2,
           2,
           2,
           2,
           2,
           2,
           2,
           2,
           2,
           2,
           2,
           2,
           1,
           1,
           2,
           2,
           2,
           2,
           2,
           2,
           2,
           2,
           2,
           2,
           2,
           2,
           2,
           2,
           2,
           2,
           2,
           2,
           2,
           1,
           2,
           1,
           2,
           2,
           2,
           2,
           2,
           2,
           2,
           2,
           2,
           1,
           2,
           2,
           2
          ],
          "coloraxis": "coloraxis",
          "line": {
           "width": 1
          },
          "opacity": 0.7,
          "size": 5,
          "symbol": "x"
         },
         "mode": "markers",
         "name": "classical",
         "scene": "scene",
         "showlegend": true,
         "type": "scatter3d",
         "x": [
          0.109,
          0.126,
          0.0306,
          0.0846,
          0.132,
          0.0336,
          0.00579,
          0.0161,
          0.00501,
          0.0701,
          0.0252,
          0.131,
          0.0523,
          0.098,
          0.00527,
          0.0639,
          0.0129,
          0.0545,
          0.0722,
          0.0465,
          0.0142,
          0.0292,
          0.161,
          0.254,
          0.341,
          0.101,
          0.0525,
          0.119,
          0.0116,
          0.0733,
          0.106,
          0.246,
          0.0422,
          0.0176,
          0.135,
          0.119,
          0.006,
          0.332,
          0.0326,
          0.0047,
          0.206,
          0.00626,
          0.0251,
          0.037,
          0.14,
          0.151,
          0.301,
          0.128,
          0.0076,
          0.0555,
          0.0291,
          0.0241,
          0.00896,
          0.0517,
          0.0694,
          0.163,
          0.117,
          0.0839,
          0.0194,
          0.122,
          0.0363,
          0.341,
          0.258,
          0.0648,
          0.0503,
          0.162,
          0.318,
          0.00518,
          0.132,
          0.316,
          0.0325,
          0.152,
          0.00261,
          0.0592,
          0.11,
          0.139,
          0.235,
          0.173,
          0.249,
          0.0325,
          0.0842,
          0.0408,
          0.0355,
          0.0487,
          0.145,
          0.0241,
          0.0102,
          0.00709,
          0.0974,
          0.0659,
          0.192,
          0.124,
          0.109,
          0.0249,
          0.0978,
          0.138,
          0.0592,
          0.0209,
          0.182,
          0.0656
         ],
         "y": [
          0.867,
          0.897,
          0.911,
          0.929,
          0.942,
          0.83,
          0.944,
          0.86,
          0.919,
          0.431,
          0.601,
          0.925,
          0.945,
          0.862,
          0.887,
          0.603,
          0.294,
          0.945,
          0.148,
          0.9,
          0.921,
          0.902,
          0.928,
          0.856,
          0.903,
          0.902,
          0.906,
          0.887,
          0.445,
          0.859,
          0.782,
          0.525,
          0.919,
          0.927,
          0.0349,
          0.907,
          0.0000324,
          0.751,
          0.863,
          0.881,
          0.255,
          0.901,
          0.202,
          0.898,
          0.759,
          0.793,
          0.0033,
          0.271,
          0.91,
          0.906,
          0.845,
          0.847,
          0.91,
          0.639,
          0.644,
          0.754,
          0.861,
          0.822,
          0.859,
          0.66,
          0.922,
          0.854,
          0.69,
          0.0272,
          0.153,
          0.825,
          0.897,
          0.932,
          0.671,
          0.779,
          0.852,
          0.903,
          0.763,
          0.863,
          0.903,
          0.918,
          0.675,
          0.909,
          0.934,
          0.879,
          0.889,
          0.901,
          0.304,
          0.918,
          0.144,
          0.766,
          0.106,
          0.799,
          0.632,
          0.931,
          0.908,
          0.865,
          0.945,
          0.805,
          0.893,
          0.686,
          0,
          0.922,
          0.894,
          0.829
         ],
         "z": [
          0.0597,
          0.0447,
          0.0446,
          0.045,
          0.0353,
          0.0606,
          0.0576,
          0.0442,
          0.0451,
          0.0445,
          0.0346,
          0.0422,
          0.0471,
          0.0437,
          0.0432,
          0.049,
          0.0491,
          0.0366,
          0.0427,
          0.0378,
          0.0388,
          0.0406,
          0.0442,
          0.0359,
          0.0418,
          0.0403,
          0.0327,
          0.0386,
          0.0567,
          0.0488,
          0.039,
          0.0385,
          0.0404,
          0.0644,
          0.0488,
          0.0366,
          0.0384,
          0.0404,
          0.0386,
          0.0509,
          0.0597,
          0.0478,
          0.0449,
          0.0409,
          0.0489,
          0.0603,
          0.0384,
          0.0519,
          0.0384,
          0.0395,
          0.0455,
          0.0485,
          0.0394,
          0.0525,
          0.0497,
          0.0645,
          0.0489,
          0.0406,
          0.0434,
          0.0497,
          0.0381,
          0.0482,
          0.0459,
          0.0426,
          0.038,
          0.045,
          0.0411,
          0.067,
          0.0442,
          0.0429,
          0.0416,
          0.0406,
          0.0419,
          0.0373,
          0.0309,
          0.0386,
          0.0398,
          0.0328,
          0.0411,
          0.0454,
          0,
          0.0399,
          0.0363,
          0.0383,
          0.0406,
          0.0432,
          0.0464,
          0.0382,
          0.042,
          0.0521,
          0.0469,
          0.0434,
          0.0413,
          0.0427,
          0.0371,
          0.0476,
          0.057,
          0.0398,
          0.0437,
          0.0471
         ]
        },
        {
         "customdata": [
          [
           "The Groove Trio",
           "2022"
          ],
          [
           "The Three Queens",
           "2023"
          ],
          [
           "Figgy Mold",
           "2023"
          ],
          [
           "Meadow Park",
           "2022"
          ],
          [
           "The Southern Belle",
           "2022"
          ],
          [
           "Glass Trio",
           "2023"
          ],
          [
           "The Central Park North",
           "2022"
          ],
          [
           "Cole Peers trio",
           "2023"
          ],
          [
           "Madeleine West",
           "2022"
          ],
          [
           "South North",
           "2023"
          ],
          [
           "Mino Conte & Co",
           "2023"
          ],
          [
           "Newington Green",
           "2023"
          ],
          [
           "Al Fowler Trio",
           "2022"
          ],
          [
           "Grayville Trio",
           "2023"
          ],
          [
           "Hunter Paige",
           "2023"
          ],
          [
           "Magpie Jazz Trio",
           "2022"
          ],
          [
           "Arta Porting",
           "2023"
          ],
          [
           "Pimm's Trio",
           "2023"
          ],
          [
           "Songbird Trio",
           "2023"
          ],
          [
           "The Lyon Hearts",
           "2022"
          ],
          [
           "Les trois copines",
           "2022"
          ],
          [
           "The Don Mason Trio",
           "2022"
          ],
          [
           "Trio Del Norte",
           "2023"
          ],
          [
           "Dan Evans-Parker",
           "2023"
          ],
          [
           "Annie Berenson",
           "2022"
          ],
          [
           "Louie Hobbs Trio",
           "2023"
          ],
          [
           "Mayfare Trio",
           "2022"
          ],
          [
           "Noel Hayes",
           "2023"
          ],
          [
           "Matt Marantz Quartet",
           "2023"
          ],
          [
           "Herman Fred Trio",
           "2023"
          ],
          [
           "Brandon's Three",
           "2023"
          ],
          [
           "Hudson Harris & Haim",
           "2023"
          ],
          [
           "Gottfried Barber Trio",
           "2022"
          ],
          [
           "Cecil Andrews",
           "2022"
          ],
          [
           "Steve Luke & Holloway",
           "2023"
          ],
          [
           "Rossdale Junction",
           "2023"
          ],
          [
           "Norris Walker Trio",
           "2022"
          ],
          [
           "Hara Noda",
           "2021"
          ],
          [
           "Bladverk Band",
           "2023"
          ],
          [
           "Andy Luma Trio",
           "2022"
          ],
          [
           "The Levon Trio",
           "2023"
          ],
          [
           "Vendla",
           "2023"
          ],
          [
           "Mitch Coleman",
           "2023"
          ],
          [
           "Bill Walton",
           "2023"
          ],
          [
           "Felix McCoy Quartet",
           "2023"
          ],
          [
           "Lee Davis",
           "2023"
          ],
          [
           "Tanner King Trio",
           "2023"
          ],
          [
           "Kuipers & Winter",
           "2023"
          ],
          [
           "Mandevilla",
           "2022"
          ],
          [
           "Yorkville",
           "2023"
          ],
          [
           "Irvin Smith Group",
           "2023"
          ],
          [
           "The Dox Band",
           "2023"
          ],
          [
           "Tribute Trio",
           "2023"
          ],
          [
           "Songbird Trio",
           "2023"
          ],
          [
           "Eternal Time Trio",
           "2023"
          ],
          [
           "Arta Porting",
           "2023"
          ],
          [
           "Flatland Park",
           "2023"
          ],
          [
           "Garry Cooper Trio",
           "2022"
          ],
          [
           "Ornette Haynes",
           "2023"
          ],
          [
           "Mark Roswell Trio",
           "2023"
          ],
          [
           "6th Street Jazz",
           "2022"
          ],
          [
           "Soft Brush Touches",
           "2022"
          ],
          [
           "Archie Taylor",
           "2023"
          ],
          [
           "Sparrow & Bird",
           "2023"
          ],
          [
           "The Blue Green",
           "2022"
          ],
          [
           "Fulton Street Players",
           "2023"
          ],
          [
           "Anita Rosswell",
           "2023"
          ],
          [
           "Maxime Leroy Trio",
           "2022"
          ],
          [
           "Ben Lively",
           "2023"
          ],
          [
           "LaSalle Street Trio",
           "2022"
          ],
          [
           "Streetlight Trio",
           "2023"
          ],
          [
           "Jaden Berry",
           "2023"
          ],
          [
           "Ryder Quartet",
           "2023"
          ],
          [
           "William Adams",
           "2022"
          ],
          [
           "Akio",
           "2023"
          ],
          [
           "Hollbeck",
           "2023"
          ],
          [
           "Hermie",
           "2023"
          ],
          [
           "Baxter Williams",
           "2022"
          ],
          [
           "Jasmine Patterson",
           "2023"
          ],
          [
           "Southside Trio",
           "2022"
          ],
          [
           "Foster Davies",
           "2023"
          ],
          [
           "Belmont Central",
           "2023"
          ],
          [
           "Karl-Erik Trio",
           "2022"
          ],
          [
           "Tyrone Coates & Friends",
           "2023"
          ],
          [
           "Michael Stylez & Co",
           "2022"
          ],
          [
           "Jacky Bonnet Group",
           "2022"
          ],
          [
           "Kingsley Thomas",
           "2023"
          ],
          [
           "Måns & Dotter",
           "2023"
          ],
          [
           "Three Four Trio",
           "2022"
          ],
          [
           "Mornington",
           "2023"
          ],
          [
           "Jennie Reigen",
           "2023"
          ],
          [
           "Rudy Winston",
           "2022"
          ],
          [
           "The Levon Trio",
           "2023"
          ],
          [
           "Herman Fred Trio",
           "2022"
          ],
          [
           "Ikigai",
           "2023"
          ],
          [
           "Glass Trio",
           "2023"
          ],
          [
           "Ben Lively",
           "2022"
          ],
          [
           "Leeluck & Co",
           "2023"
          ],
          [
           "The Jazz Cultivators",
           "2023"
          ],
          [
           "Lennie Weston",
           "2022"
          ]
         ],
         "hovertemplate": "<b>%{hovertext}</b><br><br>genre=jazz<br>energy=%{x}<br>instrumentalness=%{y}<br>speechiness=%{z}<br>artist_name=%{customdata[0]}<br>year=%{customdata[1]}<br>cluster=%{marker.color}<extra></extra>",
         "hovertext": [
          "Barney's",
          "Muddy Trail",
          "All My Tomorrows",
          "Without A Song",
          "Fools Rush In",
          "Last Call",
          "Twenty Somethings",
          "Home town",
          "Sometime Ago",
          "The next day",
          "The Fate of Love",
          "Let's go uptown",
          "Prelude To A Kiss",
          "Strangest Sea",
          "i've got a crush on you",
          "Love To Be Happy",
          "Beautiful Sunrise",
          "Waterfall",
          "Memories Of Her Music",
          "Banks of Noon",
          "Equilibrio",
          "Sincera",
          "Things To Look Forward To",
          "Love in the First Degree",
          "Out of Wilma",
          "If I could just go back",
          "Autumn In New York",
          "Did you dream too",
          "Blue Mist",
          "Shadows",
          "Platinum Goose",
          "Summer In Central Park",
          "What A Little Moonlight Can Do",
          "I'll Take Romance",
          "Looking Forward",
          "Holograms",
          "In The Normal World",
          "The Beauty of Everyday Things",
          "Storvindeln",
          "Cabin In The Sky",
          "Leaf Line",
          "Spring Evening",
          "Conceptions",
          "Once In A While",
          "For Heaven's Sake",
          "Incognito",
          "Midnight Fairytale",
          "chemin de la lune",
          "Views Of Dawn",
          "I Wish I Knew",
          "Candy",
          "Ruby My Dear",
          "Tangerine",
          "Snowbound",
          "Dolphin Dance",
          "Quiet Sunset",
          "June in January",
          "My Fortune",
          "Canadian Trees",
          "Blue Moon",
          "Like Jazz or Something",
          "Vine Street",
          "Reverie",
          "Le jardin de l'espoir",
          "I Concentrate On You",
          "February Brings The Rain",
          "To the Moon and Back",
          "Honey, I'm Glad You're Mine",
          "Numerous Occasions",
          "The April Skies",
          "Daydreams",
          "The Meadows",
          "The Way of the Winds",
          "Witchcraft",
          "All The Way",
          "I Fall In Love Too Easily",
          "Charades",
          "My Heart Stood Still",
          "The Molly Pitchers",
          "Blue Eyes Crying In The Rain",
          "Romancing",
          "Nostalgia",
          "Just Friends",
          "Out Of The Blue",
          "Love Will Last Forever",
          "Brother Rabbit",
          "The Days Of Wine And Roses",
          "Me and You",
          "Evening Silence",
          "In The Old Fashioned Way",
          "I'll never stop loving you",
          "The Very Thought Of You",
          "Unending",
          "Small Steps",
          "I awake",
          "Breathe the Air",
          "Dipping Birds",
          "Solitaire",
          "Almost Like Being In Love",
          "Merry Monday"
         ],
         "legendgroup": "jazz",
         "marker": {
          "color": [
           2,
           2,
           2,
           2,
           2,
           2,
           2,
           1,
           2,
           2,
           2,
           2,
           2,
           2,
           2,
           2,
           2,
           2,
           2,
           2,
           2,
           2,
           2,
           2,
           2,
           2,
           2,
           2,
           1,
           2,
           2,
           2,
           2,
           2,
           2,
           2,
           2,
           2,
           2,
           2,
           2,
           1,
           2,
           2,
           2,
           2,
           2,
           1,
           2,
           2,
           2,
           2,
           2,
           2,
           2,
           2,
           2,
           2,
           2,
           2,
           2,
           2,
           2,
           2,
           2,
           2,
           2,
           2,
           2,
           2,
           2,
           2,
           2,
           2,
           2,
           2,
           2,
           2,
           2,
           2,
           2,
           2,
           2,
           2,
           2,
           2,
           2,
           2,
           2,
           2,
           2,
           2,
           2,
           2,
           2,
           2,
           2,
           2,
           2,
           2
          ],
          "coloraxis": "coloraxis",
          "line": {
           "width": 1
          },
          "opacity": 0.7,
          "size": 5,
          "symbol": "cross"
         },
         "mode": "markers",
         "name": "jazz",
         "scene": "scene",
         "showlegend": true,
         "type": "scatter3d",
         "x": [
          0.188,
          0.159,
          0.19,
          0.138,
          0.126,
          0.189,
          0.148,
          0.0745,
          0.14,
          0.144,
          0.138,
          0.239,
          0.152,
          0.188,
          0.123,
          0.0718,
          0.17,
          0.17,
          0.146,
          0.196,
          0.0942,
          0.083,
          0.259,
          0.166,
          0.215,
          0.192,
          0.152,
          0.174,
          0.244,
          0.0926,
          0.25,
          0.13,
          0.203,
          0.143,
          0.193,
          0.147,
          0.0917,
          0.28,
          0.153,
          0.167,
          0.299,
          0.247,
          0.161,
          0.145,
          0.118,
          0.105,
          0.168,
          0.0793,
          0.153,
          0.2,
          0.121,
          0.21,
          0.141,
          0.19,
          0.156,
          0.105,
          0.181,
          0.156,
          0.225,
          0.132,
          0.19,
          0.203,
          0.11,
          0.154,
          0.151,
          0.2,
          0.102,
          0.0863,
          0.155,
          0.149,
          0.0863,
          0.191,
          0.138,
          0.112,
          0.166,
          0.204,
          0.155,
          0.171,
          0.144,
          0.158,
          0.101,
          0.225,
          0.165,
          0.151,
          0.0928,
          0.106,
          0.177,
          0.15,
          0.137,
          0.174,
          0.2,
          0.132,
          0.192,
          0.0705,
          0.109,
          0.16,
          0.26,
          0.201,
          0.147,
          0.127
         ],
         "y": [
          0.935,
          0.973,
          0.947,
          0.884,
          0.902,
          0.928,
          0.958,
          0.128,
          0.893,
          0.895,
          0.541,
          0.894,
          0.904,
          0.945,
          0.589,
          0.916,
          0.879,
          0.9,
          0.926,
          0.931,
          0.225,
          0.922,
          0.807,
          0.882,
          0.828,
          0.839,
          0.931,
          0.914,
          0.101,
          0.94,
          0.898,
          0.915,
          0.94,
          0.864,
          0.966,
          0.829,
          0.973,
          0.867,
          0.711,
          0.9,
          0.913,
          0.203,
          0.296,
          0.933,
          0.931,
          0.86,
          0.971,
          0.196,
          0.846,
          0.906,
          0.418,
          0.898,
          0.9,
          0.852,
          0.965,
          0.897,
          0.769,
          0.881,
          0.91,
          0.837,
          0.939,
          0.904,
          0.926,
          0.735,
          0.865,
          0.573,
          0.927,
          0.982,
          0.944,
          0.889,
          0.948,
          0.964,
          0.904,
          0.935,
          0.836,
          0.812,
          0.814,
          0.821,
          0.949,
          0.908,
          0.42,
          0.769,
          0.816,
          0.96,
          0.745,
          0.896,
          0.817,
          0.936,
          0.906,
          0.824,
          0.839,
          0.939,
          0.923,
          0.94,
          0.372,
          0.886,
          0.946,
          0.924,
          0.976,
          0.864
         ],
         "z": [
          0.04,
          0.0339,
          0.0362,
          0.0424,
          0.0422,
          0.0341,
          0.0355,
          0.0395,
          0.0393,
          0.0396,
          0.0313,
          0.0418,
          0.04,
          0.036,
          0.0364,
          0.0336,
          0.0338,
          0.0322,
          0.033,
          0.0371,
          0.0412,
          0.0397,
          0.0315,
          0.036,
          0.0371,
          0.0368,
          0.0368,
          0.0377,
          0.0296,
          0.0434,
          0.0329,
          0.0462,
          0.0331,
          0.0381,
          0.0351,
          0.0308,
          0.0402,
          0.0332,
          0.0339,
          0.0341,
          0.0388,
          0.031,
          0.0518,
          0.0352,
          0.0349,
          0.0408,
          0.0355,
          0.0374,
          0.0402,
          0.0347,
          0.0445,
          0.0394,
          0.0331,
          0.0334,
          0.0456,
          0.0353,
          0.0363,
          0.0473,
          0.0456,
          0.0408,
          0.0303,
          0.0362,
          0.0351,
          0.0309,
          0.0347,
          0.0335,
          0.0352,
          0.0316,
          0.0366,
          0.0409,
          0.033,
          0.0323,
          0.032,
          0.0335,
          0.0406,
          0.034,
          0.0873,
          0.0383,
          0.0384,
          0.0379,
          0.0313,
          0.0345,
          0.0362,
          0.0342,
          0.0343,
          0.0338,
          0.0365,
          0.0361,
          0.0318,
          0.0352,
          0.0324,
          0.0372,
          0.0325,
          0.0446,
          0.0372,
          0.0325,
          0.0385,
          0.0348,
          0.038,
          0.0375
         ]
        },
        {
         "customdata": [
          [
           "First Aid Kit",
           "2012"
          ],
          [
           "Bon Iver",
           "2008"
          ],
          [
           "John Mayer",
           "2013"
          ],
          [
           "Sarah Jarosz",
           "2016"
          ],
          [
           "Richard Thompson",
           "1991"
          ],
          [
           "Nick Drake",
           "1972"
          ],
          [
           "James Taylor",
           "1970"
          ],
          [
           "Donovan",
           "1965"
          ],
          [
           "Iron & Wine",
           "2016"
          ],
          [
           "Angel Snow",
           "2017"
          ],
          [
           "Bob Dylan",
           "1975"
          ],
          [
           "John Prine",
           "2005"
          ],
          [
           "Dave Van Ronk",
           "1962"
          ],
          [
           "Crosby, Stills & Nash",
           "1969"
          ],
          [
           "Peter, Paul and Mary",
           "1963"
          ],
          [
           "Simon & Garfunkel",
           "1966"
          ],
          [
           "Don McLean",
           "1971"
          ],
          [
           "Iron & Wine",
           "2017"
          ],
          [
           "Ocie Elliott",
           "2018"
          ],
          [
           "Yusuf / Cat Stevens",
           "1971"
          ],
          [
           "Tom Paxton",
           "1964"
          ],
          [
           "John Prine",
           "1978"
          ],
          [
           "Aoife O'Donovan",
           "2020"
          ],
          [
           "Gordon Lightfoot",
           "1975"
          ],
          [
           "Donovan",
           "1965"
          ],
          [
           "Sarah Jarosz",
           "2021"
          ],
          [
           "Jim Croce",
           "1972"
          ],
          [
           "Mumford & Sons",
           "2009"
          ],
          [
           "Nick Drake",
           "1970"
          ],
          [
           "I'm With Her",
           "2019"
          ],
          [
           "Mary Gauthier",
           "2005"
          ],
          [
           "Tim Hardin",
           "1966"
          ],
          [
           "Townes Van Zandt",
           "1972"
          ],
          [
           "Nathaniel Rateliff",
           "2020"
          ],
          [
           "Jim Croce",
           "1973"
          ],
          [
           "John Martyn",
           "1973"
          ],
          [
           "Gordon Lightfoot",
           "1974"
          ],
          [
           "Simon & Garfunkel",
           "1966"
          ],
          [
           "Gregory Alan Isakov",
           "2007"
          ],
          [
           "Emmylou Harris",
           "2001"
          ],
          [
           "Nick Drake",
           "1972"
          ],
          [
           "The Milk Carton Kids",
           "2011"
          ],
          [
           "Townes Van Zandt",
           "1969"
          ],
          [
           "Bert Jansch",
           "1965"
          ],
          [
           "Aoife O'Donovan",
           "2022"
          ],
          [
           "Bob Dylan",
           "1969"
          ],
          [
           "Rayland Baxter",
           "2012"
          ],
          [
           "Simon & Garfunkel",
           "1970"
          ],
          [
           "Hollow Coves",
           "2017"
          ],
          [
           "Watchhouse",
           "2016"
          ]
         ],
         "hovertemplate": "<b>%{hovertext}</b><br><br>genre=folk<br>energy=%{x}<br>instrumentalness=%{y}<br>speechiness=%{z}<br>artist_name=%{customdata[0]}<br>year=%{customdata[1]}<br>cluster=%{marker.color}<extra></extra>",
         "hovertext": [
          "Wolf",
          "Skinny Love",
          "Wildfire",
          "Take Me Back",
          "1952 Vincent Black Lightning",
          "Place To Be",
          "Fire and Rain - 2019 Remaster",
          "Catch the Wind",
          "Time After Time",
          "Secret - Acoustic",
          "Shelter from the Storm",
          "Clay Pigeons",
          "Hang Me, Oh Hang Me",
          "Helplessly Hoping - 2005 Remaster",
          "Don't Think Twice, It's All Right",
          "Homeward Bound",
          "Vincent",
          "Call It Dreaming",
          "Down by the Water",
          "The Wind - Remastered 2021",
          "The Last Thing on My Mind",
          "That's the Way That the World Goes 'Round",
          "Loretta",
          "Early Morning Rain",
          "Jersey Thursday",
          "I Still Haven't Found What I'm Looking For",
          "Time in a Bottle",
          "The Cave",
          "Northern Sky",
          "Call My Name - Acoustic",
          "Mercy Now",
          "Reason To Believe",
          "Poncho & Lefty",
          "And It's Still Alright",
          "I Got a Name - Stereo Version",
          "May You Never",
          "The Watchman's Gone",
          "Kathy's Song",
          "The Stable Song",
          "Red Dirt Girl",
          "Road",
          "Michigan",
          "Lungs",
          "Angie - 2015 Remaster",
          "Passengers",
          "Girl from the North Country",
          "Olivia",
          "The Boxer",
          "The Woods - Acoustic",
          "Wildfire"
         ],
         "legendgroup": "folk",
         "marker": {
          "color": [
           1,
           1,
           1,
           1,
           1,
           1,
           1,
           1,
           1,
           1,
           1,
           1,
           1,
           1,
           1,
           1,
           1,
           1,
           1,
           1,
           1,
           1,
           1,
           1,
           1,
           1,
           1,
           1,
           2,
           1,
           1,
           1,
           1,
           0,
           1,
           2,
           1,
           1,
           1,
           1,
           2,
           1,
           1,
           2,
           1,
           1,
           1,
           1,
           1,
           1
          ],
          "coloraxis": "coloraxis",
          "line": {
           "width": 1
          },
          "opacity": 0.7,
          "size": 5,
          "symbol": "circle"
         },
         "mode": "markers",
         "name": "folk",
         "scene": "scene",
         "showlegend": true,
         "type": "scatter3d",
         "x": [
          0.746,
          0.263,
          0.665,
          0.192,
          0.209,
          0.38,
          0.271,
          0.305,
          0.247,
          0.295,
          0.241,
          0.233,
          0.0273,
          0.159,
          0.104,
          0.378,
          0.085,
          0.501,
          0.331,
          0.291,
          0.0998,
          0.454,
          0.419,
          0.272,
          0.153,
          0.141,
          0.265,
          0.499,
          0.264,
          0.186,
          0.262,
          0.238,
          0.277,
          0.492,
          0.652,
          0.168,
          0.491,
          0.188,
          0.432,
          0.447,
          0.426,
          0.241,
          0.304,
          0.224,
          0.346,
          0.142,
          0.551,
          0.488,
          0.558,
          0.352
         ],
         "y": [
          0.00105,
          0.00000568,
          0.00092,
          0.000015,
          0.00000505,
          0.152,
          0.0119,
          0.00000769,
          0.0587,
          0.000921,
          0.0000351,
          0.000611,
          0.000011,
          0,
          0.00124,
          0,
          0.00000533,
          0.0000625,
          0.000276,
          0.000446,
          0.0000822,
          0.00343,
          0.0000943,
          0.0000191,
          0.000169,
          0.00000541,
          0,
          0.0000452,
          0.694,
          0,
          0.000563,
          0,
          0,
          0.619,
          0.0000171,
          0.79,
          0.000473,
          0.0009,
          0.00239,
          0,
          0.815,
          0.00413,
          0,
          0.88,
          0.136,
          0.000197,
          0.0000288,
          0.000339,
          0.000331,
          0.262
         ],
         "z": [
          0.0425,
          0.0568,
          0.0331,
          0.034,
          0.0369,
          0.0282,
          0.0394,
          0.0296,
          0.0321,
          0.0264,
          0.0366,
          0.028,
          0.0415,
          0.0353,
          0.0307,
          0.0337,
          0.0362,
          0.0325,
          0.028,
          0.0397,
          0.0319,
          0.0615,
          0.0453,
          0.03,
          0.0359,
          0.0308,
          0.035,
          0.0375,
          0.038,
          0.0316,
          0.0281,
          0.0371,
          0.0306,
          0.0297,
          0.0403,
          0.0369,
          0.0346,
          0.031,
          0.0283,
          0.0411,
          0.0362,
          0.0349,
          0.0623,
          0.0401,
          0.0321,
          0.0382,
          0.0321,
          0.0615,
          0.0278,
          0.0278
         ]
        },
        {
         "customdata": [
          [
           "Guitar Tribute Players",
           "2013"
          ],
          [
           "Guitar Tribute Players",
           "2013"
          ],
          [
           "Guitar Tribute Players",
           "2013"
          ],
          [
           "Guitar Tribute Players",
           "2013"
          ],
          [
           "Guitar Tribute Players",
           "2013"
          ],
          [
           "Guitar Tribute Players",
           "2013"
          ],
          [
           "Guitar Tribute Players",
           "2013"
          ],
          [
           "Guitar Tribute Players",
           "2013"
          ],
          [
           "Guitar Tribute Players",
           "2013"
          ],
          [
           "Guitar Tribute Players",
           "2013"
          ],
          [
           "Guitar Tribute Players",
           "2013"
          ],
          [
           "Guitar Tribute Players",
           "2013"
          ],
          [
           "Guitar Tribute Players",
           "2013"
          ],
          [
           "Guitar Tribute Players",
           "2013"
          ],
          [
           "Guitar Tribute Players",
           "2013"
          ],
          [
           "Guitar Tribute Players",
           "2013"
          ],
          [
           "Guitar Tribute Players",
           "2013"
          ],
          [
           "Guitar Tribute Players",
           "2013"
          ],
          [
           "Guitar Tribute Players",
           "2013"
          ],
          [
           "Guitar Tribute Players",
           "2013"
          ],
          [
           "Guitar Tribute Players",
           "2013"
          ],
          [
           "Guitar Tribute Players",
           "2013"
          ],
          [
           "Guitar Tribute Players",
           "2013"
          ],
          [
           "Guitar Tribute Players",
           "2013"
          ],
          [
           "Guitar Tribute Players",
           "2013"
          ],
          [
           "Guitar Tribute Players",
           "2013"
          ],
          [
           "Guitar Tribute Players",
           "2013"
          ],
          [
           "Guitar Tribute Players",
           "2013"
          ],
          [
           "Guitar Tribute Players",
           "2013"
          ],
          [
           "Guitar Tribute Players",
           "2013"
          ],
          [
           "Guitar Tribute Players",
           "2013"
          ],
          [
           "Guitar Tribute Players",
           "2013"
          ],
          [
           "Guitar Tribute Players",
           "2013"
          ],
          [
           "Guitar Tribute Players",
           "2013"
          ],
          [
           "Guitar Tribute Players",
           "2013"
          ],
          [
           "Guitar Tribute Players",
           "2013"
          ],
          [
           "Guitar Tribute Players",
           "2013"
          ],
          [
           "Guitar Tribute Players",
           "2013"
          ],
          [
           "Guitar Tribute Players",
           "2013"
          ],
          [
           "Guitar Tribute Players",
           "2013"
          ],
          [
           "Guitar Tribute Players",
           "2012"
          ],
          [
           "Guitar Tribute Players",
           "2012"
          ],
          [
           "Guitar Tribute Players",
           "2012"
          ],
          [
           "Guitar Tribute Players",
           "2012"
          ],
          [
           "Guitar Tribute Players",
           "2012"
          ],
          [
           "Guitar Tribute Players",
           "2012"
          ],
          [
           "Guitar Tribute Players",
           "2012"
          ],
          [
           "Guitar Tribute Players",
           "2012"
          ],
          [
           "Guitar Tribute Players",
           "2012"
          ],
          [
           "Guitar Tribute Players",
           "2012"
          ],
          [
           "Guitar Tribute Players",
           "2012"
          ],
          [
           "Guitar Tribute Players",
           "2012"
          ],
          [
           "Guitar Tribute Players",
           "2012"
          ],
          [
           "Guitar Tribute Players",
           "2012"
          ],
          [
           "Guitar Tribute Players",
           "2013"
          ],
          [
           "Guitar Tribute Players",
           "2013"
          ],
          [
           "Guitar Tribute Players",
           "2013"
          ],
          [
           "Guitar Tribute Players",
           "2013"
          ],
          [
           "Guitar Tribute Players",
           "2013"
          ],
          [
           "Guitar Tribute Players",
           "2014"
          ],
          [
           "Guitar Tribute Players",
           "2014"
          ],
          [
           "Guitar Tribute Players",
           "2014"
          ],
          [
           "Guitar Tribute Players",
           "2014"
          ],
          [
           "The Man on Guitar",
           "2014"
          ],
          [
           "Guitar Tribute Players",
           "2016"
          ],
          [
           "Mattias Krantz",
           "2000"
          ],
          [
           "Mattias Krantz",
           "2016"
          ],
          [
           "The O'Neill Brothers Group",
           "2014"
          ],
          [
           "Sungha Jung",
           "2017"
          ],
          [
           "Sungha Jung",
           "2017"
          ],
          [
           "Sungha Jung",
           "2013"
          ],
          [
           "Sungha Jung",
           "2013"
          ],
          [
           "Sungha Jung",
           "2011"
          ],
          [
           "Sungha Jung",
           "2011"
          ],
          [
           "Sungha Jung",
           "2011"
          ],
          [
           "Antoine Dufour",
           "2016"
          ],
          [
           "Antoine Dufour",
           "2010"
          ],
          [
           "Antoine Dufour",
           "2008"
          ],
          [
           "Antoine Dufour",
           "2010"
          ],
          [
           "Antoine Dufour",
           "2015"
          ],
          [
           "Antoine Dufour",
           "2007"
          ],
          [
           "Guitar Tribute Players",
           "2017"
          ],
          [
           "Guitar Tribute Players",
           "2017"
          ],
          [
           "Guitar Tribute Players",
           "2017"
          ],
          [
           "Guitar Tribute Players",
           "2017"
          ],
          [
           "Guitar Tribute Players",
           "2017"
          ],
          [
           "Guitar Tribute Players",
           "2017"
          ],
          [
           "Guitar Tribute Players",
           "2017"
          ],
          [
           "Guitar Tribute Players",
           "2017"
          ],
          [
           "Guitar Tribute Players",
           "2017"
          ],
          [
           "Guitar Tribute Players",
           "2017"
          ],
          [
           "Guitar Tribute Players",
           "2017"
          ],
          [
           "Guitar Tribute Players",
           "2017"
          ],
          [
           "Guitar Tribute Players",
           "2017"
          ],
          [
           "Guitar Tribute Players",
           "2017"
          ],
          [
           "Guitar Tribute Players",
           "2017"
          ],
          [
           "Guitar Tribute Players",
           "2017"
          ],
          [
           "Guitar Tribute Players",
           "2017"
          ],
          [
           "Guitar Tribute Players",
           "2017"
          ],
          [
           "Guitar Tribute Players",
           "2017"
          ]
         ],
         "hovertemplate": "<b>%{hovertext}</b><br><br>genre=accoustic<br>energy=%{x}<br>instrumentalness=%{y}<br>speechiness=%{z}<br>artist_name=%{customdata[0]}<br>year=%{customdata[1]}<br>cluster=%{marker.color}<extra></extra>",
         "hovertext": [
          "Under the Bridge",
          "Californication",
          "Scar Tissue",
          "Otherside",
          "Soul to Squeeze",
          "Snow (Hey Oh)",
          "The Adventures of Rain Dance Maggie",
          "By The Way",
          "Dani California",
          "My Friends",
          "She Will Be Loved",
          "1,2,3,4",
          "I Will Wait",
          "Yellow",
          "Chasing Pavements",
          "Wonderwall",
          "I'm Yours",
          "Ho Hey",
          "Good Riddance (Time of Your Life)",
          "Some Nights",
          "Sex On Fire",
          "The Boxer",
          "Banana Pancakes",
          "Blackbird",
          "Mine",
          "Marry Me",
          "Just The Way You Are",
          "Free Falling",
          "Home",
          "Lucky",
          "Hallelujah",
          "The Only Exception",
          "Little Talks",
          "I Will Follow You Into The Dark",
          "Better Together",
          "Hey There Delilah",
          "Pumped Up Kicks",
          "Fix You",
          "Young and Beautiful",
          "Lights",
          "Brown Eyed Girl",
          "Just The Way You Are",
          "Somebody That I Used to Know",
          "Free Falling",
          "Dust In The Wind",
          "Beautiful Day",
          "Every Rose Has It's Thorn",
          "I Don't Want To Miss a Thing",
          "How To Save A Life",
          "The Only Exception",
          "Chasing Cars",
          "Paradise",
          "Fix You",
          "The Scientist",
          "Royals",
          "Wrecking Ball",
          "Roar",
          "Radioactive",
          "Ho Hey",
          "I'm Gonna Be (500 Miles)",
          "No Rain",
          "All About That Bass",
          "Sweet Home Alabama",
          "Rude - Acoustic Guitar Version",
          "Jolene",
          "How Far I'll Go",
          "Can't Stop The Feeling (Acoustic Instrumental)",
          "Home (Instrumental Version)",
          "Englishman in New York",
          "Fly Me to the Moon",
          "Felicity",
          "With or Without You (U2)",
          "Billie Jean",
          "More than Words",
          "Beat It",
          "1979",
          "En T'attendant",
          "30 Minutes in London",
          "Hide and Seek",
          "Talk",
          "Memories Of The Future",
          "Believer",
          "Stay",
          "Malibu",
          "Body Like a Back Road",
          "Something Just Like This",
          "That's What I Like",
          "Sign of the Times",
          "It Ain't Me",
          "Either Way",
          "Now or Never",
          "There's Nothing Holdin' Me Back",
          "Heavy",
          "Slow Hands",
          "Hurricane",
          "The Fighter",
          "Cold",
          "Craving You",
          "How Far I'll Go",
          "Human"
         ],
         "legendgroup": "accoustic",
         "marker": {
          "color": [
           2,
           2,
           2,
           2,
           2,
           2,
           2,
           2,
           2,
           2,
           2,
           2,
           2,
           2,
           2,
           2,
           2,
           2,
           2,
           2,
           2,
           2,
           2,
           2,
           2,
           2,
           2,
           2,
           2,
           2,
           2,
           2,
           2,
           2,
           2,
           2,
           2,
           2,
           2,
           2,
           2,
           2,
           2,
           2,
           2,
           2,
           2,
           2,
           2,
           2,
           2,
           2,
           2,
           2,
           2,
           2,
           2,
           2,
           2,
           2,
           2,
           2,
           2,
           2,
           2,
           2,
           2,
           2,
           2,
           2,
           0,
           2,
           2,
           2,
           2,
           0,
           2,
           2,
           2,
           0,
           2,
           2,
           2,
           2,
           2,
           2,
           1,
           2,
           2,
           2,
           2,
           2,
           2,
           2,
           2,
           2,
           2,
           2,
           2,
           2
          ],
          "coloraxis": "coloraxis",
          "line": {
           "width": 1
          },
          "opacity": 0.7,
          "size": 5,
          "symbol": "diamond"
         },
         "mode": "markers",
         "name": "accoustic",
         "scene": "scene",
         "showlegend": true,
         "type": "scatter3d",
         "x": [
          0.138,
          0.148,
          0.124,
          0.182,
          0.161,
          0.182,
          0.174,
          0.209,
          0.244,
          0.157,
          0.302,
          0.329,
          0.273,
          0.189,
          0.374,
          0.189,
          0.205,
          0.186,
          0.296,
          0.335,
          0.288,
          0.273,
          0.3,
          0.307,
          0.298,
          0.257,
          0.278,
          0.294,
          0.244,
          0.163,
          0.187,
          0.337,
          0.173,
          0.225,
          0.249,
          0.399,
          0.428,
          0.168,
          0.304,
          0.314,
          0.393,
          0.278,
          0.329,
          0.294,
          0.253,
          0.19,
          0.172,
          0.2,
          0.267,
          0.337,
          0.315,
          0.104,
          0.168,
          0.165,
          0.315,
          0.324,
          0.26,
          0.141,
          0.186,
          0.118,
          0.303,
          0.302,
          0.189,
          0.311,
          0.216,
          0.392,
          0.328,
          0.422,
          0.218,
          0.108,
          0.704,
          0.488,
          0.261,
          0.229,
          0.436,
          0.646,
          0.469,
          0.404,
          0.0996,
          0.617,
          0.516,
          0.282,
          0.321,
          0.252,
          0.267,
          0.451,
          0.327,
          0.29,
          0.189,
          0.186,
          0.265,
          0.273,
          0.216,
          0.2,
          0.308,
          0.263,
          0.247,
          0.257,
          0.276,
          0.315
         ],
         "y": [
          0.92,
          0.932,
          0.917,
          0.925,
          0.937,
          0.923,
          0.846,
          0.925,
          0.877,
          0.881,
          0.901,
          0.875,
          0.923,
          0.929,
          0.883,
          0.837,
          0.926,
          0.87,
          0.923,
          0.934,
          0.942,
          0.923,
          0.834,
          0.851,
          0.791,
          0.905,
          0.77,
          0.868,
          0.921,
          0.867,
          0.906,
          0.724,
          0.922,
          0.956,
          0.933,
          0.923,
          0.753,
          0.921,
          0.937,
          0.902,
          0.842,
          0.77,
          0.71,
          0.868,
          0.851,
          0.892,
          0.925,
          0.893,
          0.884,
          0.724,
          0.9,
          0.876,
          0.921,
          0.928,
          0.945,
          0.86,
          0.919,
          0.816,
          0.87,
          0.933,
          0.936,
          0.962,
          0.798,
          0.854,
          0.942,
          0.807,
          0.724,
          0.945,
          0.908,
          0.662,
          0.922,
          0.963,
          0.888,
          0.901,
          0.931,
          0.793,
          0.906,
          0.796,
          0.802,
          0.945,
          0.867,
          0.865,
          0.738,
          0.846,
          0.877,
          0.9,
          0.31,
          0.468,
          0.745,
          0.886,
          0.852,
          0.833,
          0.653,
          0.848,
          0.93,
          0.895,
          0.316,
          0.887,
          0.734,
          0.849
         ],
         "z": [
          0.14,
          0.0637,
          0.0852,
          0.07,
          0.0694,
          0.0504,
          0.051,
          0.0471,
          0.0755,
          0.0608,
          0.0984,
          0.0523,
          0.0348,
          0.0551,
          0.0882,
          0.0407,
          0.0917,
          0.0609,
          0.0326,
          0.0742,
          0.0787,
          0.0348,
          0.0651,
          0.0345,
          0.0585,
          0.0376,
          0.0583,
          0.0366,
          0.0426,
          0.0611,
          0.0573,
          0.035,
          0.0485,
          0.0286,
          0.0621,
          0.0509,
          0.052,
          0.0543,
          0.0752,
          0.0526,
          0.039,
          0.0583,
          0.0632,
          0.0366,
          0.0431,
          0.084,
          0.0518,
          0.0589,
          0.0702,
          0.035,
          0.093,
          0.0457,
          0.0543,
          0.0597,
          0.042,
          0.0536,
          0.0876,
          0.101,
          0.0609,
          0.177,
          0.0381,
          0.0406,
          0.057,
          0.0648,
          0.0411,
          0.0401,
          0.119,
          0.0419,
          0.0627,
          0.042,
          0.0425,
          0.0318,
          0.0667,
          0.041,
          0.0476,
          0.0333,
          0.0396,
          0.0305,
          0.098,
          0.0315,
          0.0329,
          0.0413,
          0.0529,
          0.0376,
          0.0992,
          0.078,
          0.046,
          0.0612,
          0.0488,
          0.0604,
          0.0618,
          0.0536,
          0.1,
          0.0602,
          0.0512,
          0.0477,
          0.0404,
          0.0538,
          0.0629,
          0.0553
         ]
        },
        {
         "customdata": [
          [
           "ABBA",
           "1976"
          ],
          [
           "Daft Punk",
           "2013"
          ],
          [
           "Bee Gees",
           "2020"
          ],
          [
           "Earth, Wind & Fire",
           "1979"
          ],
          [
           "Lipps Inc.",
           "2007"
          ],
          [
           "Rick James",
           "1981"
          ],
          [
           "Patrick Hernandez",
           "1978"
          ],
          [
           "The O'Jays",
           "1972"
          ],
          [
           "Diana Ross",
           "1980"
          ],
          [
           "Candi Staton",
           "1976"
          ],
          [
           "Barry White",
           "1974"
          ],
          [
           "Marvin Gaye",
           "1983"
          ],
          [
           "CHIC",
           "1978"
          ],
          [
           "Commodores",
           "1977"
          ],
          [
           "Village People",
           "1978"
          ],
          [
           "The Weather Girls",
           "1982"
          ],
          [
           "The Trammps",
           "2009"
          ],
          [
           "KC & The Sunshine Band",
           "1975"
          ],
          [
           "Kool & The Gang",
           "2018"
          ],
          [
           "The Real Thing",
           "1999"
          ],
          [
           "The Gap Band",
           "1982"
          ],
          [
           "The Jacksons",
           "2005"
          ],
          [
           "Gloria Gaynor",
           "1982"
          ],
          [
           "Average White Band",
           "1974"
          ],
          [
           "McFadden & Whitehead",
           "2021"
          ],
          [
           "Tavares",
           "1994"
          ],
          [
           "The Crusaders",
           "2007"
          ],
          [
           "Walter Murphy",
           "1977"
          ],
          [
           "The Emotions",
           "1996"
          ],
          [
           "Dan Hartman",
           "1979"
          ],
          [
           "Grace Jones",
           "1981"
          ],
          [
           "Stars On 45",
           "1981"
          ],
          [
           "Gloria Gaynor",
           "1990"
          ],
          [
           "Baccara",
           "1998"
          ],
          [
           "Evelyn \"Champagne\" King",
           "2010"
          ],
          [
           "Andrea True Connection",
           "2007"
          ],
          [
           "MFSB",
           "1973"
          ],
          [
           "Rose Royce",
           "2007"
          ],
          [
           "Kelly Marie",
           "1977"
          ],
          [
           "Loleatta Holloway",
           "1980"
          ],
          [
           "Cheryl Lynn",
           "1996"
          ],
          [
           "Anita Ward",
           "1979"
          ],
          [
           "Indeep",
           "2012"
          ],
          [
           "Donna Summer",
           "1995"
          ],
          [
           "Rufus",
           "1983"
          ],
          [
           "Hues Corporation",
           "1993"
          ],
          [
           "Kylie Minogue",
           "2000"
          ],
          [
           "Sister Sledge",
           "2017"
          ],
          [
           "Sylvester",
           "2022"
          ],
          [
           "Van McCoy",
           "1976"
          ]
         ],
         "hovertemplate": "<b>%{hovertext}</b><br><br>genre=disco<br>energy=%{x}<br>instrumentalness=%{y}<br>speechiness=%{z}<br>artist_name=%{customdata[0]}<br>year=%{customdata[1]}<br>cluster=%{marker.color}<extra></extra>",
         "hovertext": [
          "Dancing Queen",
          "Get Lucky (feat. Pharrell Williams & Nile Rodgers) - Radio Edit",
          "Stayin Alive",
          "Boogie Wonderland",
          "Funkytown - Single Version",
          "Super Freak",
          "Born to Be Alive - The Original",
          "Love Train",
          "Upside Down",
          "Young Hearts Run Free",
          "Can't Get Enough Of Your Love, Babe",
          "Got To Give It Up - Pt. 1",
          "Le Freak - 2018 Remaster",
          "Brick House",
          "Y.M.C.A.",
          "It's Raining Men - Single Version",
          "Disco Inferno",
          "That's the Way (I Like It) - 2004 Remaster",
          "Ladies Night - Single Version",
          "You To Me Are Everything",
          "Outstanding",
          "Shake Your Body (Down to the Ground) - Single Edit",
          "I Will Survive - Rerecorded",
          "Pick Up the Pieces",
          "Ain't No Stoppin' Us Now - Single Version",
          "Heaven Must Be Missing an Angel - Radio Edit",
          "Street Life - Single Edit",
          "A Fifth Of Beethoven",
          "Best of My Love",
          "Relight My Fire - Single Version",
          "Pull Up To The Bumper",
          "Stars On 45 - Original Single Edit",
          "I Am What I Am",
          "Yes Sir, I Can Boogie",
          "Love Come Down - Single Version",
          "More, More, More",
          "T.S.O.P. (The Sound of Philadelphia) (feat. The Three Degrees)",
          "Car Wash",
          "Feels Like I'm in Love - 2022 Remaster",
          "Love Sensation",
          "Got to Be Real - Single Version",
          "Ring My Bell",
          "Last Night a D.J. Saved My Life",
          "I Feel Love - Rollo & Sister Bliss Monster Mix Radio Edit",
          "Ain't Nobody (Live)",
          "Rock the Boat",
          "Your Disco Needs You",
          "He's the Greatest Dancer",
          "You Make Me Feel (Mighty Real)",
          "The Hustle - Original Mix"
         ],
         "legendgroup": "disco",
         "marker": {
          "color": [
           1,
           1,
           1,
           1,
           0,
           1,
           1,
           1,
           1,
           1,
           1,
           1,
           1,
           1,
           1,
           1,
           1,
           1,
           1,
           1,
           1,
           1,
           1,
           1,
           1,
           1,
           1,
           0,
           1,
           1,
           1,
           1,
           1,
           1,
           1,
           1,
           1,
           1,
           1,
           1,
           1,
           1,
           1,
           0,
           1,
           1,
           1,
           1,
           0,
           0
          ],
          "coloraxis": "coloraxis",
          "line": {
           "width": 1
          },
          "opacity": 0.7,
          "size": 5,
          "symbol": "square"
         },
         "mode": "markers",
         "name": "disco",
         "scene": "scene",
         "showlegend": true,
         "type": "scatter3d",
         "x": [
          0.87,
          0.811,
          0.773,
          0.756,
          0.564,
          0.794,
          0.868,
          0.572,
          0.855,
          0.652,
          0.78,
          0.847,
          0.641,
          0.782,
          0.785,
          0.888,
          0.85,
          0.877,
          0.777,
          0.909,
          0.498,
          0.803,
          0.752,
          0.853,
          0.7,
          0.576,
          0.625,
          0.506,
          0.57,
          0.662,
          0.868,
          0.653,
          0.619,
          0.755,
          0.621,
          0.792,
          0.854,
          0.706,
          0.759,
          0.755,
          0.599,
          0.541,
          0.657,
          0.786,
          0.765,
          0.726,
          0.872,
          0.856,
          0.842,
          0.875
         ],
         "y": [
          0.000939,
          0.00000107,
          0.00871,
          0.00765,
          0.65,
          0,
          0,
          0.0000144,
          0.0285,
          0.0000158,
          0.106,
          0.00062,
          0.0000642,
          0.0171,
          0,
          0.000345,
          0.00104,
          0.000656,
          0,
          0,
          0.0000157,
          0,
          0,
          0.13,
          0,
          0.0765,
          0.0000398,
          0.69,
          0.362,
          0,
          0.013,
          0.00000244,
          0.000494,
          0,
          0.00301,
          0.000139,
          0.117,
          0,
          0.00543,
          0.02,
          0.00602,
          0.0822,
          0.0000293,
          0.7,
          0.0000673,
          0,
          0.0000071,
          0.000032,
          0.661,
          0.475
         ],
         "z": [
          0.0428,
          0.038,
          0.0343,
          0.0349,
          0.0568,
          0.0531,
          0.0315,
          0.0493,
          0.0615,
          0.0427,
          0.0631,
          0.042,
          0.0589,
          0.0595,
          0.0591,
          0.0726,
          0.0413,
          0.0353,
          0.167,
          0.0965,
          0.0286,
          0.0877,
          0.0491,
          0.0427,
          0.0454,
          0.0343,
          0.0686,
          0.0408,
          0.0348,
          0.0378,
          0.0858,
          0.0618,
          0.0376,
          0.0747,
          0.0652,
          0.0311,
          0.0286,
          0.0909,
          0.0271,
          0.0749,
          0.0537,
          0.0405,
          0.205,
          0.0364,
          0.0456,
          0.0657,
          0.109,
          0.0448,
          0.0344,
          0.0741
         ]
        },
        {
         "customdata": [
          [
           "David Guetta",
           "2022"
          ],
          [
           "Frank Walker",
           "2023"
          ],
          [
           "Monocule",
           "2022"
          ],
          [
           "R3HAB",
           "2023"
          ],
          [
           "Lil Wayne",
           "2023"
          ],
          [
           "Tiësto",
           "2021"
          ],
          [
           "Tiësto",
           "2022"
          ],
          [
           "Kaskade",
           "2023"
          ],
          [
           "Don Diablo",
           "2022"
          ],
          [
           "Joel Corry",
           "2022"
          ],
          [
           "Andrew Rayel",
           "2023"
          ],
          [
           "Shouse",
           "2021"
          ],
          [
           "Steve Aoki",
           "2022"
          ],
          [
           "MEDUZA",
           "2020"
          ],
          [
           "ILLENIUM",
           "2022"
          ],
          [
           "Tiësto",
           "2023"
          ],
          [
           "Swedish House Mafia",
           "2022"
          ],
          [
           "Supermode",
           "2022"
          ],
          [
           "Dimitri Vegas & Like Mike",
           "2022"
          ],
          [
           "Jonas Blue",
           "2022"
          ],
          [
           "ILLENIUM",
           "2023"
          ],
          [
           "Alan Walker",
           "2022"
          ],
          [
           "MEDUZA",
           "2021"
          ],
          [
           "Kx5",
           "2022"
          ],
          [
           "Tiësto",
           "2022"
          ],
          [
           "Sigala",
           "2023"
          ],
          [
           "Robin Schulz",
           "2022"
          ],
          [
           "Jonas Blue",
           "2023"
          ],
          [
           "VIZE",
           "2022"
          ],
          [
           "Swedish House Mafia",
           "2022"
          ],
          [
           "Syn Cole",
           "2022"
          ],
          [
           "Lucas & Steve",
           "2023"
          ],
          [
           "Alan Walker",
           "2022"
          ],
          [
           "Tiësto",
           "2023"
          ],
          [
           "Öwnboss",
           "2022"
          ],
          [
           "Martin Garrix",
           "2021"
          ],
          [
           "DubVision",
           "2022"
          ],
          [
           "AFROJACK",
           "2021"
          ],
          [
           "Dimitri Vegas & Like Mike",
           "2022"
          ],
          [
           "David Guetta",
           "2022"
          ],
          [
           "Marshmello",
           "2023"
          ],
          [
           "Dillon Francis",
           "2022"
          ],
          [
           "Kx5",
           "2022"
          ],
          [
           "Loud Luxury",
           "2022"
          ],
          [
           "FISHER",
           "2022"
          ],
          [
           "David Guetta",
           "2022"
          ],
          [
           "AFROJACK",
           "2022"
          ],
          [
           "Martin Garrix",
           "2022"
          ],
          [
           "Mike Perry",
           "2022"
          ],
          [
           "Valentino Khan",
           "2022"
          ],
          [
           "Marshmello",
           "2022"
          ],
          [
           "Hardwell",
           "2022"
          ],
          [
           "Taylor Swift",
           "2022"
          ],
          [
           "Vintage Culture",
           "2022"
          ],
          [
           "Martin Garrix",
           "2022"
          ],
          [
           "Marshmello",
           "2023"
          ],
          [
           "070 Shake",
           "2023"
          ],
          [
           "MEDUZA",
           "2022"
          ],
          [
           "Dillon Francis",
           "2022"
          ],
          [
           "Alesso",
           "2022"
          ],
          [
           "Don Diablo",
           "2023"
          ],
          [
           "BLR",
           "2022"
          ],
          [
           "Gryffin",
           "2021"
          ],
          [
           "Marshmello",
           "2023"
          ],
          [
           "Icona Pop",
           "2023"
          ],
          [
           "Armin van Buuren",
           "2022"
          ],
          [
           "Galantis",
           "2022"
          ],
          [
           "Zombic",
           "2022"
          ],
          [
           "Matroda",
           "2020"
          ],
          [
           "Kygo",
           "2022"
          ],
          [
           "Avicii",
           "2022"
          ],
          [
           "Martin Garrix",
           "2022"
          ],
          [
           "SLANDER",
           "2022"
          ],
          [
           "Tujamo",
           "2023"
          ],
          [
           "Timmy Trumpet",
           "2022"
          ],
          [
           "Hardwell",
           "2023"
          ],
          [
           "Dabin",
           "2023"
          ],
          [
           "Tungevaag",
           "2022"
          ],
          [
           "Will Sparks",
           "2022"
          ],
          [
           "ILLENIUM",
           "2022"
          ],
          [
           "Martin Garrix",
           "2022"
          ],
          [
           "NWYR",
           "2023"
          ],
          [
           "Otto Knows",
           "2022"
          ],
          [
           "R3HAB",
           "2022"
          ],
          [
           "Hogland",
           "2022"
          ],
          [
           "Timmy Trumpet",
           "2022"
          ],
          [
           "John De Sohn",
           "2022"
          ],
          [
           "Diplo",
           "2020"
          ],
          [
           "Dynoro",
           "2022"
          ],
          [
           "Will Sparks",
           "2022"
          ],
          [
           "Frank Walker",
           "2022"
          ],
          [
           "Mike Williams",
           "2023"
          ],
          [
           "Alle Farben",
           "2022"
          ],
          [
           "MORTEN",
           "2022"
          ],
          [
           "Audien",
           "2021"
          ],
          [
           "Marc Benjamin",
           "2022"
          ],
          [
           "Klaas",
           "2023"
          ],
          [
           "NOTD",
           "2020"
          ],
          [
           "ARTBAT",
           "2022"
          ],
          [
           "Mike Candys",
           "2022"
          ]
         ],
         "hovertemplate": "<b>%{hovertext}</b><br><br>genre=edm<br>energy=%{x}<br>instrumentalness=%{y}<br>speechiness=%{z}<br>artist_name=%{customdata[0]}<br>year=%{customdata[1]}<br>cluster=%{marker.color}<extra></extra>",
         "hovertext": [
          "I'm Good (Blue)",
          "I Go Dancing (feat. Ella Henderson)",
          "Stargazing",
          "Shockwave (with Afrojack)",
          "A Milli - SIDEPIECE Remix",
          "The Motto",
          "Savage",
          "Sacrifice",
          "Journey (Take Me Where You Wanna)",
          "Lionheart (Fearless)",
          "All Falls Down",
          "Love Tonight (David Guetta Remix Edit)",
          "Whole Again (feat. John Martin)",
          "Paradise (feat. Dermot Kennedy)",
          "All That Really Matters",
          "Lay Low",
          "Heaven Takes You Home (feat. Connie Constance)",
          "Tell Me Why - MEDUZA Remix",
          "Sweet Caroline",
          "Don’t Wake Me Up",
          "Luv Me A Little",
          "Shut Up",
          "Tell It To My Heart",
          "Escape (feat. Hayla)",
          "Pump It Louder",
          "Radio",
          "On Repeat",
          "Weekends",
          "One Last Time (with R3HAB) (feat. Enny-Mae)",
          "Redlight",
          "Shadow",
          "After Midnight (feat. Xoro)",
          "The Drum",
          "Lay Low (Tiësto VIP Mix)",
          "Left & Right",
          "Pressure (feat. Tove Lo)",
          "Electricity",
          "Anywhere With You",
          "Heaven",
          "You Can’t Change Me (feat. Raye)",
          "Unity",
          "Goodies",
          "Alive (feat. The Moth & The Flame)",
          "Afterparty",
          "Yeah The Girls",
          "I'm Good (Blue) - Tiësto Remix",
          "Worlds On Fire (with R3HAB & Au/Ra)",
          "Follow",
          "I Can't Love",
          "Move It",
          "Numb - Alok Remix",
          "Nothing Else Matters vs F*CKING SOCIETY - Hardwell Mashup",
          "Anti-Hero - ILLENIUM Remix",
          "This Feeling",
          "Loop",
          "Eternal",
          "Cocoon - Martin Garrix & Space Ducks Remix",
          "Sparks",
          "Once Again",
          "Only You",
          "Not Alone",
          "Lipstick (feat. Robbie Rise)",
          "Best Is Yet To Come (with Kyle Reynolds)",
          "Party Jumpin'",
          "I Want You",
          "Love We Lost (with R3HAB)",
          "1x1",
          "Human Error",
          "Forget It",
          "Freeze",
          "My Feelings For You - Don Diablo Remix",
          "Something",
          "Picture",
          "Drop That Low (When I Dip)",
          "Party PPL",
          "Take Me Away Again",
          "Hollow",
          "I Knew It Was You",
          "Say It Again",
          "Shivering",
          "Starlight (Keep Me Afloat)",
          "Oblivion",
          "Pyramids",
          "Poison (with Timmy Trumpet x W&W)",
          "Perfect Stranger",
          "La Danse",
          "Only For The Better",
          "Turn Back Time",
          "Live And Die (feat. Sophie Simmons)",
          "Annihilate",
          "Dance on My Own (feat. Richard Judge)",
          "Dreams Come True",
          "Freedom",
          "No Good",
          "Wish It Was You",
          "Human Heart",
          "Look Into My Eyes",
          "Nobody",
          "It's Ours - Short Mix",
          "Mission Control"
         ],
         "legendgroup": "edm",
         "marker": {
          "color": [
           1,
           1,
           1,
           1,
           1,
           1,
           1,
           1,
           1,
           1,
           1,
           0,
           1,
           1,
           1,
           1,
           1,
           0,
           1,
           1,
           1,
           1,
           1,
           1,
           1,
           1,
           1,
           1,
           1,
           1,
           1,
           1,
           1,
           1,
           1,
           1,
           0,
           1,
           1,
           1,
           1,
           1,
           1,
           1,
           0,
           1,
           1,
           1,
           1,
           0,
           1,
           0,
           1,
           1,
           1,
           0,
           1,
           1,
           0,
           1,
           1,
           1,
           1,
           0,
           1,
           1,
           1,
           1,
           1,
           1,
           1,
           0,
           1,
           1,
           0,
           1,
           1,
           1,
           0,
           1,
           1,
           0,
           1,
           1,
           1,
           1,
           1,
           1,
           1,
           0,
           1,
           1,
           1,
           1,
           1,
           1,
           1,
           1,
           0,
           0
          ],
          "coloraxis": "coloraxis",
          "line": {
           "width": 1
          },
          "opacity": 0.7,
          "size": 5,
          "symbol": "x"
         },
         "mode": "markers",
         "name": "edm",
         "scene": "scene",
         "showlegend": true,
         "type": "scatter3d",
         "x": [
          0.965,
          0.797,
          0.837,
          0.988,
          0.927,
          0.763,
          0.7,
          0.956,
          0.73,
          0.967,
          0.885,
          0.989,
          0.849,
          0.595,
          0.666,
          0.855,
          0.738,
          0.928,
          0.8,
          0.747,
          0.769,
          0.614,
          0.715,
          0.798,
          0.942,
          0.866,
          0.801,
          0.937,
          0.531,
          0.63,
          0.718,
          0.697,
          0.762,
          0.831,
          0.873,
          0.558,
          0.859,
          0.743,
          0.853,
          0.955,
          0.821,
          0.865,
          0.886,
          0.836,
          0.968,
          0.96,
          0.756,
          0.78,
          0.825,
          0.894,
          0.965,
          0.854,
          0.722,
          0.685,
          0.725,
          0.869,
          0.452,
          0.891,
          0.883,
          0.917,
          0.832,
          0.92,
          0.85,
          0.895,
          0.812,
          0.783,
          0.863,
          0.931,
          0.903,
          0.486,
          0.896,
          0.939,
          0.574,
          0.799,
          0.991,
          0.743,
          0.915,
          0.878,
          0.983,
          0.907,
          0.715,
          0.921,
          0.845,
          0.937,
          0.649,
          0.844,
          0.678,
          0.783,
          0.732,
          0.855,
          0.883,
          0.808,
          0.713,
          0.904,
          0.616,
          0.894,
          0.861,
          0.773,
          0.858,
          0.841
         ],
         "y": [
          0.00000707,
          0.00000102,
          0.0631,
          0.0753,
          0.00659,
          0.0000223,
          0,
          0.0184,
          0.00104,
          0.00157,
          0,
          0.357,
          0,
          0,
          0.00000181,
          0.000263,
          0.00598,
          0.894,
          0.0000516,
          0.000194,
          0,
          0,
          0,
          0.000379,
          0.0000176,
          0.000143,
          0.00255,
          0.0000371,
          0.0174,
          0.147,
          0.000977,
          0.000154,
          0.0000656,
          0.00129,
          0.000991,
          0.324,
          0.423,
          0.00000237,
          0.000268,
          0.0286,
          0.049,
          0.00979,
          0.236,
          0.000896,
          0.773,
          0.0475,
          0.00000117,
          0.193,
          0,
          0.859,
          0.148,
          0.85,
          0.00017,
          0.406,
          0.00785,
          0.424,
          0.293,
          0.0000579,
          0.761,
          0.000347,
          0,
          0.283,
          0,
          0.517,
          0.000962,
          0,
          0.0594,
          0.00631,
          0.00532,
          0.0445,
          0.00000978,
          0.915,
          0.0117,
          0.00213,
          0.807,
          0.177,
          0.00000212,
          0.0000417,
          0.852,
          0.00000171,
          0,
          0.909,
          0.0639,
          0.0201,
          0,
          0,
          0.00000831,
          0.000933,
          0.0025,
          0.81,
          0,
          0,
          0.325,
          0.133,
          0,
          0.0000456,
          0.0000173,
          0.00000764,
          0.873,
          0.654
         ],
         "z": [
          0.0343,
          0.0513,
          0.0397,
          0.12,
          0.0422,
          0.0435,
          0.0488,
          0.287,
          0.145,
          0.0538,
          0.0537,
          0.0434,
          0.0697,
          0.0401,
          0.0512,
          0.183,
          0.0379,
          0.0371,
          0.0376,
          0.0337,
          0.0448,
          0.0761,
          0.0595,
          0.0749,
          0.185,
          0.0415,
          0.0694,
          0.033,
          0.0481,
          0.0413,
          0.04,
          0.0361,
          0.0507,
          0.0744,
          0.0338,
          0.0902,
          0.0542,
          0.0302,
          0.03,
          0.0755,
          0.0709,
          0.0431,
          0.0685,
          0.044,
          0.0424,
          0.0597,
          0.114,
          0.0432,
          0.044,
          0.0502,
          0.0435,
          0.0612,
          0.0438,
          0.0376,
          0.0439,
          0.164,
          0.0676,
          0.0392,
          0.0642,
          0.0438,
          0.139,
          0.141,
          0.0369,
          0.0566,
          0.0421,
          0.0501,
          0.0697,
          0.0313,
          0.141,
          0.0624,
          0.227,
          0.039,
          0.0434,
          0.177,
          0.0646,
          0.0877,
          0.0727,
          0.11,
          0.0516,
          0.163,
          0.0375,
          0.0473,
          0.0543,
          0.0827,
          0.151,
          0.0963,
          0.0268,
          0.0332,
          0.199,
          0.0322,
          0.0368,
          0.0606,
          0.3,
          0.0489,
          0.0391,
          0.0598,
          0.0803,
          0.0579,
          0.0563,
          0.105
         ]
        },
        {
         "customdata": [
          [
           "Solven",
           "2022"
          ],
          [
           "mavzy grx",
           "2022"
          ],
          [
           "HIRAD",
           "2023"
          ],
          [
           "Andy Rozz",
           "2023"
          ],
          [
           "Holly",
           "2022"
          ],
          [
           "Basslovd",
           "2023"
          ],
          [
           "Alex Kein",
           "2023"
          ],
          [
           "Markis",
           "2023"
          ],
          [
           "Bapti",
           "2023"
          ],
          [
           "Solven",
           "2023"
          ],
          [
           "Ibrahin Cuevas",
           "2023"
          ],
          [
           "DJ Wout",
           "2023"
          ],
          [
           "Minus One",
           "2023"
          ],
          [
           "Doppelgangerz",
           "2023"
          ],
          [
           "Sickrate",
           "2022"
          ],
          [
           "Sol Good",
           "2023"
          ],
          [
           "Sebastian Mateo",
           "2023"
          ],
          [
           "Dos Lonely Boys",
           "2023"
          ],
          [
           "Lost Vector",
           "2023"
          ],
          [
           "Dead Weight",
           "2023"
          ],
          [
           "STVSH",
           "2023"
          ],
          [
           "OverSky",
           "2022"
          ],
          [
           "Within The Void",
           "2023"
          ],
          [
           "Shapeshftr",
           "2023"
          ],
          [
           "Lavier",
           "2023"
          ],
          [
           "Lucles",
           "2022"
          ],
          [
           "FISHTANk",
           "2022"
          ],
          [
           "Dead Weight",
           "2023"
          ],
          [
           "Kahji",
           "2023"
          ],
          [
           "sollydass",
           "2022"
          ],
          [
           "Ailow",
           "2023"
          ],
          [
           "L.A",
           "2022"
          ],
          [
           "Desputes",
           "2023"
          ],
          [
           "FISHTANk",
           "2023"
          ],
          [
           "MOODY",
           "2023"
          ],
          [
           "Cyber G",
           "2022"
          ],
          [
           "Scafetta",
           "2023"
          ],
          [
           "MISS DRE",
           "2023"
          ],
          [
           "IVRY",
           "2023"
          ],
          [
           "HIRAD",
           "2022"
          ],
          [
           "Thomas Xavier",
           "2023"
          ],
          [
           "Locknar",
           "2023"
          ],
          [
           "Bauti Tesei",
           "2022"
          ],
          [
           "Ahee",
           "2023"
          ],
          [
           "Tom Colontonio",
           "2022"
          ],
          [
           "Jack & James",
           "2022"
          ],
          [
           "Desputes",
           "2023"
          ],
          [
           "mISHØ",
           "2023"
          ],
          [
           "SwitchBlade",
           "2022"
          ],
          [
           "Solven",
           "2022"
          ],
          [
           "Alex Silves",
           "2022"
          ],
          [
           "Cashmere",
           "2023"
          ],
          [
           "Avaya",
           "2022"
          ],
          [
           "Keerthin",
           "2022"
          ],
          [
           "G&M",
           "2022"
          ]
         ],
         "hovertemplate": "<b>%{hovertext}</b><br><br>genre=electronic<br>energy=%{x}<br>instrumentalness=%{y}<br>speechiness=%{z}<br>artist_name=%{customdata[0]}<br>year=%{customdata[1]}<br>cluster=%{marker.color}<extra></extra>",
         "hovertext": [
          "Touch the Sky",
          "Why Don't You Stay",
          "Let You Go",
          "FAST CAR",
          "Never Be Alone",
          "Just a Dream",
          "From the Stars",
          "No Sleep",
          "Overdose",
          "Rata Ta",
          "Dont Cry",
          "Take My Love",
          "Universal Nation",
          "With You",
          "Only One",
          "Transmission",
          "Home",
          "Call Me If You're Lonely",
          "Someone to Trust",
          "All Is Fair With Nick Conser",
          "BONSAI",
          "Reason",
          "Sins of The Father",
          "Will I Know",
          "The Depths",
          "I Got U",
          "Bad Intentions",
          "Here We Stand",
          "Necromancer",
          "Paint My Thoughts",
          "Barbie Doll",
          "Tell Me",
          "Friday 13th - I-K-O Remix",
          "Nobody",
          "Tu Suenos",
          "Solstice",
          "Triple Threat",
          "SEE ME GIVE IT",
          "Drowning",
          "Believer",
          "Like This",
          "Atomic Flux",
          "Blaze the F*ck Up",
          "Sauce Party",
          "Triangulate",
          "Mistakes",
          "Friday 13th - Original Mix",
          "What If",
          "Live a Lie",
          "Monster",
          "Elysianne",
          "All Of My Heart",
          "Relive Our Love",
          "California",
          "Do Wanna For"
         ],
         "legendgroup": "electronic",
         "marker": {
          "color": [
           0,
           1,
           1,
           1,
           1,
           1,
           1,
           0,
           1,
           1,
           1,
           1,
           0,
           1,
           0,
           2,
           1,
           1,
           1,
           0,
           1,
           1,
           0,
           0,
           2,
           1,
           1,
           0,
           1,
           0,
           1,
           1,
           0,
           1,
           0,
           0,
           1,
           0,
           1,
           1,
           0,
           1,
           0,
           1,
           0,
           1,
           0,
           1,
           1,
           1,
           1,
           0,
           1,
           1,
           1
          ],
          "coloraxis": "coloraxis",
          "line": {
           "width": 1
          },
          "opacity": 0.7,
          "size": 5,
          "symbol": "cross"
         },
         "mode": "markers",
         "name": "electronic",
         "scene": "scene",
         "showlegend": true,
         "type": "scatter3d",
         "x": [
          0.754,
          0.818,
          0.976,
          0.5,
          0.902,
          0.503,
          0.732,
          0.916,
          0.811,
          0.71,
          0.709,
          0.7,
          0.81,
          0.622,
          0.565,
          0.471,
          0.849,
          0.706,
          0.877,
          0.999,
          0.762,
          0.845,
          0.787,
          0.965,
          0.494,
          0.593,
          0.826,
          0.994,
          0.616,
          0.546,
          0.849,
          0.826,
          0.974,
          0.832,
          0.622,
          0.82,
          0.84,
          0.979,
          0.822,
          0.864,
          0.975,
          0.908,
          0.909,
          0.878,
          0.976,
          0.679,
          0.992,
          0.569,
          0.683,
          0.856,
          0.708,
          0.637,
          0.672,
          0.654,
          0.696
         ],
         "y": [
          0.574,
          0.0012,
          0.0779,
          0.00000258,
          0,
          0.0000347,
          0.159,
          0.443,
          0.000403,
          0.000926,
          0.00154,
          0.00244,
          0.898,
          0.298,
          0.453,
          0.683,
          0.0000901,
          0.199,
          0.000189,
          0.77,
          0.0445,
          0,
          0.615,
          0.624,
          0.895,
          0.0276,
          0.00000271,
          0.646,
          0.0653,
          0.733,
          0.258,
          0.000173,
          0.818,
          0.047,
          0.729,
          0.769,
          0.00635,
          0.86,
          0,
          0.0827,
          0.737,
          0.0000162,
          0.813,
          0.0000176,
          0.862,
          0.000491,
          0.745,
          0.00298,
          0.0000247,
          0.000522,
          0,
          0.737,
          0.0362,
          0.00207,
          0.0503
         ],
         "z": [
          0.031,
          0.12,
          0.104,
          0.0584,
          0.0415,
          0.158,
          0.0503,
          0.0468,
          0.0609,
          0.0811,
          0.048,
          0.0312,
          0.0403,
          0.171,
          0.0312,
          0.189,
          0.047,
          0.111,
          0.0845,
          0.19,
          0.0629,
          0.0373,
          0.0444,
          0.044,
          0.0411,
          0.103,
          0.0973,
          0.0815,
          0.423,
          0.159,
          0.0438,
          0.0521,
          0.0954,
          0.0358,
          0.0608,
          0.0681,
          0.19,
          0.047,
          0.0379,
          0.0562,
          0.0515,
          0.251,
          0.0922,
          0.292,
          0.0574,
          0.0605,
          0.0502,
          0.0487,
          0.0279,
          0.0303,
          0.0956,
          0.034,
          0.0417,
          0.0728,
          0.0731
         ]
        },
        {
         "customdata": [
          [
           "Riva Starr",
           "2022"
          ],
          [
           "Mau P",
           "2023"
          ],
          [
           "The Blessed Madonna",
           "2023"
          ],
          [
           "HUGEL",
           "2022"
          ],
          [
           "Schak",
           "2023"
          ],
          [
           "TECH IT DEEP",
           "2023"
          ],
          [
           "Kevin McKay",
           "2022"
          ],
          [
           "Azzecca",
           "2022"
          ],
          [
           "Gorillaz",
           "2022"
          ],
          [
           "Jengi",
           "2022"
          ],
          [
           "ESSEL",
           "2023"
          ],
          [
           "D.O.D",
           "2023"
          ],
          [
           "Something Good",
           "2022"
          ],
          [
           "DJ Snake",
           "2022"
          ],
          [
           "Floorplan",
           "2023"
          ],
          [
           "it's murph",
           "2023"
          ],
          [
           "James Hype",
           "2022"
          ],
          [
           "Gabe",
           "2022"
          ],
          [
           "HoneyLuv",
           "2022"
          ],
          [
           "Paskman",
           "2022"
          ],
          [
           "Gorgon City",
           "2023"
          ],
          [
           "Hannah Laing",
           "2023"
          ],
          [
           "Eliza Rose",
           "2022"
          ],
          [
           "ACRAZE",
           "2021"
          ],
          [
           "LF SYSTEM",
           "2022"
          ],
          [
           "Mau P",
           "2022"
          ],
          [
           "Beyoncé",
           "2022"
          ],
          [
           "Supermode",
           "2022"
          ],
          [
           "Tom Santa",
           "2022"
          ],
          [
           "ACRAZE",
           "2022"
          ],
          [
           "Bob Sinclar",
           "2022"
          ],
          [
           "Shouse",
           "2022"
          ],
          [
           "Chris Lorenzo",
           "2021"
          ],
          [
           "HUGEL",
           "2021"
          ],
          [
           "J. Worra",
           "2021"
          ],
          [
           "Raffa Fl",
           "2021"
          ],
          [
           "D.O.D",
           "2021"
          ],
          [
           "Dom Dolla",
           "2022"
          ],
          [
           "John Summit",
           "2022"
          ],
          [
           "Vintage Culture",
           "2021"
          ],
          [
           "Sam Smith",
           "2022"
          ],
          [
           "Armand Van Helden",
           "2022"
          ],
          [
           "Eelke Kleijn",
           "2022"
          ],
          [
           "Oden & Fatzo",
           "2021"
          ],
          [
           "Avicii",
           "2022"
          ],
          [
           "JADED",
           "2021"
          ],
          [
           "ANOTR",
           "2022"
          ],
          [
           "FISHER",
           "2022"
          ],
          [
           "John Summit",
           "2021"
          ],
          [
           "Ewan McVicar",
           "2021"
          ],
          [
           "HÄWK",
           "2022"
          ],
          [
           "Fred again..",
           "2021"
          ],
          [
           "BLOND:ISH",
           "2023"
          ],
          [
           "Beltran",
           "2022"
          ],
          [
           "Ian Asher",
           "2022"
          ],
          [
           "Sonny Fodera",
           "2022"
          ],
          [
           "Kevin de Vries",
           "2022"
          ],
          [
           "HUGEL",
           "2022"
          ],
          [
           "FISHER",
           "2022"
          ],
          [
           "Billen Ted",
           "2022"
          ],
          [
           "CID",
           "2022"
          ],
          [
           "Farruko",
           "2022"
          ],
          [
           "MEDUZA",
           "2022"
          ],
          [
           "James Hype",
           "2021"
          ],
          [
           "Mark Knight",
           "2022"
          ],
          [
           "Sofi Tukker",
           "2021"
          ],
          [
           "BLR",
           "2022"
          ],
          [
           "TIBASKO",
           "2022"
          ],
          [
           "Tchami",
           "2022"
          ],
          [
           "Matt Sassari",
           "2021"
          ],
          [
           "Tensnake",
           "2022"
          ],
          [
           "BLOND:ISH",
           "2022"
          ],
          [
           "San Pacho",
           "2022"
          ],
          [
           "Chris Lake",
           "2021"
          ],
          [
           "Noizu",
           "2022"
          ],
          [
           "Seamus D",
           "2021"
          ],
          [
           "Salvatore Ganacci",
           "2022"
          ],
          [
           "Ferreck Dawn",
           "2021"
          ],
          [
           "ESSEL",
           "2021"
          ],
          [
           "ARTBAT",
           "2022"
          ],
          [
           "Jethro Heston",
           "2022"
          ],
          [
           "Joel Corry",
           "2022"
          ],
          [
           "Franky Wah",
           "2022"
          ],
          [
           "La Fuente",
           "2022"
          ],
          [
           "Sonny Fodera",
           "2022"
          ],
          [
           "Anti Up",
           "2022"
          ],
          [
           "Gorgon City",
           "2022"
          ],
          [
           "Dom Dolla",
           "2021"
          ],
          [
           "ESSEL",
           "2022"
          ],
          [
           "SIDEPIECE",
           "2022"
          ],
          [
           "Rain Radio",
           "2022"
          ],
          [
           "James Hype",
           "2021"
          ],
          [
           "Cloonee",
           "2021"
          ],
          [
           "John Summit",
           "2021"
          ],
          [
           "Vintage Culture",
           "2022"
          ],
          [
           "Piero Pirupa",
           "2022"
          ],
          [
           "Honey Dijon",
           "2022"
          ],
          [
           "Franky Rizardo",
           "2021"
          ],
          [
           "JADED",
           "2022"
          ],
          [
           "CHANEY",
           "2022"
          ]
         ],
         "hovertemplate": "<b>%{hovertext}</b><br><br>genre=house<br>energy=%{x}<br>instrumentalness=%{y}<br>speechiness=%{z}<br>artist_name=%{customdata[0]}<br>year=%{customdata[1]}<br>cluster=%{marker.color}<extra></extra>",
         "hovertext": [
          "This Is The Sound",
          "Gimme That Bounce",
          "We Still Believe",
          "Marianela (Que Pasa)",
          "Moving All Around (Jumpin') (feat. Kim English) - John Summit Remix",
          "Maria Maria",
          "Work",
          "Other Side",
          "New Gold (feat. Tame Impala and Bootie Brown) - Dom Dolla Remix",
          "Bel Mercy",
          "Lennon",
          "Set Me Free",
          "Rhythm (Of The Night)",
          "Guddi Riddim",
          "We Give Thee Honor",
          "Food for the Soul",
          "Ferrari",
          "Naquele Pique",
          "Sway (feat. Dope Earth Alien)",
          "Roller Coaster",
          "Rumblah",
          "Be The One",
          "B.O.T.A. (Baddest Of Them All) - Edit",
          "Do It To It",
          "Afraid To Feel",
          "Drugs From Amsterdam",
          "BREAK MY SOUL",
          "Tell Me Why - MEDUZA Remix",
          "Rainfall (Praise You)",
          "Believe (feat. Goodboys)",
          "World Hold On - FISHER Rework",
          "Won't Forget You (Edit)",
          "California Dreamin' (feat. High Jinx)",
          "Morenita",
          "Check Out",
          "Ritmo",
          "Still Sleepless",
          "Miracle Maker",
          "La Danza",
          "You Give Me A Feeling",
          "Unholy (feat. Kim Petras) - Disclosure Remix",
          "Wings (I Won't Let You Down)",
          "Transmission - Joris Voorn Remix",
          "Lauren (I Can't Stay Forever)",
          "My Feelings For You - Mark Knight Remix",
          "Welcome To The People",
          "Relax My Eyes",
          "Yeah The Girls",
          "Human (feat. Echoes)",
          "Tell Me Something Good",
          "No Diggity",
          "Billie (loving arms)",
          "Sorry (with Madonna)",
          "Smack Yo'",
          "God On The Weekend",
          "Remember (feat. Stevie Appleton)",
          "Dance With Me",
          "Tra Tra",
          "It's A Killa",
          "People Ain't Dancing (feat. Kah-Lo)",
          "Let Me Take You",
          "Viaje",
          "Sparks",
          "Disconnected",
          "The Music Began To Play",
          "Drinkee - Vintage Culture & John Summit Remix",
          "Lipstick (feat. Robbie Rise)",
          "Hawt",
          "The Calling",
          "Give It to Me",
          "Coma Cat - Purple Disco Machine Re-Work",
          "Sete",
          "Trompeta",
          "A Drug From God",
          "More Love",
          "Like That",
          "Let You Do This (with Buy Now)",
          "Back Tomorrow",
          "Love Vibration",
          "Tibet",
          "My Love",
          "Liquor Store",
          "Under The Sun",
          "I Want You",
          "Be My One",
          "Chromatic",
          "Sidewindah (feat. Flirta D)",
          "Pump the Brakes",
          "BUBBLEGUM",
          "Don’t Keep Me Waiting",
          "079",
          "Dancing",
          "Love You Like That",
          "Make Me Feel",
          "Nightjar (feat. SHELLS)",
          "We Don’t Need - Club Edit",
          "It's Quiet Now (feat. Dope Earth Alien)",
          "Out The Fire (At The Hotel) - Radio Edit",
          "Zorro",
          "Love Again"
         ],
         "legendgroup": "house",
         "marker": {
          "color": [
           1,
           0,
           1,
           1,
           1,
           1,
           1,
           0,
           1,
           0,
           0,
           1,
           0,
           0,
           1,
           0,
           1,
           1,
           1,
           1,
           0,
           1,
           0,
           1,
           1,
           0,
           1,
           0,
           1,
           1,
           1,
           1,
           1,
           0,
           1,
           1,
           1,
           1,
           0,
           0,
           1,
           1,
           0,
           1,
           1,
           0,
           1,
           0,
           0,
           0,
           0,
           1,
           0,
           1,
           1,
           1,
           0,
           0,
           1,
           1,
           1,
           0,
           1,
           1,
           0,
           0,
           1,
           1,
           1,
           1,
           0,
           1,
           0,
           0,
           1,
           1,
           1,
           1,
           0,
           0,
           1,
           0,
           1,
           0,
           1,
           1,
           1,
           1,
           1,
           1,
           1,
           0,
           1,
           0,
           1,
           1,
           1,
           1,
           0,
           1
          ],
          "coloraxis": "coloraxis",
          "line": {
           "width": 1
          },
          "opacity": 0.7,
          "size": 5,
          "symbol": "circle"
         },
         "mode": "markers",
         "name": "house",
         "scene": "scene",
         "showlegend": true,
         "type": "scatter3d",
         "x": [
          0.967,
          0.96,
          0.805,
          0.893,
          0.701,
          0.657,
          0.948,
          0.846,
          0.897,
          0.759,
          0.943,
          0.977,
          0.946,
          0.978,
          0.937,
          0.714,
          0.69,
          0.881,
          0.878,
          0.951,
          0.812,
          0.854,
          0.906,
          0.806,
          0.912,
          0.932,
          0.887,
          0.928,
          0.862,
          0.873,
          0.883,
          0.655,
          0.911,
          0.769,
          0.675,
          0.869,
          0.738,
          0.94,
          0.88,
          0.867,
          0.783,
          0.856,
          0.838,
          0.912,
          0.95,
          0.917,
          0.535,
          0.968,
          0.856,
          0.796,
          0.777,
          0.775,
          0.783,
          0.745,
          0.7,
          0.89,
          0.704,
          0.942,
          0.914,
          0.665,
          0.908,
          0.799,
          0.891,
          0.811,
          0.936,
          0.726,
          0.92,
          0.834,
          0.873,
          0.664,
          0.978,
          0.827,
          0.918,
          0.883,
          0.951,
          0.754,
          0.712,
          0.791,
          0.903,
          0.919,
          0.784,
          0.932,
          0.916,
          0.832,
          0.906,
          0.914,
          0.936,
          0.668,
          0.803,
          0.807,
          0.7,
          0.877,
          0.656,
          0.67,
          0.863,
          0.811,
          0.818,
          0.912,
          0.881,
          0.876
         ],
         "y": [
          0.226,
          0.877,
          0.000287,
          0.00535,
          0.0052,
          0.00497,
          0.0341,
          0.769,
          0.262,
          0.651,
          0.572,
          0.0109,
          0.698,
          0.819,
          0.124,
          0.48,
          0.00006,
          0.107,
          0.26,
          0.00409,
          0.747,
          0.0441,
          0.585,
          0.0542,
          0.00362,
          0.605,
          0.00000221,
          0.894,
          0.0092,
          0.000155,
          0.00607,
          0.00816,
          0.0247,
          0.742,
          0.0818,
          0.000653,
          0.281,
          0.269,
          0.574,
          0.615,
          0.0055,
          0.0000115,
          0.927,
          0.309,
          0.00386,
          0.396,
          0.133,
          0.773,
          0.818,
          0.921,
          0.83,
          0,
          0.815,
          0.357,
          0,
          0.0149,
          0.564,
          0.563,
          0.00701,
          0.012,
          0.0891,
          0.417,
          0.0000579,
          0.176,
          0.707,
          0.776,
          0.283,
          0.000505,
          0.151,
          0.035,
          0.714,
          0.00828,
          0.864,
          0.843,
          0.0529,
          0.0111,
          0.172,
          0,
          0.617,
          0.616,
          0.000114,
          0.581,
          0.35,
          0.888,
          0.000346,
          0.162,
          0.285,
          0.0912,
          0.152,
          0.00023,
          0.0389,
          0.544,
          0.000327,
          0.828,
          0.284,
          0.0354,
          0.0792,
          0.0000592,
          0.811,
          0
         ],
         "z": [
          0.124,
          0.264,
          0.0778,
          0.0496,
          0.0598,
          0.0912,
          0.1,
          0.0478,
          0.0629,
          0.0865,
          0.108,
          0.106,
          0.0383,
          0.0595,
          0.044,
          0.0572,
          0.0493,
          0.0497,
          0.0472,
          0.0552,
          0.0835,
          0.0344,
          0.048,
          0.0886,
          0.114,
          0.0513,
          0.0826,
          0.0371,
          0.0606,
          0.0449,
          0.0584,
          0.024,
          0.144,
          0.0383,
          0.042,
          0.0945,
          0.0367,
          0.0617,
          0.0442,
          0.0499,
          0.0504,
          0.0351,
          0.0423,
          0.0652,
          0.0977,
          0.0331,
          0.034,
          0.0424,
          0.0314,
          0.0356,
          0.0498,
          0.0694,
          0.0342,
          0.135,
          0.0358,
          0.0611,
          0.0631,
          0.0656,
          0.0435,
          0.191,
          0.0593,
          0.0347,
          0.0392,
          0.109,
          0.219,
          0.0462,
          0.141,
          0.0713,
          0.0627,
          0.0484,
          0.0589,
          0.0643,
          0.0435,
          0.0625,
          0.0504,
          0.0374,
          0.0651,
          0.0478,
          0.0417,
          0.0855,
          0.0363,
          0.0912,
          0.0357,
          0.0489,
          0.0446,
          0.0547,
          0.0618,
          0.096,
          0.0713,
          0.0432,
          0.339,
          0.0497,
          0.0965,
          0.045,
          0.0384,
          0.0307,
          0.037,
          0.321,
          0.0463,
          0.0512
         ]
        },
        {
         "customdata": [
          [
           "Droplex",
           "2023"
          ],
          [
           "Patrick Scuro",
           "2022"
          ],
          [
           "Belocca",
           "2022"
          ],
          [
           "Thomas Schumacher",
           "2023"
          ],
          [
           "Maddix",
           "2022"
          ],
          [
           "Tao Andra",
           "2023"
          ],
          [
           "Luna Lucci",
           "2022"
          ],
          [
           "BEC",
           "2023"
          ],
          [
           "Space 92",
           "2023"
          ],
          [
           "U96",
           "2023"
          ],
          [
           "The YellowHeads",
           "2022"
          ],
          [
           "Daniel Levak",
           "2022"
          ],
          [
           "HIJCKD",
           "2022"
          ],
          [
           "Franck",
           "2022"
          ],
          [
           "TRYM",
           "2023"
          ],
          [
           "Juliet Fox",
           "2023"
          ],
          [
           "Kaspar",
           "2023"
          ],
          [
           "DJ Gigola",
           "2023"
          ],
          [
           "Karla Blum",
           "2023"
          ],
          [
           "Space 92",
           "2022"
          ],
          [
           "Eli Brown",
           "2023"
          ],
          [
           "Julien Riess",
           "2023"
          ],
          [
           "Jil Tanner",
           "2022"
          ],
          [
           "DESNA",
           "2022"
          ],
          [
           "Reinier Zonneveld",
           "2023"
          ],
          [
           "Jay Lumen",
           "2022"
          ],
          [
           "Chris Veron",
           "2023"
          ],
          [
           "Lilly Palmer",
           "2022"
          ],
          [
           "Dense & Pika",
           "2023"
          ],
          [
           "Mario Ochoa",
           "2023"
          ],
          [
           "Push",
           "2022"
          ],
          [
           "D72",
           "2022"
          ],
          [
           "FJAAK",
           "2022"
          ],
          [
           "Speedy & Steve",
           "2023"
          ],
          [
           "Charlotte de Witte",
           "2022"
          ],
          [
           "Ahl Iver",
           "2023"
          ],
          [
           "Fatima Hajji",
           "2022"
          ],
          [
           "Chris Liebing",
           "2023"
          ],
          [
           "NTO",
           "2022"
          ],
          [
           "Tom Wax",
           "2022"
          ],
          [
           "Enrico Sangiuliano",
           "2022"
          ],
          [
           "Will Sparks",
           "2022"
          ],
          [
           "Patrick Scuro",
           "2022"
          ],
          [
           "Planetary Assault Systems",
           "2022"
          ],
          [
           "Kobosil",
           "2022"
          ],
          [
           "Mark Dekoda",
           "2022"
          ],
          [
           "Rosa Anschütz",
           "2022"
          ],
          [
           "Marco Faraone",
           "2023"
          ],
          [
           "Mha Iri",
           "2022"
          ],
          [
           "Denise Schneider",
           "2022"
          ],
          [
           "LEVT",
           "2022"
          ],
          [
           "T78",
           "2022"
          ],
          [
           "Slin Bourgh",
           "2022"
          ],
          [
           "Felix Kröcher",
           "2022"
          ],
          [
           "MILLA LOU",
           "2022"
          ],
          [
           "Klanglos",
           "2022"
          ],
          [
           "Anfisa Letyago",
           "2022"
          ],
          [
           "BEC",
           "2022"
          ],
          [
           "Cosmic Boys",
           "2022"
          ],
          [
           "Teenage Mutants",
           "2022"
          ]
         ],
         "hovertemplate": "<b>%{hovertext}</b><br><br>genre=techno<br>energy=%{x}<br>instrumentalness=%{y}<br>speechiness=%{z}<br>artist_name=%{customdata[0]}<br>year=%{customdata[1]}<br>cluster=%{marker.color}<extra></extra>",
         "hovertext": [
          "Unity - Original Mix",
          "Pulchra",
          "Serenity",
          "I Am Machine",
          "Heute Nacht",
          "Quiet Woman - Simina Grigoriu Remix",
          "Follow",
          "Phantasy",
          "Gravity",
          "Das Boot (V2) - D72 Remix",
          "Silence",
          "Eckstein Eckstein",
          "The Captain",
          "Hear The Sound",
          "Trinity - Amelie Lens Remix",
          "Techno in Space (Edit)",
          "Valhalla",
          "Stream State",
          "Free Your Mind - Alex Stein Remix",
          "Colonia",
          "Make You Freak",
          "The Coldest Form",
          "Analog Girl in a Digital World",
          "528 Hz Part 1",
          "Nirvana",
          "Mandala",
          "Motokobo",
          "Resonate",
          "Brunt",
          "Astro",
          "Mind Hype",
          "Finding Yourself",
          "Plan of Escape",
          "Reddo",
          "Apollo - Original Mix",
          "Reverse Psychology",
          "Cabroncete",
          "Love Those Who Fight",
          "Gamma (Joyhauser Remix)",
          "The Sound of the Underground",
          "The Sound Of Space",
          "Pills - Deborah de Luca Remix",
          "We All Unite",
          "In From The Night - Adam Beyer & Wehbba Remix",
          "Luzifer - feat. Ufo361",
          "Rave Harder Techno Bass",
          "Their Blood - Ellen Allien Remix",
          "HEY DJ",
          "You Are Mine - Original Mix",
          "Acid Voices",
          "10.2.5.",
          "Humans Love Me",
          "Into the Night",
          "Affection - Radio Edit",
          "Delirium",
          "Lonely Traveller",
          "Rosso Profondo",
          "Bring Me Up",
          "Reality",
          "Back for Rave - Original Mix"
         ],
         "legendgroup": "techno",
         "marker": {
          "color": [
           1,
           0,
           0,
           0,
           0,
           0,
           0,
           0,
           0,
           0,
           0,
           0,
           0,
           0,
           0,
           0,
           0,
           0,
           0,
           0,
           0,
           0,
           0,
           0,
           0,
           0,
           0,
           0,
           0,
           0,
           0,
           0,
           0,
           0,
           0,
           0,
           0,
           0,
           0,
           0,
           0,
           0,
           0,
           0,
           0,
           0,
           0,
           1,
           0,
           0,
           0,
           0,
           0,
           0,
           0,
           0,
           0,
           0,
           0,
           0
          ],
          "coloraxis": "coloraxis",
          "line": {
           "width": 1
          },
          "opacity": 0.7,
          "size": 5,
          "symbol": "diamond"
         },
         "mode": "markers",
         "name": "techno",
         "scene": "scene",
         "showlegend": true,
         "type": "scatter3d",
         "x": [
          0.814,
          0.978,
          0.977,
          0.84,
          0.912,
          0.916,
          0.756,
          0.896,
          0.914,
          0.911,
          0.746,
          0.937,
          0.873,
          0.953,
          0.758,
          0.9,
          0.912,
          0.629,
          0.761,
          0.969,
          0.952,
          0.943,
          0.761,
          0.771,
          0.975,
          0.812,
          0.766,
          0.929,
          0.611,
          0.95,
          0.889,
          0.948,
          0.925,
          0.98,
          0.855,
          0.987,
          0.998,
          0.566,
          0.945,
          0.925,
          0.893,
          0.76,
          0.787,
          0.978,
          0.986,
          0.888,
          0.608,
          0.719,
          0.877,
          0.858,
          0.825,
          0.874,
          0.997,
          0.673,
          0.753,
          0.807,
          0.845,
          0.837,
          0.797,
          0.99
         ],
         "y": [
          0.347,
          0.701,
          0.884,
          0.691,
          0.478,
          0.917,
          0.864,
          0.901,
          0.882,
          0.795,
          0.899,
          0.761,
          0.872,
          0.825,
          0.806,
          0.889,
          0.912,
          0.808,
          0.911,
          0.86,
          0.878,
          0.807,
          0.872,
          0.812,
          0.82,
          0.861,
          0.923,
          0.753,
          0.879,
          0.881,
          0.816,
          0.898,
          0.903,
          0.806,
          0.81,
          0.922,
          0.734,
          0.766,
          0.901,
          0.755,
          0.819,
          0.92,
          0.688,
          0.815,
          0.769,
          0.892,
          0.736,
          0.115,
          0.861,
          0.814,
          0.912,
          0.696,
          0.817,
          0.831,
          0.923,
          0.629,
          0.709,
          0.847,
          0.87,
          0.88
         ],
         "z": [
          0.0417,
          0.0888,
          0.0669,
          0.0758,
          0.0391,
          0.0629,
          0.068,
          0.126,
          0.0524,
          0.0421,
          0.0689,
          0.0373,
          0.0484,
          0.0488,
          0.0543,
          0.256,
          0.0451,
          0.0868,
          0.0581,
          0.0586,
          0.048,
          0.0544,
          0.0448,
          0.0673,
          0.0577,
          0.0639,
          0.0614,
          0.0613,
          0.0841,
          0.0419,
          0.0551,
          0.0423,
          0.0415,
          0.0892,
          0.0611,
          0.0556,
          0.0739,
          0.0389,
          0.0418,
          0.0697,
          0.0543,
          0.0708,
          0.0496,
          0.0403,
          0.043,
          0.165,
          0.0356,
          0.0678,
          0.0356,
          0.0533,
          0.0462,
          0.085,
          0.0491,
          0.043,
          0.0565,
          0.0959,
          0.0574,
          0.155,
          0.0486,
          0.0717
         ]
        },
        {
         "customdata": [
          [
           "Perturbator",
           "2018"
          ],
          [
           "Nightstop",
           "2020"
          ],
          [
           "Jeremiah Kane",
           "2018"
          ],
          [
           "Daniel Deluxe",
           "2014"
          ],
          [
           "PYLOT",
           "2019"
          ],
          [
           "Starcadian",
           "2017"
          ],
          [
           "The Algorithm",
           "2016"
          ],
          [
           "Volkor X",
           "2020"
          ],
          [
           "Volkor X",
           "2020"
          ],
          [
           "Volkor X",
           "2020"
          ],
          [
           "Volkor X",
           "2020"
          ],
          [
           "Volkor X",
           "2020"
          ],
          [
           "Volkor X",
           "2020"
          ],
          [
           "Nightstop",
           "2020"
          ],
          [
           "Nightstop",
           "2020"
          ],
          [
           "Nightstop",
           "2020"
          ],
          [
           "Nightstop",
           "2020"
          ],
          [
           "Nightstop",
           "2020"
          ],
          [
           "Volkor X",
           "2018"
          ],
          [
           "Scandroid",
           "2016"
          ],
          [
           "Celldweller",
           "2015"
          ],
          [
           "Scandroid",
           "2018"
          ],
          [
           "Fury Weekend",
           "2020"
          ],
          [
           "Fury Weekend",
           "2020"
          ],
          [
           "Fury Weekend",
           "2018"
          ],
          [
           "Carpenter Brut",
           "2018"
          ],
          [
           "Carpenter Brut",
           "2018"
          ],
          [
           "Carpenter Brut",
           "2015"
          ],
          [
           "Carpenter Brut",
           "2015"
          ],
          [
           "Carpenter Brut",
           "2015"
          ],
          [
           "Carpenter Brut",
           "2017"
          ],
          [
           "Dan Terminus",
           "2017"
          ],
          [
           "Electric Dragon",
           "2019"
          ],
          [
           "We Are Magonia",
           "2018"
          ],
          [
           "3FORCE",
           "2020"
          ],
          [
           "Vogel",
           "2016"
          ],
          [
           "Perturbator",
           "2018"
          ],
          [
           "Perturbator",
           "2016"
          ],
          [
           "Perturbator",
           "2016"
          ],
          [
           "Perturbator",
           "2016"
          ],
          [
           "Perturbator",
           "2014"
          ],
          [
           "Perturbator",
           "2014"
          ],
          [
           "Perturbator",
           "2014"
          ],
          [
           "Perturbator",
           "2012"
          ],
          [
           "Perturbator",
           "2012"
          ],
          [
           "Perturbator",
           "2012"
          ],
          [
           "Moonrunner83",
           "2018"
          ],
          [
           "Dynatron",
           "2012"
          ],
          [
           "PYLOT",
           "2020"
          ],
          [
           "Killigrew",
           "2020"
          ],
          [
           "Essenger",
           "2020"
          ],
          [
           "PYLOT",
           "2019"
          ],
          [
           "Volkor X",
           "2020"
          ],
          [
           "Volkor X",
           "2017"
          ],
          [
           "Fury Weekend",
           "2017"
          ],
          [
           "Fury Weekend",
           "2020"
          ],
          [
           "Fury Weekend",
           "2020"
          ],
          [
           "Fury Weekend",
           "2019"
          ],
          [
           "Blackmill",
           "2015"
          ],
          [
           "Fury Weekend",
           "2021"
          ],
          [
           "The Anix",
           "2021"
          ],
          [
           "Fury Weekend",
           "2019"
          ],
          [
           "Fury Weekend",
           "2019"
          ],
          [
           "Straplocked",
           "2018"
          ],
          [
           "Straplocked",
           "2018"
          ],
          [
           "DEADLIFE",
           "2017"
          ],
          [
           "Danger",
           "2017"
          ],
          [
           "Hollywood Burns",
           "2016"
          ],
          [
           "Hollywood Burns",
           "2016"
          ],
          [
           "Hollywood Burns",
           "2016"
          ],
          [
           "Hollywood Burns",
           "2016"
          ],
          [
           "Hollywood Burns",
           "2016"
          ],
          [
           "Hollywood Burns",
           "2016"
          ],
          [
           "The Algorithm",
           "2020"
          ],
          [
           "Fury Weekend",
           "2020"
          ],
          [
           "Dynatron",
           "2021"
          ],
          [
           "Dynatron",
           "2020"
          ],
          [
           "Dynatron",
           "2016"
          ],
          [
           "Dynatron",
           "2016"
          ],
          [
           "Dynatron",
           "2016"
          ],
          [
           "Dynatron",
           "2016"
          ],
          [
           "Dynatron",
           "2016"
          ],
          [
           "Dynatron",
           "2017"
          ],
          [
           "Dynatron",
           "2017"
          ],
          [
           "Dynatron",
           "2017"
          ],
          [
           "Dynatron",
           "2017"
          ],
          [
           "Fury Weekend",
           "2021"
          ],
          [
           "The Algorithm",
           "2021"
          ],
          [
           "Velvetine",
           "2012"
          ],
          [
           "The Anix",
           "2010"
          ],
          [
           "Volkor X",
           "2021"
          ],
          [
           "Nightstop",
           "2021"
          ],
          [
           "LukHash",
           "2018"
          ],
          [
           "LukHash",
           "2018"
          ],
          [
           "LukHash",
           "2018"
          ],
          [
           "LukHash",
           "2018"
          ],
          [
           "LukHash",
           "2020"
          ],
          [
           "LukHash",
           "2020"
          ],
          [
           "LukHash",
           "2015"
          ],
          [
           "LukHash",
           "2015"
          ]
         ],
         "hovertemplate": "<b>%{hovertext}</b><br><br>genre=synthwave<br>energy=%{x}<br>instrumentalness=%{y}<br>speechiness=%{z}<br>artist_name=%{customdata[0]}<br>year=%{customdata[1]}<br>cluster=%{marker.color}<extra></extra>",
         "hovertext": [
          "Unhappy Woman (Remix)",
          "The Call",
          "Vampirevania",
          "Darkness",
          "Lost",
          "Interspace",
          "userspace - Volkor X Remix",
          "Stratos",
          "Gravity",
          "Atomic Dust",
          "Crimson Clouds",
          "Shoot Them Up",
          "This Is Our Planet Now",
          "Pursuer",
          "Heat Of The Hooker Hunt",
          "Blood And Boobies",
          "Video Game Violence",
          "Welcome To Die",
          "John Carpenter's the Fog",
          "Atom & E.E.V.",
          "The Possibilities of Purpose",
          "Thriller - Fury Weekend Remix",
          "Only In My Dreams",
          "Illumination",
          "Midnight King",
          "Hairspray Hurricane",
          "Leather Teeth",
          "Looking For Tracy Tzu",
          "Run, Sally, Run!",
          "Turbo Killer",
          "Night Stalker (From \"The Rise of the Synths\")",
          "Grimoire Blanc",
          "The Forest",
          "Electric Guillotine",
          "Shape Shifter",
          "Imperivm",
          "Castlevania III - Clockwork",
          "Neo Tokyo",
          "Disco Inferno",
          "The Uncanny Valley",
          "Perturbator's Theme",
          "Humans Are Such Easy Prey",
          "Dangerous Days",
          "Retrogenesis",
          "Raining Steel",
          "I Am the Night",
          "Streets",
          "Volcanic Machinery (Bonus Track)",
          "The Return",
          "Ascension",
          "Offworld",
          "Fearless",
          "Aftermath",
          "Enclave",
          "Another Brick In The Wall",
          "Dancekiller",
          "Automatic Love",
          "Thousand Lights",
          "Gaia",
          "Signals",
          "Want U Like I Do",
          "Euphoria (feat. Scandroid)",
          "Sleepless Nights",
          "Ray Guns Quest",
          "A World Collapsed",
          "Maverick",
          "22:41",
          "Black Saucers",
          "Californian Nightmare",
          "Cult of C.",
          "Burn Hard",
          "Enter the Yakuza Club",
          "Came to Annihilate",
          "floating point - Void Chapter Remix",
          "I Just Want You - Instrumental",
          "Origins",
          "Surveillance",
          "Throttle Up",
          "Rise to the Stars",
          "Intergalactic Highway",
          "On the Edge of Space",
          "Cosmo Black",
          "Hyperion Sunrise",
          "Aeternus Theme",
          "The Outer Rims of Traversed Space",
          "Towards the Island Universe",
          "Dr. Online",
          "dynamic recompilation - DEADLIFE Remix",
          "The Great Divide - Seven Lions Remix",
          "Cry Little Sister (The Lost Boys Theme)",
          "For Victory!",
          "Superstars On My Stereo",
          "Ghosts",
          "Destroy",
          "Drowning",
          "Lullaby",
          "Falling Down",
          "You and I",
          "Another World",
          "The Other Side"
         ],
         "legendgroup": "synthwave",
         "marker": {
          "color": [
           1,
           0,
           0,
           0,
           1,
           1,
           0,
           0,
           2,
           0,
           2,
           0,
           0,
           0,
           0,
           0,
           1,
           0,
           0,
           0,
           0,
           1,
           0,
           1,
           0,
           0,
           0,
           0,
           0,
           1,
           0,
           0,
           0,
           0,
           0,
           0,
           0,
           0,
           1,
           1,
           0,
           0,
           0,
           0,
           0,
           0,
           1,
           0,
           2,
           1,
           1,
           2,
           0,
           0,
           1,
           1,
           1,
           1,
           1,
           1,
           1,
           1,
           1,
           1,
           0,
           1,
           0,
           0,
           0,
           1,
           1,
           1,
           1,
           0,
           0,
           0,
           0,
           0,
           1,
           0,
           0,
           1,
           0,
           0,
           0,
           0,
           0,
           0,
           1,
           1,
           0,
           1,
           1,
           1,
           0,
           0,
           0,
           1,
           1,
           1
          ],
          "coloraxis": "coloraxis",
          "line": {
           "width": 1
          },
          "opacity": 0.7,
          "size": 5,
          "symbol": "square"
         },
         "mode": "markers",
         "name": "synthwave",
         "scene": "scene",
         "showlegend": true,
         "type": "scatter3d",
         "x": [
          0.742,
          0.774,
          0.974,
          0.637,
          0.8,
          0.603,
          0.9,
          0.693,
          0.452,
          0.911,
          0.414,
          0.859,
          0.963,
          0.836,
          0.724,
          0.751,
          0.842,
          0.944,
          0.859,
          0.856,
          0.764,
          0.98,
          0.892,
          0.948,
          0.874,
          0.83,
          0.933,
          0.884,
          0.992,
          0.755,
          0.928,
          0.823,
          0.721,
          0.69,
          0.973,
          0.951,
          0.827,
          0.996,
          0.955,
          0.775,
          0.984,
          0.893,
          0.813,
          0.867,
          0.919,
          0.641,
          0.556,
          0.747,
          0.492,
          0.403,
          0.737,
          0.471,
          0.635,
          0.646,
          0.936,
          0.943,
          0.969,
          0.901,
          0.734,
          0.929,
          0.876,
          0.953,
          0.934,
          0.614,
          0.727,
          0.882,
          0.85,
          0.853,
          0.81,
          0.873,
          0.721,
          0.909,
          0.868,
          0.883,
          0.945,
          0.594,
          0.69,
          0.843,
          0.809,
          0.953,
          0.834,
          0.629,
          0.547,
          0.92,
          0.791,
          0.866,
          0.932,
          0.712,
          0.785,
          0.796,
          0.845,
          0.66,
          0.883,
          0.763,
          0.845,
          0.64,
          0.885,
          0.708,
          0.954,
          0.924
         ],
         "y": [
          0,
          0.944,
          0.866,
          0.752,
          0.0457,
          0.0323,
          0.855,
          0.841,
          0.875,
          0.632,
          0.96,
          0.902,
          0.932,
          0.803,
          0.937,
          0.449,
          0.00927,
          0.943,
          0.965,
          0.836,
          0.647,
          0.0227,
          0.393,
          0.00889,
          0.886,
          0.934,
          0.936,
          0.803,
          0.878,
          0.076,
          0.905,
          0.848,
          0.835,
          0.915,
          0.849,
          0.576,
          0.874,
          0.831,
          0.0543,
          0.249,
          0.976,
          0.893,
          0.915,
          0.882,
          0.8,
          0.917,
          0.000224,
          0.667,
          0.827,
          0.00569,
          0.24,
          0.876,
          0.705,
          0.954,
          0.228,
          0.00159,
          0.00171,
          0.0308,
          0.345,
          0.000887,
          0.0135,
          0.192,
          0.00191,
          0.294,
          0.865,
          0.367,
          0.737,
          0.445,
          0.583,
          0.289,
          0.0296,
          0.0401,
          0.0508,
          0.696,
          0.864,
          0.876,
          0.929,
          0.595,
          0.111,
          0.713,
          0.589,
          0.00149,
          0.904,
          0.785,
          0.887,
          0.761,
          0.877,
          0.88,
          0.000313,
          0.372,
          0.945,
          0.221,
          0.000481,
          0.141,
          0.478,
          0.889,
          0.881,
          0.242,
          0.0066,
          0
         ],
         "z": [
          0.168,
          0.0346,
          0.164,
          0.0332,
          0.0473,
          0.0404,
          0.0599,
          0.0622,
          0.0452,
          0.0911,
          0.0354,
          0.0839,
          0.372,
          0.0361,
          0.0775,
          0.12,
          0.0302,
          0.0352,
          0.0385,
          0.0308,
          0.0394,
          0.255,
          0.0507,
          0.216,
          0.091,
          0.0533,
          0.0869,
          0.0913,
          0.135,
          0.067,
          0.0335,
          0.0606,
          0.04,
          0.0359,
          0.0434,
          0.0594,
          0.0344,
          0.085,
          0.0686,
          0.0313,
          0.038,
          0.0367,
          0.0316,
          0.0365,
          0.039,
          0.0283,
          0.0401,
          0.0334,
          0.037,
          0.0519,
          0.0358,
          0.0275,
          0.065,
          0.03,
          0.0423,
          0.265,
          0.0492,
          0.0424,
          0.0471,
          0.0541,
          0.272,
          0.0398,
          0.0467,
          0.0343,
          0.0497,
          0.0498,
          0.0306,
          0.0415,
          0.0374,
          0.0461,
          0.0366,
          0.052,
          0.0561,
          0.044,
          0.0601,
          0.0301,
          0.0275,
          0.032,
          0.0297,
          0.037,
          0.0333,
          0.0314,
          0.0357,
          0.0306,
          0.0368,
          0.0373,
          0.0736,
          0.0509,
          0.0596,
          0.0454,
          0.0673,
          0.0347,
          0.144,
          0.0323,
          0.0348,
          0.0906,
          0.0554,
          0.0488,
          0.0879,
          0.0409
         ]
        }
       ],
       "layout": {
        "coloraxis": {
         "colorbar": {
          "title": {
           "text": "cluster"
          }
         },
         "colorscale": [
          [
           0,
           "#0d0887"
          ],
          [
           0.1111111111111111,
           "#46039f"
          ],
          [
           0.2222222222222222,
           "#7201a8"
          ],
          [
           0.3333333333333333,
           "#9c179e"
          ],
          [
           0.4444444444444444,
           "#bd3786"
          ],
          [
           0.5555555555555556,
           "#d8576b"
          ],
          [
           0.6666666666666666,
           "#ed7953"
          ],
          [
           0.7777777777777778,
           "#fb9f3a"
          ],
          [
           0.8888888888888888,
           "#fdca26"
          ],
          [
           1,
           "#f0f921"
          ]
         ]
        },
        "height": 1080,
        "legend": {
         "orientation": "v",
         "title": {
          "text": "genre"
         },
         "tracegroupgap": 0,
         "x": 0,
         "xanchor": "left",
         "y": 1,
         "yanchor": "top"
        },
        "margin": {
         "t": 60
        },
        "scene": {
         "domain": {
          "x": [
           0,
           1
          ],
          "y": [
           0,
           1
          ]
         },
         "xaxis": {
          "title": {
           "text": "energy"
          }
         },
         "yaxis": {
          "title": {
           "text": "instrumentalness"
          }
         },
         "zaxis": {
          "title": {
           "text": "speechiness"
          }
         }
        },
        "template": {
         "data": {
          "bar": [
           {
            "error_x": {
             "color": "#2a3f5f"
            },
            "error_y": {
             "color": "#2a3f5f"
            },
            "marker": {
             "line": {
              "color": "#E5ECF6",
              "width": 0.5
             },
             "pattern": {
              "fillmode": "overlay",
              "size": 10,
              "solidity": 0.2
             }
            },
            "type": "bar"
           }
          ],
          "barpolar": [
           {
            "marker": {
             "line": {
              "color": "#E5ECF6",
              "width": 0.5
             },
             "pattern": {
              "fillmode": "overlay",
              "size": 10,
              "solidity": 0.2
             }
            },
            "type": "barpolar"
           }
          ],
          "carpet": [
           {
            "aaxis": {
             "endlinecolor": "#2a3f5f",
             "gridcolor": "white",
             "linecolor": "white",
             "minorgridcolor": "white",
             "startlinecolor": "#2a3f5f"
            },
            "baxis": {
             "endlinecolor": "#2a3f5f",
             "gridcolor": "white",
             "linecolor": "white",
             "minorgridcolor": "white",
             "startlinecolor": "#2a3f5f"
            },
            "type": "carpet"
           }
          ],
          "choropleth": [
           {
            "colorbar": {
             "outlinewidth": 0,
             "ticks": ""
            },
            "type": "choropleth"
           }
          ],
          "contour": [
           {
            "colorbar": {
             "outlinewidth": 0,
             "ticks": ""
            },
            "colorscale": [
             [
              0,
              "#0d0887"
             ],
             [
              0.1111111111111111,
              "#46039f"
             ],
             [
              0.2222222222222222,
              "#7201a8"
             ],
             [
              0.3333333333333333,
              "#9c179e"
             ],
             [
              0.4444444444444444,
              "#bd3786"
             ],
             [
              0.5555555555555556,
              "#d8576b"
             ],
             [
              0.6666666666666666,
              "#ed7953"
             ],
             [
              0.7777777777777778,
              "#fb9f3a"
             ],
             [
              0.8888888888888888,
              "#fdca26"
             ],
             [
              1,
              "#f0f921"
             ]
            ],
            "type": "contour"
           }
          ],
          "contourcarpet": [
           {
            "colorbar": {
             "outlinewidth": 0,
             "ticks": ""
            },
            "type": "contourcarpet"
           }
          ],
          "heatmap": [
           {
            "colorbar": {
             "outlinewidth": 0,
             "ticks": ""
            },
            "colorscale": [
             [
              0,
              "#0d0887"
             ],
             [
              0.1111111111111111,
              "#46039f"
             ],
             [
              0.2222222222222222,
              "#7201a8"
             ],
             [
              0.3333333333333333,
              "#9c179e"
             ],
             [
              0.4444444444444444,
              "#bd3786"
             ],
             [
              0.5555555555555556,
              "#d8576b"
             ],
             [
              0.6666666666666666,
              "#ed7953"
             ],
             [
              0.7777777777777778,
              "#fb9f3a"
             ],
             [
              0.8888888888888888,
              "#fdca26"
             ],
             [
              1,
              "#f0f921"
             ]
            ],
            "type": "heatmap"
           }
          ],
          "heatmapgl": [
           {
            "colorbar": {
             "outlinewidth": 0,
             "ticks": ""
            },
            "colorscale": [
             [
              0,
              "#0d0887"
             ],
             [
              0.1111111111111111,
              "#46039f"
             ],
             [
              0.2222222222222222,
              "#7201a8"
             ],
             [
              0.3333333333333333,
              "#9c179e"
             ],
             [
              0.4444444444444444,
              "#bd3786"
             ],
             [
              0.5555555555555556,
              "#d8576b"
             ],
             [
              0.6666666666666666,
              "#ed7953"
             ],
             [
              0.7777777777777778,
              "#fb9f3a"
             ],
             [
              0.8888888888888888,
              "#fdca26"
             ],
             [
              1,
              "#f0f921"
             ]
            ],
            "type": "heatmapgl"
           }
          ],
          "histogram": [
           {
            "marker": {
             "pattern": {
              "fillmode": "overlay",
              "size": 10,
              "solidity": 0.2
             }
            },
            "type": "histogram"
           }
          ],
          "histogram2d": [
           {
            "colorbar": {
             "outlinewidth": 0,
             "ticks": ""
            },
            "colorscale": [
             [
              0,
              "#0d0887"
             ],
             [
              0.1111111111111111,
              "#46039f"
             ],
             [
              0.2222222222222222,
              "#7201a8"
             ],
             [
              0.3333333333333333,
              "#9c179e"
             ],
             [
              0.4444444444444444,
              "#bd3786"
             ],
             [
              0.5555555555555556,
              "#d8576b"
             ],
             [
              0.6666666666666666,
              "#ed7953"
             ],
             [
              0.7777777777777778,
              "#fb9f3a"
             ],
             [
              0.8888888888888888,
              "#fdca26"
             ],
             [
              1,
              "#f0f921"
             ]
            ],
            "type": "histogram2d"
           }
          ],
          "histogram2dcontour": [
           {
            "colorbar": {
             "outlinewidth": 0,
             "ticks": ""
            },
            "colorscale": [
             [
              0,
              "#0d0887"
             ],
             [
              0.1111111111111111,
              "#46039f"
             ],
             [
              0.2222222222222222,
              "#7201a8"
             ],
             [
              0.3333333333333333,
              "#9c179e"
             ],
             [
              0.4444444444444444,
              "#bd3786"
             ],
             [
              0.5555555555555556,
              "#d8576b"
             ],
             [
              0.6666666666666666,
              "#ed7953"
             ],
             [
              0.7777777777777778,
              "#fb9f3a"
             ],
             [
              0.8888888888888888,
              "#fdca26"
             ],
             [
              1,
              "#f0f921"
             ]
            ],
            "type": "histogram2dcontour"
           }
          ],
          "mesh3d": [
           {
            "colorbar": {
             "outlinewidth": 0,
             "ticks": ""
            },
            "type": "mesh3d"
           }
          ],
          "parcoords": [
           {
            "line": {
             "colorbar": {
              "outlinewidth": 0,
              "ticks": ""
             }
            },
            "type": "parcoords"
           }
          ],
          "pie": [
           {
            "automargin": true,
            "type": "pie"
           }
          ],
          "scatter": [
           {
            "fillpattern": {
             "fillmode": "overlay",
             "size": 10,
             "solidity": 0.2
            },
            "type": "scatter"
           }
          ],
          "scatter3d": [
           {
            "line": {
             "colorbar": {
              "outlinewidth": 0,
              "ticks": ""
             }
            },
            "marker": {
             "colorbar": {
              "outlinewidth": 0,
              "ticks": ""
             }
            },
            "type": "scatter3d"
           }
          ],
          "scattercarpet": [
           {
            "marker": {
             "colorbar": {
              "outlinewidth": 0,
              "ticks": ""
             }
            },
            "type": "scattercarpet"
           }
          ],
          "scattergeo": [
           {
            "marker": {
             "colorbar": {
              "outlinewidth": 0,
              "ticks": ""
             }
            },
            "type": "scattergeo"
           }
          ],
          "scattergl": [
           {
            "marker": {
             "colorbar": {
              "outlinewidth": 0,
              "ticks": ""
             }
            },
            "type": "scattergl"
           }
          ],
          "scattermapbox": [
           {
            "marker": {
             "colorbar": {
              "outlinewidth": 0,
              "ticks": ""
             }
            },
            "type": "scattermapbox"
           }
          ],
          "scatterpolar": [
           {
            "marker": {
             "colorbar": {
              "outlinewidth": 0,
              "ticks": ""
             }
            },
            "type": "scatterpolar"
           }
          ],
          "scatterpolargl": [
           {
            "marker": {
             "colorbar": {
              "outlinewidth": 0,
              "ticks": ""
             }
            },
            "type": "scatterpolargl"
           }
          ],
          "scatterternary": [
           {
            "marker": {
             "colorbar": {
              "outlinewidth": 0,
              "ticks": ""
             }
            },
            "type": "scatterternary"
           }
          ],
          "surface": [
           {
            "colorbar": {
             "outlinewidth": 0,
             "ticks": ""
            },
            "colorscale": [
             [
              0,
              "#0d0887"
             ],
             [
              0.1111111111111111,
              "#46039f"
             ],
             [
              0.2222222222222222,
              "#7201a8"
             ],
             [
              0.3333333333333333,
              "#9c179e"
             ],
             [
              0.4444444444444444,
              "#bd3786"
             ],
             [
              0.5555555555555556,
              "#d8576b"
             ],
             [
              0.6666666666666666,
              "#ed7953"
             ],
             [
              0.7777777777777778,
              "#fb9f3a"
             ],
             [
              0.8888888888888888,
              "#fdca26"
             ],
             [
              1,
              "#f0f921"
             ]
            ],
            "type": "surface"
           }
          ],
          "table": [
           {
            "cells": {
             "fill": {
              "color": "#EBF0F8"
             },
             "line": {
              "color": "white"
             }
            },
            "header": {
             "fill": {
              "color": "#C8D4E3"
             },
             "line": {
              "color": "white"
             }
            },
            "type": "table"
           }
          ]
         },
         "layout": {
          "annotationdefaults": {
           "arrowcolor": "#2a3f5f",
           "arrowhead": 0,
           "arrowwidth": 1
          },
          "autotypenumbers": "strict",
          "coloraxis": {
           "colorbar": {
            "outlinewidth": 0,
            "ticks": ""
           }
          },
          "colorscale": {
           "diverging": [
            [
             0,
             "#8e0152"
            ],
            [
             0.1,
             "#c51b7d"
            ],
            [
             0.2,
             "#de77ae"
            ],
            [
             0.3,
             "#f1b6da"
            ],
            [
             0.4,
             "#fde0ef"
            ],
            [
             0.5,
             "#f7f7f7"
            ],
            [
             0.6,
             "#e6f5d0"
            ],
            [
             0.7,
             "#b8e186"
            ],
            [
             0.8,
             "#7fbc41"
            ],
            [
             0.9,
             "#4d9221"
            ],
            [
             1,
             "#276419"
            ]
           ],
           "sequential": [
            [
             0,
             "#0d0887"
            ],
            [
             0.1111111111111111,
             "#46039f"
            ],
            [
             0.2222222222222222,
             "#7201a8"
            ],
            [
             0.3333333333333333,
             "#9c179e"
            ],
            [
             0.4444444444444444,
             "#bd3786"
            ],
            [
             0.5555555555555556,
             "#d8576b"
            ],
            [
             0.6666666666666666,
             "#ed7953"
            ],
            [
             0.7777777777777778,
             "#fb9f3a"
            ],
            [
             0.8888888888888888,
             "#fdca26"
            ],
            [
             1,
             "#f0f921"
            ]
           ],
           "sequentialminus": [
            [
             0,
             "#0d0887"
            ],
            [
             0.1111111111111111,
             "#46039f"
            ],
            [
             0.2222222222222222,
             "#7201a8"
            ],
            [
             0.3333333333333333,
             "#9c179e"
            ],
            [
             0.4444444444444444,
             "#bd3786"
            ],
            [
             0.5555555555555556,
             "#d8576b"
            ],
            [
             0.6666666666666666,
             "#ed7953"
            ],
            [
             0.7777777777777778,
             "#fb9f3a"
            ],
            [
             0.8888888888888888,
             "#fdca26"
            ],
            [
             1,
             "#f0f921"
            ]
           ]
          },
          "colorway": [
           "#636efa",
           "#EF553B",
           "#00cc96",
           "#ab63fa",
           "#FFA15A",
           "#19d3f3",
           "#FF6692",
           "#B6E880",
           "#FF97FF",
           "#FECB52"
          ],
          "font": {
           "color": "#2a3f5f"
          },
          "geo": {
           "bgcolor": "white",
           "lakecolor": "white",
           "landcolor": "#E5ECF6",
           "showlakes": true,
           "showland": true,
           "subunitcolor": "white"
          },
          "hoverlabel": {
           "align": "left"
          },
          "hovermode": "closest",
          "mapbox": {
           "style": "light"
          },
          "paper_bgcolor": "white",
          "plot_bgcolor": "#E5ECF6",
          "polar": {
           "angularaxis": {
            "gridcolor": "white",
            "linecolor": "white",
            "ticks": ""
           },
           "bgcolor": "#E5ECF6",
           "radialaxis": {
            "gridcolor": "white",
            "linecolor": "white",
            "ticks": ""
           }
          },
          "scene": {
           "xaxis": {
            "backgroundcolor": "#E5ECF6",
            "gridcolor": "white",
            "gridwidth": 2,
            "linecolor": "white",
            "showbackground": true,
            "ticks": "",
            "zerolinecolor": "white"
           },
           "yaxis": {
            "backgroundcolor": "#E5ECF6",
            "gridcolor": "white",
            "gridwidth": 2,
            "linecolor": "white",
            "showbackground": true,
            "ticks": "",
            "zerolinecolor": "white"
           },
           "zaxis": {
            "backgroundcolor": "#E5ECF6",
            "gridcolor": "white",
            "gridwidth": 2,
            "linecolor": "white",
            "showbackground": true,
            "ticks": "",
            "zerolinecolor": "white"
           }
          },
          "shapedefaults": {
           "line": {
            "color": "#2a3f5f"
           }
          },
          "ternary": {
           "aaxis": {
            "gridcolor": "white",
            "linecolor": "white",
            "ticks": ""
           },
           "baxis": {
            "gridcolor": "white",
            "linecolor": "white",
            "ticks": ""
           },
           "bgcolor": "#E5ECF6",
           "caxis": {
            "gridcolor": "white",
            "linecolor": "white",
            "ticks": ""
           }
          },
          "title": {
           "x": 0.05
          },
          "xaxis": {
           "automargin": true,
           "gridcolor": "white",
           "linecolor": "white",
           "ticks": "",
           "title": {
            "standoff": 15
           },
           "zerolinecolor": "white",
           "zerolinewidth": 2
          },
          "yaxis": {
           "automargin": true,
           "gridcolor": "white",
           "linecolor": "white",
           "ticks": "",
           "title": {
            "standoff": 15
           },
           "zerolinecolor": "white",
           "zerolinewidth": 2
          }
         }
        },
        "width": 1920
       }
      }
     },
     "metadata": {},
     "output_type": "display_data"
    }
   ],
   "source": [
    "# using pca=3, 3d plot\n",
    "# df, x=X_pca[:, 0], y=X_pca[:, 1], z=X_pca[:, 2],\n",
    "# labels={\"x\": \"acousticness\", \"y\": \"instrumentalness\", \"z\": \"speechiness\"}\n",
    "\n",
    "fig = px.scatter_3d(\n",
    "    df, x=df.energy, y=df.instrumentalness, z=df.speechiness,\n",
    "    hover_data=[\"artist_name\", \"year\"],\n",
    "    color=\"cluster\",\n",
    "    symbol=\"genre\",\n",
    "    opacity=0.7,\n",
    "    hover_name=\"song_name\"\n",
    ")\n",
    "\n",
    "fig.update_layout(width=1920, height=1080)\n",
    "fig.update_layout(legend=dict(orientation=\"v\", yanchor=\"top\", y=1.0, xanchor=\"left\", x=0))\n",
    "fig.update_traces(marker=dict(size=5, line=dict(width=1)))"
   ]
  },
  {
   "cell_type": "code",
   "execution_count": 16,
   "metadata": {},
   "outputs": [
    {
     "name": "stdout",
     "output_type": "stream",
     "text": [
      "         genre  countData  total  percentage (%)\n",
      "0         rock          2    282            0.71\n",
      "1        metal          6    282            2.13\n",
      "2       grunge          7    282            2.48\n",
      "3        mambo         19    282            6.74\n",
      "4        opera         52    282           18.44\n",
      "5         folk          1    282            0.35\n",
      "6    accoustic          3    282            1.06\n",
      "7        disco          5    282            1.77\n",
      "8          edm         16    282            5.67\n",
      "9   electronic         18    282            6.38\n",
      "10       house         36    282           12.77\n",
      "11      techno         58    282           20.57\n",
      "12   synthwave         59    282           20.92\n",
      "         genre  countData  total  percentage (%)\n",
      "0         rock         48   1002            4.79\n",
      "1        metal         44   1002            4.39\n",
      "2       grunge         53   1002            5.29\n",
      "3          pop         50   1002            4.99\n",
      "4      hip-hop         50   1002            4.99\n",
      "5          rap         51   1002            5.09\n",
      "6        blues         48   1002            4.79\n",
      "7          r&b         51   1002            5.09\n",
      "8       reggae         51   1002            5.09\n",
      "9        mambo         32   1002            3.19\n",
      "10       latin        100   1002            9.98\n",
      "11     country         50   1002            4.99\n",
      "12       opera         47   1002            4.69\n",
      "13   classical         10   1002            1.00\n",
      "14        jazz          4   1002            0.40\n",
      "15        folk         45   1002            4.49\n",
      "16   accoustic          1   1002            0.10\n",
      "17       disco         45   1002            4.49\n",
      "18         edm         84   1002            8.38\n",
      "19  electronic         35   1002            3.49\n",
      "20       house         64   1002            6.39\n",
      "21      techno          2   1002            0.20\n",
      "22   synthwave         37   1002            3.69\n",
      "        genre  countData  total  percentage (%)\n",
      "0       blues          2    299            0.67\n",
      "1       mambo          4    299            1.34\n",
      "2       opera          1    299            0.33\n",
      "3   classical         90    299           30.10\n",
      "4        jazz         96    299           32.11\n",
      "5        folk          4    299            1.34\n",
      "6   accoustic         96    299           32.11\n",
      "7  electronic          2    299            0.67\n",
      "8   synthwave          4    299            1.34\n"
     ]
    },
    {
     "data": {
      "image/png": "[encoded data removed]",
      "text/plain": [
       "<Figure size 1500x500 with 1 Axes>"
      ]
     },
     "metadata": {},
     "output_type": "display_data"
    },
    {
     "data": {
      "image/png": "[encoded data removed]",
      "text/plain": [
       "<Figure size 1500x500 with 1 Axes>"
      ]
     },
     "metadata": {},
     "output_type": "display_data"
    },
    {
     "data": {
      "image/png": "[encoded data removed]",
      "text/plain": [
       "<Figure size 1500x500 with 1 Axes>"
      ]
     },
     "metadata": {},
     "output_type": "display_data"
    }
   ],
   "source": [
    "for i in sorted(df['cluster'].unique()):\n",
    "    df0 = df.loc[df['cluster'] == i].copy(deep=True)\n",
    "    df0['countData'] = df0.groupby(\"genre\")[\"genre\"].transform(lambda x: x.count())\n",
    "    df1 = df0.filter(['genre','countData'], axis=1)\n",
    "    df1 = df1.drop_duplicates()\n",
    "    df1['total'] = df1['countData'].sum()\n",
    "    df1['percentage (%)'] = ((df1.countData / df1.total)*100).round(2)\n",
    "    df1 = df1.reset_index(drop = True)\n",
    "    print(df1)\n",
    "    plt.figure(figsize=(15,5))\n",
    "    graph = sns.barplot(data=df1, x=\"genre\", y=\"percentage (%)\").set(title = f\"Music genres distribution in cluster {i}\")"
   ]
  },
  {
   "cell_type": "code",
   "execution_count": 29,
   "metadata": {},
   "outputs": [
    {
     "data": {
      "text/html": [
       "<div>\n",
       "<style scoped>\n",
       "    .dataframe tbody tr th:only-of-type {\n",
       "        vertical-align: middle;\n",
       "    }\n",
       "\n",
       "    .dataframe tbody tr th {\n",
       "        vertical-align: top;\n",
       "    }\n",
       "\n",
       "    .dataframe thead tr th {\n",
       "        text-align: left;\n",
       "    }\n",
       "\n",
       "    .dataframe thead tr:last-of-type th {\n",
       "        text-align: right;\n",
       "    }\n",
       "</style>\n",
       "<table border=\"1\" class=\"dataframe\">\n",
       "  <thead>\n",
       "    <tr>\n",
       "      <th></th>\n",
       "      <th>danceability</th>\n",
       "      <th>energy</th>\n",
       "      <th>loudness</th>\n",
       "      <th>speechiness</th>\n",
       "      <th>acousticness</th>\n",
       "      <th>instrumentalness</th>\n",
       "      <th>liveness</th>\n",
       "      <th>valence</th>\n",
       "      <th>tempo</th>\n",
       "    </tr>\n",
       "    <tr>\n",
       "      <th></th>\n",
       "      <th>mean</th>\n",
       "      <th>mean</th>\n",
       "      <th>mean</th>\n",
       "      <th>mean</th>\n",
       "      <th>mean</th>\n",
       "      <th>mean</th>\n",
       "      <th>mean</th>\n",
       "      <th>mean</th>\n",
       "      <th>mean</th>\n",
       "    </tr>\n",
       "    <tr>\n",
       "      <th>cluster</th>\n",
       "      <th></th>\n",
       "      <th></th>\n",
       "      <th></th>\n",
       "      <th></th>\n",
       "      <th></th>\n",
       "      <th></th>\n",
       "      <th></th>\n",
       "      <th></th>\n",
       "      <th></th>\n",
       "    </tr>\n",
       "  </thead>\n",
       "  <tbody>\n",
       "    <tr>\n",
       "      <th>0</th>\n",
       "      <td>0.636901</td>\n",
       "      <td>0.842564</td>\n",
       "      <td>-6.876262</td>\n",
       "      <td>0.065125</td>\n",
       "      <td>0.089713</td>\n",
       "      <td>0.750950</td>\n",
       "      <td>0.169268</td>\n",
       "      <td>0.372159</td>\n",
       "      <td>127.056298</td>\n",
       "    </tr>\n",
       "    <tr>\n",
       "      <th>1</th>\n",
       "      <td>0.642280</td>\n",
       "      <td>0.704238</td>\n",
       "      <td>-7.155487</td>\n",
       "      <td>0.091582</td>\n",
       "      <td>0.198217</td>\n",
       "      <td>0.033910</td>\n",
       "      <td>0.176916</td>\n",
       "      <td>0.535540</td>\n",
       "      <td>120.581021</td>\n",
       "    </tr>\n",
       "    <tr>\n",
       "      <th>2</th>\n",
       "      <td>0.472263</td>\n",
       "      <td>0.186235</td>\n",
       "      <td>-18.017625</td>\n",
       "      <td>0.047732</td>\n",
       "      <td>0.879255</td>\n",
       "      <td>0.840742</td>\n",
       "      <td>0.123364</td>\n",
       "      <td>0.237566</td>\n",
       "      <td>110.614227</td>\n",
       "    </tr>\n",
       "  </tbody>\n",
       "</table>\n",
       "</div>"
      ],
      "text/plain": [
       "        danceability    energy   loudness speechiness acousticness  \\\n",
       "                mean      mean       mean        mean         mean   \n",
       "cluster                                                              \n",
       "0           0.636901  0.842564  -6.876262    0.065125     0.089713   \n",
       "1           0.642280  0.704238  -7.155487    0.091582     0.198217   \n",
       "2           0.472263  0.186235 -18.017625    0.047732     0.879255   \n",
       "\n",
       "        instrumentalness  liveness   valence       tempo  \n",
       "                    mean      mean      mean        mean  \n",
       "cluster                                                   \n",
       "0               0.750950  0.169268  0.372159  127.056298  \n",
       "1               0.033910  0.176916  0.535540  120.581021  \n",
       "2               0.840742  0.123364  0.237566  110.614227  "
      ]
     },
     "execution_count": 29,
     "metadata": {},
     "output_type": "execute_result"
    }
   ],
   "source": [
    "group = df.groupby('cluster').agg(\n",
    "    {\"danceability\":['mean'], \n",
    "     \"energy\":['mean'],\n",
    "     \"loudness\":['mean'],\n",
    "     \"speechiness\":['mean'],\n",
    "     \"acousticness\":['mean'],\n",
    "     \"instrumentalness\":['mean'],\n",
    "     \"liveness\":['mean'],\n",
    "     \"valence\":['mean'],\n",
    "     \"tempo\":['mean']}\n",
    "     )\n",
    "\n",
    "group"
   ]
  },
  {
   "cell_type": "code",
   "execution_count": 18,
   "metadata": {},
   "outputs": [
    {
     "data": {
      "text/html": [
       "<div>\n",
       "<style scoped>\n",
       "    .dataframe tbody tr th:only-of-type {\n",
       "        vertical-align: middle;\n",
       "    }\n",
       "\n",
       "    .dataframe tbody tr th {\n",
       "        vertical-align: top;\n",
       "    }\n",
       "\n",
       "    .dataframe thead th {\n",
       "        text-align: right;\n",
       "    }\n",
       "</style>\n",
       "<table border=\"1\" class=\"dataframe\">\n",
       "  <thead>\n",
       "    <tr style=\"text-align: right;\">\n",
       "      <th></th>\n",
       "      <th>genre</th>\n",
       "    </tr>\n",
       "    <tr>\n",
       "      <th>cluster</th>\n",
       "      <th></th>\n",
       "    </tr>\n",
       "  </thead>\n",
       "  <tbody>\n",
       "    <tr>\n",
       "      <th>0</th>\n",
       "      <td>synthwave</td>\n",
       "    </tr>\n",
       "    <tr>\n",
       "      <th>1</th>\n",
       "      <td>latin</td>\n",
       "    </tr>\n",
       "    <tr>\n",
       "      <th>2</th>\n",
       "      <td>[accoustic, jazz]</td>\n",
       "    </tr>\n",
       "  </tbody>\n",
       "</table>\n",
       "</div>"
      ],
      "text/plain": [
       "                     genre\n",
       "cluster                   \n",
       "0                synthwave\n",
       "1                    latin\n",
       "2        [accoustic, jazz]"
      ]
     },
     "execution_count": 18,
     "metadata": {},
     "output_type": "execute_result"
    }
   ],
   "source": [
    "df.groupby([\"cluster\"])[\"genre\"].agg(pd.Series.mode).to_frame()"
   ]
  },
  {
   "cell_type": "code",
   "execution_count": 34,
   "metadata": {},
   "outputs": [
    {
     "name": "stdout",
     "output_type": "stream",
     "text": [
      "Here's a list of songs for studying:\n",
      "\n",
      "Guitar Tribute Players: Home\n",
      "Sungha Jung: Englishman in New York\n",
      "Jaden Berry: The Meadows\n",
      "Ludwig van Beethoven: Symphony No. 6 in F Major, Op. 68 \"Pastoral\": I. Awakening of Cheerful Feelings Upon Arrival in the Country: Allegro ma non troppo\n",
      "Wolfgang Amadeus Mozart: Mozart: Clarinet Concerto in A Major, K. 622: II. Adagio\n",
      "Franz Schubert: Symphony No. 8 In B Minor, D.759 - \"Unfinished\": 1. Allegro moderato\n",
      "Grayville Trio: Strangest Sea\n",
      "Tito Puente: Mambo Gozon\n",
      "Foster Davies: Romancing\n",
      "The Groove Trio: Barney's\n",
      "Nick Drake: Road\n",
      "Rudy Winston: The Very Thought Of You\n",
      "Soft Brush Touches: Vine Street\n",
      "Antonio Vivaldi: The Four Seasons - Violin Concerto in F Minor, Op. 8 No. 4, RV 297 \"Winter\": I. Allegro non molto\n",
      "Gabriel Fauré: Pelléas et Mélisande, Op. 80: 4. Sicilienne\n",
      "Eternal Time Trio: Dolphin Dance\n",
      "Al Fowler Trio: Prelude To A Kiss\n",
      "Max Richter: Spring 1 - 2012\n",
      "Tanner King Trio: Midnight Fairytale\n",
      "Archie Taylor: Reverie\n",
      "Madeleine West: Sometime Ago\n",
      "Les trois copines: Equilibrio\n",
      "Johann Strauss II: An der schönen blauen Donau, Op. 314\n",
      "Edvard Grieg: Piano Concerto in A Minor, Op. 16: I. Allegro molto moderato\n",
      "Sergei Rachmaninoff: Piano Concerto No. 2 in C Minor, Op. 18: 2. Adagio sostenuto\n",
      "Samuel Coleridge-Taylor: Petite Suite de Concert, Op. 77: III. Un sonnet d'amour\n",
      "Johann Sebastian Bach: Cello Suite No. 1 in G Major, BWV 1007: I. Prélude\n",
      "Pimm's Trio: Waterfall\n",
      "John Martyn: May You Never\n",
      "Magpie Jazz Trio: Love To Be Happy\n",
      "Johannes Brahms: Symphony No. 3 in F Major, Op. 90: I. Allegro con brio - Un poco sostenuto - Tempo I\n",
      "Jean Sibelius: Symphony No. 5 in E-Flat Major, Op. 82: 3. Allegro molto\n",
      "Trio Del Norte: Things To Look Forward To\n",
      "Pyotr Ilyich Tchaikovsky: String Sextet in D Minor, Op. 70, \"Souvenir de Florence\": I. Allegro con spirito\n",
      "Steve Luke & Holloway: Looking Forward\n",
      "Jacky Bonnet Group: Brother Rabbit\n",
      "The Dox Band: Ruby My Dear\n",
      "Herman Fred Trio: Small Steps\n",
      "Jess Gillam: Merry Christmas Mr. Lawrence (Arr. Metcalfe)\n",
      "Francis Poulenc: Piano Concerto in C-Sharp Minor, FP 146: I. Allegretto commodo - Live\n",
      "Endor: Sultan\n",
      "Jennie Reigen: I'll never stop loving you\n",
      "The Levon Trio: Unending\n",
      "Songbird Trio: Snowbound\n",
      "Nikolai Rimsky-Korsakov: Scheherazade: The Tale of the Kalendar Prince\n",
      "Dmitri Shostakovich: The Gadfly Suite, Op. 97a: VIII. Romance\n",
      "Hudson Harris & Haim: Summer In Central Park\n",
      "Fulton Street Players: February Brings The Rain\n"
     ]
    }
   ],
   "source": [
    "# recommendation for: study, training or anything\n",
    "\n",
    "user_activity = input(\"Do you feel like studying? or training? or anything? (study/gym/anything):\")\n",
    "playlist_number = int(input(\"How many songs for this session's playlist (integer):\"))\n",
    "\n",
    "if user_activity == \"study\":\n",
    "    sample_df = df[df[\"cluster\"] == 2].sample(n=playlist_number, random_state=42)\n",
    "    output_dict = {artist: song for artist, song in zip(sample_df['artist_name'], sample_df['song_name'])}\n",
    "    print(\"Here's a list of songs for studying:\")\n",
    "    print()\n",
    "    for artist, song in output_dict.items():\n",
    "        print(f\"{artist}: {song}\")\n",
    "\n",
    "elif user_activity == \"gym\":\n",
    "    sample_df = df[df[\"cluster\"] == 1].sample(n=playlist_number, random_state=42)\n",
    "    output_dict = {artist: song for artist, song in zip(sample_df['artist_name'], sample_df['song_name'])}\n",
    "    print(\"Here's a list of songs for the gym:\")\n",
    "    print()\n",
    "    for artist, song in output_dict.items():\n",
    "        print(f\"{artist}: {song}\")\n",
    "\n",
    "else:\n",
    "    sample_df = df[df[\"cluster\"] == 0].sample(n=playlist_number, random_state=42)\n",
    "    output_dict = {artist: song for artist, song in zip(sample_df['artist_name'], sample_df['song_name'])}\n",
    "    print(\"Here's a list of songs for anything:\")\n",
    "    print()\n",
    "    for artist, song in output_dict.items():\n",
    "        print(f\"{artist}: {song}\")"
   ]
  },
  {
   "cell_type": "code",
   "execution_count": null,
   "metadata": {},
   "outputs": [],
   "source": []
  }
 ],
 "metadata": {
  "kernelspec": {
   "display_name": "Python 3 (ipykernel)",
   "language": "python",
   "name": "python3"
  },
  "language_info": {
   "codemirror_mode": {
    "name": "ipython",
    "version": 3
   },
   "file_extension": ".py",
   "mimetype": "text/x-python",
   "name": "python",
   "nbconvert_exporter": "python",
   "pygments_lexer": "ipython3",
   "version": "3.11.0"
  },
  "vscode": {
   "interpreter": {
    "hash": "556bd34ae825b83842e4a9fd2569cafdf870e0833e785d54414779169992bf91"
   }
  }
 },
 "nbformat": 4,
 "nbformat_minor": 2
}
